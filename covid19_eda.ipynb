{
  "nbformat": 4,
  "nbformat_minor": 0,
  "metadata": {
    "colab": {
      "name": "covid19_eda.ipynb",
      "provenance": [],
      "authorship_tag": "ABX9TyM/WbQQzpl7Gah8PB8YzNxC"
    },
    "kernelspec": {
      "name": "python3",
      "display_name": "Python 3"
    }
  },
  "cells": [
    {
      "cell_type": "code",
      "metadata": {
        "id": "JKswm-YIpnBU",
        "colab_type": "code",
        "colab": {}
      },
      "source": [
        "import requests\n",
        "import pandas as pd\n",
        "import matplotlib.pyplot as plt\n",
        "from sklearn.linear_model import LinearRegression\n",
        "from sklearn.model_selection import train_test_split\n",
        "\n",
        "plt.rcParams['figure.facecolor'] = 'w'"
      ],
      "execution_count": 0,
      "outputs": []
    },
    {
      "cell_type": "markdown",
      "metadata": {
        "id": "mPjWbRd0qhwx",
        "colab_type": "text"
      },
      "source": [
        "# Load Data"
      ]
    },
    {
      "cell_type": "code",
      "metadata": {
        "id": "PyfOOZQEqZC4",
        "colab_type": "code",
        "colab": {}
      },
      "source": [
        "url = 'https://pomber.github.io/covid19/timeseries.json'"
      ],
      "execution_count": 0,
      "outputs": []
    },
    {
      "cell_type": "code",
      "metadata": {
        "id": "2U9zUeraqdBq",
        "colab_type": "code",
        "colab": {}
      },
      "source": [
        "response = requests.get(url)"
      ],
      "execution_count": 0,
      "outputs": []
    },
    {
      "cell_type": "code",
      "metadata": {
        "id": "qZVgKZ4PqeSx",
        "colab_type": "code",
        "colab": {}
      },
      "source": [
        "json = response.json()"
      ],
      "execution_count": 0,
      "outputs": []
    },
    {
      "cell_type": "markdown",
      "metadata": {
        "id": "2ZS4sRC3qkM1",
        "colab_type": "text"
      },
      "source": [
        "# EDA"
      ]
    },
    {
      "cell_type": "code",
      "metadata": {
        "id": "4HbN7y-zqfuQ",
        "colab_type": "code",
        "outputId": "301c3cd2-8240-4b0a-a446-786ac43ea174",
        "colab": {
          "base_uri": "https://localhost:8080/",
          "height": 712
        }
      },
      "source": [
        "pd.DataFrame(json).head()"
      ],
      "execution_count": 0,
      "outputs": [
        {
          "output_type": "execute_result",
          "data": {
            "text/html": [
              "<div>\n",
              "<style scoped>\n",
              "    .dataframe tbody tr th:only-of-type {\n",
              "        vertical-align: middle;\n",
              "    }\n",
              "\n",
              "    .dataframe tbody tr th {\n",
              "        vertical-align: top;\n",
              "    }\n",
              "\n",
              "    .dataframe thead th {\n",
              "        text-align: right;\n",
              "    }\n",
              "</style>\n",
              "<table border=\"1\" class=\"dataframe\">\n",
              "  <thead>\n",
              "    <tr style=\"text-align: right;\">\n",
              "      <th></th>\n",
              "      <th>Afghanistan</th>\n",
              "      <th>Albania</th>\n",
              "      <th>Algeria</th>\n",
              "      <th>Andorra</th>\n",
              "      <th>Angola</th>\n",
              "      <th>Antigua and Barbuda</th>\n",
              "      <th>Argentina</th>\n",
              "      <th>Armenia</th>\n",
              "      <th>Australia</th>\n",
              "      <th>Austria</th>\n",
              "      <th>Azerbaijan</th>\n",
              "      <th>Bahamas</th>\n",
              "      <th>Bahrain</th>\n",
              "      <th>Bangladesh</th>\n",
              "      <th>Barbados</th>\n",
              "      <th>Belarus</th>\n",
              "      <th>Belgium</th>\n",
              "      <th>Benin</th>\n",
              "      <th>Bhutan</th>\n",
              "      <th>Bolivia</th>\n",
              "      <th>Bosnia and Herzegovina</th>\n",
              "      <th>Brazil</th>\n",
              "      <th>Brunei</th>\n",
              "      <th>Bulgaria</th>\n",
              "      <th>Burkina Faso</th>\n",
              "      <th>Cabo Verde</th>\n",
              "      <th>Cambodia</th>\n",
              "      <th>Cameroon</th>\n",
              "      <th>Canada</th>\n",
              "      <th>Central African Republic</th>\n",
              "      <th>Chad</th>\n",
              "      <th>Chile</th>\n",
              "      <th>China</th>\n",
              "      <th>Colombia</th>\n",
              "      <th>Congo (Brazzaville)</th>\n",
              "      <th>Congo (Kinshasa)</th>\n",
              "      <th>Costa Rica</th>\n",
              "      <th>Cote d'Ivoire</th>\n",
              "      <th>Croatia</th>\n",
              "      <th>Diamond Princess</th>\n",
              "      <th>...</th>\n",
              "      <th>Tanzania</th>\n",
              "      <th>Thailand</th>\n",
              "      <th>Togo</th>\n",
              "      <th>Trinidad and Tobago</th>\n",
              "      <th>Tunisia</th>\n",
              "      <th>Turkey</th>\n",
              "      <th>Uganda</th>\n",
              "      <th>Ukraine</th>\n",
              "      <th>United Arab Emirates</th>\n",
              "      <th>United Kingdom</th>\n",
              "      <th>Uruguay</th>\n",
              "      <th>US</th>\n",
              "      <th>Uzbekistan</th>\n",
              "      <th>Venezuela</th>\n",
              "      <th>Vietnam</th>\n",
              "      <th>Zambia</th>\n",
              "      <th>Zimbabwe</th>\n",
              "      <th>Dominica</th>\n",
              "      <th>Grenada</th>\n",
              "      <th>Mozambique</th>\n",
              "      <th>Syria</th>\n",
              "      <th>Timor-Leste</th>\n",
              "      <th>Belize</th>\n",
              "      <th>Laos</th>\n",
              "      <th>Libya</th>\n",
              "      <th>West Bank and Gaza</th>\n",
              "      <th>Guinea-Bissau</th>\n",
              "      <th>Mali</th>\n",
              "      <th>Saint Kitts and Nevis</th>\n",
              "      <th>Kosovo</th>\n",
              "      <th>Burma</th>\n",
              "      <th>MS Zaandam</th>\n",
              "      <th>Botswana</th>\n",
              "      <th>Burundi</th>\n",
              "      <th>Sierra Leone</th>\n",
              "      <th>Malawi</th>\n",
              "      <th>South Sudan</th>\n",
              "      <th>Western Sahara</th>\n",
              "      <th>Sao Tome and Principe</th>\n",
              "      <th>Yemen</th>\n",
              "    </tr>\n",
              "  </thead>\n",
              "  <tbody>\n",
              "    <tr>\n",
              "      <th>0</th>\n",
              "      <td>{'date': '2020-1-22', 'confirmed': 0, 'deaths'...</td>\n",
              "      <td>{'date': '2020-1-22', 'confirmed': 0, 'deaths'...</td>\n",
              "      <td>{'date': '2020-1-22', 'confirmed': 0, 'deaths'...</td>\n",
              "      <td>{'date': '2020-1-22', 'confirmed': 0, 'deaths'...</td>\n",
              "      <td>{'date': '2020-1-22', 'confirmed': 0, 'deaths'...</td>\n",
              "      <td>{'date': '2020-1-22', 'confirmed': 0, 'deaths'...</td>\n",
              "      <td>{'date': '2020-1-22', 'confirmed': 0, 'deaths'...</td>\n",
              "      <td>{'date': '2020-1-22', 'confirmed': 0, 'deaths'...</td>\n",
              "      <td>{'date': '2020-1-22', 'confirmed': 0, 'deaths'...</td>\n",
              "      <td>{'date': '2020-1-22', 'confirmed': 0, 'deaths'...</td>\n",
              "      <td>{'date': '2020-1-22', 'confirmed': 0, 'deaths'...</td>\n",
              "      <td>{'date': '2020-1-22', 'confirmed': 0, 'deaths'...</td>\n",
              "      <td>{'date': '2020-1-22', 'confirmed': 0, 'deaths'...</td>\n",
              "      <td>{'date': '2020-1-22', 'confirmed': 0, 'deaths'...</td>\n",
              "      <td>{'date': '2020-1-22', 'confirmed': 0, 'deaths'...</td>\n",
              "      <td>{'date': '2020-1-22', 'confirmed': 0, 'deaths'...</td>\n",
              "      <td>{'date': '2020-1-22', 'confirmed': 0, 'deaths'...</td>\n",
              "      <td>{'date': '2020-1-22', 'confirmed': 0, 'deaths'...</td>\n",
              "      <td>{'date': '2020-1-22', 'confirmed': 0, 'deaths'...</td>\n",
              "      <td>{'date': '2020-1-22', 'confirmed': 0, 'deaths'...</td>\n",
              "      <td>{'date': '2020-1-22', 'confirmed': 0, 'deaths'...</td>\n",
              "      <td>{'date': '2020-1-22', 'confirmed': 0, 'deaths'...</td>\n",
              "      <td>{'date': '2020-1-22', 'confirmed': 0, 'deaths'...</td>\n",
              "      <td>{'date': '2020-1-22', 'confirmed': 0, 'deaths'...</td>\n",
              "      <td>{'date': '2020-1-22', 'confirmed': 0, 'deaths'...</td>\n",
              "      <td>{'date': '2020-1-22', 'confirmed': 0, 'deaths'...</td>\n",
              "      <td>{'date': '2020-1-22', 'confirmed': 0, 'deaths'...</td>\n",
              "      <td>{'date': '2020-1-22', 'confirmed': 0, 'deaths'...</td>\n",
              "      <td>{'date': '2020-1-22', 'confirmed': 0, 'deaths'...</td>\n",
              "      <td>{'date': '2020-1-22', 'confirmed': 0, 'deaths'...</td>\n",
              "      <td>{'date': '2020-1-22', 'confirmed': 0, 'deaths'...</td>\n",
              "      <td>{'date': '2020-1-22', 'confirmed': 0, 'deaths'...</td>\n",
              "      <td>{'date': '2020-1-22', 'confirmed': 548, 'death...</td>\n",
              "      <td>{'date': '2020-1-22', 'confirmed': 0, 'deaths'...</td>\n",
              "      <td>{'date': '2020-1-22', 'confirmed': 0, 'deaths'...</td>\n",
              "      <td>{'date': '2020-1-22', 'confirmed': 0, 'deaths'...</td>\n",
              "      <td>{'date': '2020-1-22', 'confirmed': 0, 'deaths'...</td>\n",
              "      <td>{'date': '2020-1-22', 'confirmed': 0, 'deaths'...</td>\n",
              "      <td>{'date': '2020-1-22', 'confirmed': 0, 'deaths'...</td>\n",
              "      <td>{'date': '2020-1-22', 'confirmed': 0, 'deaths'...</td>\n",
              "      <td>...</td>\n",
              "      <td>{'date': '2020-1-22', 'confirmed': 0, 'deaths'...</td>\n",
              "      <td>{'date': '2020-1-22', 'confirmed': 2, 'deaths'...</td>\n",
              "      <td>{'date': '2020-1-22', 'confirmed': 0, 'deaths'...</td>\n",
              "      <td>{'date': '2020-1-22', 'confirmed': 0, 'deaths'...</td>\n",
              "      <td>{'date': '2020-1-22', 'confirmed': 0, 'deaths'...</td>\n",
              "      <td>{'date': '2020-1-22', 'confirmed': 0, 'deaths'...</td>\n",
              "      <td>{'date': '2020-1-22', 'confirmed': 0, 'deaths'...</td>\n",
              "      <td>{'date': '2020-1-22', 'confirmed': 0, 'deaths'...</td>\n",
              "      <td>{'date': '2020-1-22', 'confirmed': 0, 'deaths'...</td>\n",
              "      <td>{'date': '2020-1-22', 'confirmed': 0, 'deaths'...</td>\n",
              "      <td>{'date': '2020-1-22', 'confirmed': 0, 'deaths'...</td>\n",
              "      <td>{'date': '2020-1-22', 'confirmed': 1, 'deaths'...</td>\n",
              "      <td>{'date': '2020-1-22', 'confirmed': 0, 'deaths'...</td>\n",
              "      <td>{'date': '2020-1-22', 'confirmed': 0, 'deaths'...</td>\n",
              "      <td>{'date': '2020-1-22', 'confirmed': 0, 'deaths'...</td>\n",
              "      <td>{'date': '2020-1-22', 'confirmed': 0, 'deaths'...</td>\n",
              "      <td>{'date': '2020-1-22', 'confirmed': 0, 'deaths'...</td>\n",
              "      <td>{'date': '2020-1-22', 'confirmed': 0, 'deaths'...</td>\n",
              "      <td>{'date': '2020-1-22', 'confirmed': 0, 'deaths'...</td>\n",
              "      <td>{'date': '2020-1-22', 'confirmed': 0, 'deaths'...</td>\n",
              "      <td>{'date': '2020-1-22', 'confirmed': 0, 'deaths'...</td>\n",
              "      <td>{'date': '2020-1-22', 'confirmed': 0, 'deaths'...</td>\n",
              "      <td>{'date': '2020-1-22', 'confirmed': 0, 'deaths'...</td>\n",
              "      <td>{'date': '2020-1-22', 'confirmed': 0, 'deaths'...</td>\n",
              "      <td>{'date': '2020-1-22', 'confirmed': 0, 'deaths'...</td>\n",
              "      <td>{'date': '2020-1-22', 'confirmed': 0, 'deaths'...</td>\n",
              "      <td>{'date': '2020-1-22', 'confirmed': 0, 'deaths'...</td>\n",
              "      <td>{'date': '2020-1-22', 'confirmed': 0, 'deaths'...</td>\n",
              "      <td>{'date': '2020-1-22', 'confirmed': 0, 'deaths'...</td>\n",
              "      <td>{'date': '2020-1-22', 'confirmed': 0, 'deaths'...</td>\n",
              "      <td>{'date': '2020-1-22', 'confirmed': 0, 'deaths'...</td>\n",
              "      <td>{'date': '2020-1-22', 'confirmed': 0, 'deaths'...</td>\n",
              "      <td>{'date': '2020-1-22', 'confirmed': 0, 'deaths'...</td>\n",
              "      <td>{'date': '2020-1-22', 'confirmed': 0, 'deaths'...</td>\n",
              "      <td>{'date': '2020-1-22', 'confirmed': 0, 'deaths'...</td>\n",
              "      <td>{'date': '2020-1-22', 'confirmed': 0, 'deaths'...</td>\n",
              "      <td>{'date': '2020-1-22', 'confirmed': 0, 'deaths'...</td>\n",
              "      <td>{'date': '2020-1-22', 'confirmed': 0, 'deaths'...</td>\n",
              "      <td>{'date': '2020-1-22', 'confirmed': 0, 'deaths'...</td>\n",
              "      <td>{'date': '2020-1-22', 'confirmed': 0, 'deaths'...</td>\n",
              "    </tr>\n",
              "    <tr>\n",
              "      <th>1</th>\n",
              "      <td>{'date': '2020-1-23', 'confirmed': 0, 'deaths'...</td>\n",
              "      <td>{'date': '2020-1-23', 'confirmed': 0, 'deaths'...</td>\n",
              "      <td>{'date': '2020-1-23', 'confirmed': 0, 'deaths'...</td>\n",
              "      <td>{'date': '2020-1-23', 'confirmed': 0, 'deaths'...</td>\n",
              "      <td>{'date': '2020-1-23', 'confirmed': 0, 'deaths'...</td>\n",
              "      <td>{'date': '2020-1-23', 'confirmed': 0, 'deaths'...</td>\n",
              "      <td>{'date': '2020-1-23', 'confirmed': 0, 'deaths'...</td>\n",
              "      <td>{'date': '2020-1-23', 'confirmed': 0, 'deaths'...</td>\n",
              "      <td>{'date': '2020-1-23', 'confirmed': 0, 'deaths'...</td>\n",
              "      <td>{'date': '2020-1-23', 'confirmed': 0, 'deaths'...</td>\n",
              "      <td>{'date': '2020-1-23', 'confirmed': 0, 'deaths'...</td>\n",
              "      <td>{'date': '2020-1-23', 'confirmed': 0, 'deaths'...</td>\n",
              "      <td>{'date': '2020-1-23', 'confirmed': 0, 'deaths'...</td>\n",
              "      <td>{'date': '2020-1-23', 'confirmed': 0, 'deaths'...</td>\n",
              "      <td>{'date': '2020-1-23', 'confirmed': 0, 'deaths'...</td>\n",
              "      <td>{'date': '2020-1-23', 'confirmed': 0, 'deaths'...</td>\n",
              "      <td>{'date': '2020-1-23', 'confirmed': 0, 'deaths'...</td>\n",
              "      <td>{'date': '2020-1-23', 'confirmed': 0, 'deaths'...</td>\n",
              "      <td>{'date': '2020-1-23', 'confirmed': 0, 'deaths'...</td>\n",
              "      <td>{'date': '2020-1-23', 'confirmed': 0, 'deaths'...</td>\n",
              "      <td>{'date': '2020-1-23', 'confirmed': 0, 'deaths'...</td>\n",
              "      <td>{'date': '2020-1-23', 'confirmed': 0, 'deaths'...</td>\n",
              "      <td>{'date': '2020-1-23', 'confirmed': 0, 'deaths'...</td>\n",
              "      <td>{'date': '2020-1-23', 'confirmed': 0, 'deaths'...</td>\n",
              "      <td>{'date': '2020-1-23', 'confirmed': 0, 'deaths'...</td>\n",
              "      <td>{'date': '2020-1-23', 'confirmed': 0, 'deaths'...</td>\n",
              "      <td>{'date': '2020-1-23', 'confirmed': 0, 'deaths'...</td>\n",
              "      <td>{'date': '2020-1-23', 'confirmed': 0, 'deaths'...</td>\n",
              "      <td>{'date': '2020-1-23', 'confirmed': 0, 'deaths'...</td>\n",
              "      <td>{'date': '2020-1-23', 'confirmed': 0, 'deaths'...</td>\n",
              "      <td>{'date': '2020-1-23', 'confirmed': 0, 'deaths'...</td>\n",
              "      <td>{'date': '2020-1-23', 'confirmed': 0, 'deaths'...</td>\n",
              "      <td>{'date': '2020-1-23', 'confirmed': 643, 'death...</td>\n",
              "      <td>{'date': '2020-1-23', 'confirmed': 0, 'deaths'...</td>\n",
              "      <td>{'date': '2020-1-23', 'confirmed': 0, 'deaths'...</td>\n",
              "      <td>{'date': '2020-1-23', 'confirmed': 0, 'deaths'...</td>\n",
              "      <td>{'date': '2020-1-23', 'confirmed': 0, 'deaths'...</td>\n",
              "      <td>{'date': '2020-1-23', 'confirmed': 0, 'deaths'...</td>\n",
              "      <td>{'date': '2020-1-23', 'confirmed': 0, 'deaths'...</td>\n",
              "      <td>{'date': '2020-1-23', 'confirmed': 0, 'deaths'...</td>\n",
              "      <td>...</td>\n",
              "      <td>{'date': '2020-1-23', 'confirmed': 0, 'deaths'...</td>\n",
              "      <td>{'date': '2020-1-23', 'confirmed': 3, 'deaths'...</td>\n",
              "      <td>{'date': '2020-1-23', 'confirmed': 0, 'deaths'...</td>\n",
              "      <td>{'date': '2020-1-23', 'confirmed': 0, 'deaths'...</td>\n",
              "      <td>{'date': '2020-1-23', 'confirmed': 0, 'deaths'...</td>\n",
              "      <td>{'date': '2020-1-23', 'confirmed': 0, 'deaths'...</td>\n",
              "      <td>{'date': '2020-1-23', 'confirmed': 0, 'deaths'...</td>\n",
              "      <td>{'date': '2020-1-23', 'confirmed': 0, 'deaths'...</td>\n",
              "      <td>{'date': '2020-1-23', 'confirmed': 0, 'deaths'...</td>\n",
              "      <td>{'date': '2020-1-23', 'confirmed': 0, 'deaths'...</td>\n",
              "      <td>{'date': '2020-1-23', 'confirmed': 0, 'deaths'...</td>\n",
              "      <td>{'date': '2020-1-23', 'confirmed': 1, 'deaths'...</td>\n",
              "      <td>{'date': '2020-1-23', 'confirmed': 0, 'deaths'...</td>\n",
              "      <td>{'date': '2020-1-23', 'confirmed': 0, 'deaths'...</td>\n",
              "      <td>{'date': '2020-1-23', 'confirmed': 2, 'deaths'...</td>\n",
              "      <td>{'date': '2020-1-23', 'confirmed': 0, 'deaths'...</td>\n",
              "      <td>{'date': '2020-1-23', 'confirmed': 0, 'deaths'...</td>\n",
              "      <td>{'date': '2020-1-23', 'confirmed': 0, 'deaths'...</td>\n",
              "      <td>{'date': '2020-1-23', 'confirmed': 0, 'deaths'...</td>\n",
              "      <td>{'date': '2020-1-23', 'confirmed': 0, 'deaths'...</td>\n",
              "      <td>{'date': '2020-1-23', 'confirmed': 0, 'deaths'...</td>\n",
              "      <td>{'date': '2020-1-23', 'confirmed': 0, 'deaths'...</td>\n",
              "      <td>{'date': '2020-1-23', 'confirmed': 0, 'deaths'...</td>\n",
              "      <td>{'date': '2020-1-23', 'confirmed': 0, 'deaths'...</td>\n",
              "      <td>{'date': '2020-1-23', 'confirmed': 0, 'deaths'...</td>\n",
              "      <td>{'date': '2020-1-23', 'confirmed': 0, 'deaths'...</td>\n",
              "      <td>{'date': '2020-1-23', 'confirmed': 0, 'deaths'...</td>\n",
              "      <td>{'date': '2020-1-23', 'confirmed': 0, 'deaths'...</td>\n",
              "      <td>{'date': '2020-1-23', 'confirmed': 0, 'deaths'...</td>\n",
              "      <td>{'date': '2020-1-23', 'confirmed': 0, 'deaths'...</td>\n",
              "      <td>{'date': '2020-1-23', 'confirmed': 0, 'deaths'...</td>\n",
              "      <td>{'date': '2020-1-23', 'confirmed': 0, 'deaths'...</td>\n",
              "      <td>{'date': '2020-1-23', 'confirmed': 0, 'deaths'...</td>\n",
              "      <td>{'date': '2020-1-23', 'confirmed': 0, 'deaths'...</td>\n",
              "      <td>{'date': '2020-1-23', 'confirmed': 0, 'deaths'...</td>\n",
              "      <td>{'date': '2020-1-23', 'confirmed': 0, 'deaths'...</td>\n",
              "      <td>{'date': '2020-1-23', 'confirmed': 0, 'deaths'...</td>\n",
              "      <td>{'date': '2020-1-23', 'confirmed': 0, 'deaths'...</td>\n",
              "      <td>{'date': '2020-1-23', 'confirmed': 0, 'deaths'...</td>\n",
              "      <td>{'date': '2020-1-23', 'confirmed': 0, 'deaths'...</td>\n",
              "    </tr>\n",
              "    <tr>\n",
              "      <th>2</th>\n",
              "      <td>{'date': '2020-1-24', 'confirmed': 0, 'deaths'...</td>\n",
              "      <td>{'date': '2020-1-24', 'confirmed': 0, 'deaths'...</td>\n",
              "      <td>{'date': '2020-1-24', 'confirmed': 0, 'deaths'...</td>\n",
              "      <td>{'date': '2020-1-24', 'confirmed': 0, 'deaths'...</td>\n",
              "      <td>{'date': '2020-1-24', 'confirmed': 0, 'deaths'...</td>\n",
              "      <td>{'date': '2020-1-24', 'confirmed': 0, 'deaths'...</td>\n",
              "      <td>{'date': '2020-1-24', 'confirmed': 0, 'deaths'...</td>\n",
              "      <td>{'date': '2020-1-24', 'confirmed': 0, 'deaths'...</td>\n",
              "      <td>{'date': '2020-1-24', 'confirmed': 0, 'deaths'...</td>\n",
              "      <td>{'date': '2020-1-24', 'confirmed': 0, 'deaths'...</td>\n",
              "      <td>{'date': '2020-1-24', 'confirmed': 0, 'deaths'...</td>\n",
              "      <td>{'date': '2020-1-24', 'confirmed': 0, 'deaths'...</td>\n",
              "      <td>{'date': '2020-1-24', 'confirmed': 0, 'deaths'...</td>\n",
              "      <td>{'date': '2020-1-24', 'confirmed': 0, 'deaths'...</td>\n",
              "      <td>{'date': '2020-1-24', 'confirmed': 0, 'deaths'...</td>\n",
              "      <td>{'date': '2020-1-24', 'confirmed': 0, 'deaths'...</td>\n",
              "      <td>{'date': '2020-1-24', 'confirmed': 0, 'deaths'...</td>\n",
              "      <td>{'date': '2020-1-24', 'confirmed': 0, 'deaths'...</td>\n",
              "      <td>{'date': '2020-1-24', 'confirmed': 0, 'deaths'...</td>\n",
              "      <td>{'date': '2020-1-24', 'confirmed': 0, 'deaths'...</td>\n",
              "      <td>{'date': '2020-1-24', 'confirmed': 0, 'deaths'...</td>\n",
              "      <td>{'date': '2020-1-24', 'confirmed': 0, 'deaths'...</td>\n",
              "      <td>{'date': '2020-1-24', 'confirmed': 0, 'deaths'...</td>\n",
              "      <td>{'date': '2020-1-24', 'confirmed': 0, 'deaths'...</td>\n",
              "      <td>{'date': '2020-1-24', 'confirmed': 0, 'deaths'...</td>\n",
              "      <td>{'date': '2020-1-24', 'confirmed': 0, 'deaths'...</td>\n",
              "      <td>{'date': '2020-1-24', 'confirmed': 0, 'deaths'...</td>\n",
              "      <td>{'date': '2020-1-24', 'confirmed': 0, 'deaths'...</td>\n",
              "      <td>{'date': '2020-1-24', 'confirmed': 0, 'deaths'...</td>\n",
              "      <td>{'date': '2020-1-24', 'confirmed': 0, 'deaths'...</td>\n",
              "      <td>{'date': '2020-1-24', 'confirmed': 0, 'deaths'...</td>\n",
              "      <td>{'date': '2020-1-24', 'confirmed': 0, 'deaths'...</td>\n",
              "      <td>{'date': '2020-1-24', 'confirmed': 920, 'death...</td>\n",
              "      <td>{'date': '2020-1-24', 'confirmed': 0, 'deaths'...</td>\n",
              "      <td>{'date': '2020-1-24', 'confirmed': 0, 'deaths'...</td>\n",
              "      <td>{'date': '2020-1-24', 'confirmed': 0, 'deaths'...</td>\n",
              "      <td>{'date': '2020-1-24', 'confirmed': 0, 'deaths'...</td>\n",
              "      <td>{'date': '2020-1-24', 'confirmed': 0, 'deaths'...</td>\n",
              "      <td>{'date': '2020-1-24', 'confirmed': 0, 'deaths'...</td>\n",
              "      <td>{'date': '2020-1-24', 'confirmed': 0, 'deaths'...</td>\n",
              "      <td>...</td>\n",
              "      <td>{'date': '2020-1-24', 'confirmed': 0, 'deaths'...</td>\n",
              "      <td>{'date': '2020-1-24', 'confirmed': 5, 'deaths'...</td>\n",
              "      <td>{'date': '2020-1-24', 'confirmed': 0, 'deaths'...</td>\n",
              "      <td>{'date': '2020-1-24', 'confirmed': 0, 'deaths'...</td>\n",
              "      <td>{'date': '2020-1-24', 'confirmed': 0, 'deaths'...</td>\n",
              "      <td>{'date': '2020-1-24', 'confirmed': 0, 'deaths'...</td>\n",
              "      <td>{'date': '2020-1-24', 'confirmed': 0, 'deaths'...</td>\n",
              "      <td>{'date': '2020-1-24', 'confirmed': 0, 'deaths'...</td>\n",
              "      <td>{'date': '2020-1-24', 'confirmed': 0, 'deaths'...</td>\n",
              "      <td>{'date': '2020-1-24', 'confirmed': 0, 'deaths'...</td>\n",
              "      <td>{'date': '2020-1-24', 'confirmed': 0, 'deaths'...</td>\n",
              "      <td>{'date': '2020-1-24', 'confirmed': 2, 'deaths'...</td>\n",
              "      <td>{'date': '2020-1-24', 'confirmed': 0, 'deaths'...</td>\n",
              "      <td>{'date': '2020-1-24', 'confirmed': 0, 'deaths'...</td>\n",
              "      <td>{'date': '2020-1-24', 'confirmed': 2, 'deaths'...</td>\n",
              "      <td>{'date': '2020-1-24', 'confirmed': 0, 'deaths'...</td>\n",
              "      <td>{'date': '2020-1-24', 'confirmed': 0, 'deaths'...</td>\n",
              "      <td>{'date': '2020-1-24', 'confirmed': 0, 'deaths'...</td>\n",
              "      <td>{'date': '2020-1-24', 'confirmed': 0, 'deaths'...</td>\n",
              "      <td>{'date': '2020-1-24', 'confirmed': 0, 'deaths'...</td>\n",
              "      <td>{'date': '2020-1-24', 'confirmed': 0, 'deaths'...</td>\n",
              "      <td>{'date': '2020-1-24', 'confirmed': 0, 'deaths'...</td>\n",
              "      <td>{'date': '2020-1-24', 'confirmed': 0, 'deaths'...</td>\n",
              "      <td>{'date': '2020-1-24', 'confirmed': 0, 'deaths'...</td>\n",
              "      <td>{'date': '2020-1-24', 'confirmed': 0, 'deaths'...</td>\n",
              "      <td>{'date': '2020-1-24', 'confirmed': 0, 'deaths'...</td>\n",
              "      <td>{'date': '2020-1-24', 'confirmed': 0, 'deaths'...</td>\n",
              "      <td>{'date': '2020-1-24', 'confirmed': 0, 'deaths'...</td>\n",
              "      <td>{'date': '2020-1-24', 'confirmed': 0, 'deaths'...</td>\n",
              "      <td>{'date': '2020-1-24', 'confirmed': 0, 'deaths'...</td>\n",
              "      <td>{'date': '2020-1-24', 'confirmed': 0, 'deaths'...</td>\n",
              "      <td>{'date': '2020-1-24', 'confirmed': 0, 'deaths'...</td>\n",
              "      <td>{'date': '2020-1-24', 'confirmed': 0, 'deaths'...</td>\n",
              "      <td>{'date': '2020-1-24', 'confirmed': 0, 'deaths'...</td>\n",
              "      <td>{'date': '2020-1-24', 'confirmed': 0, 'deaths'...</td>\n",
              "      <td>{'date': '2020-1-24', 'confirmed': 0, 'deaths'...</td>\n",
              "      <td>{'date': '2020-1-24', 'confirmed': 0, 'deaths'...</td>\n",
              "      <td>{'date': '2020-1-24', 'confirmed': 0, 'deaths'...</td>\n",
              "      <td>{'date': '2020-1-24', 'confirmed': 0, 'deaths'...</td>\n",
              "      <td>{'date': '2020-1-24', 'confirmed': 0, 'deaths'...</td>\n",
              "    </tr>\n",
              "    <tr>\n",
              "      <th>3</th>\n",
              "      <td>{'date': '2020-1-25', 'confirmed': 0, 'deaths'...</td>\n",
              "      <td>{'date': '2020-1-25', 'confirmed': 0, 'deaths'...</td>\n",
              "      <td>{'date': '2020-1-25', 'confirmed': 0, 'deaths'...</td>\n",
              "      <td>{'date': '2020-1-25', 'confirmed': 0, 'deaths'...</td>\n",
              "      <td>{'date': '2020-1-25', 'confirmed': 0, 'deaths'...</td>\n",
              "      <td>{'date': '2020-1-25', 'confirmed': 0, 'deaths'...</td>\n",
              "      <td>{'date': '2020-1-25', 'confirmed': 0, 'deaths'...</td>\n",
              "      <td>{'date': '2020-1-25', 'confirmed': 0, 'deaths'...</td>\n",
              "      <td>{'date': '2020-1-25', 'confirmed': 0, 'deaths'...</td>\n",
              "      <td>{'date': '2020-1-25', 'confirmed': 0, 'deaths'...</td>\n",
              "      <td>{'date': '2020-1-25', 'confirmed': 0, 'deaths'...</td>\n",
              "      <td>{'date': '2020-1-25', 'confirmed': 0, 'deaths'...</td>\n",
              "      <td>{'date': '2020-1-25', 'confirmed': 0, 'deaths'...</td>\n",
              "      <td>{'date': '2020-1-25', 'confirmed': 0, 'deaths'...</td>\n",
              "      <td>{'date': '2020-1-25', 'confirmed': 0, 'deaths'...</td>\n",
              "      <td>{'date': '2020-1-25', 'confirmed': 0, 'deaths'...</td>\n",
              "      <td>{'date': '2020-1-25', 'confirmed': 0, 'deaths'...</td>\n",
              "      <td>{'date': '2020-1-25', 'confirmed': 0, 'deaths'...</td>\n",
              "      <td>{'date': '2020-1-25', 'confirmed': 0, 'deaths'...</td>\n",
              "      <td>{'date': '2020-1-25', 'confirmed': 0, 'deaths'...</td>\n",
              "      <td>{'date': '2020-1-25', 'confirmed': 0, 'deaths'...</td>\n",
              "      <td>{'date': '2020-1-25', 'confirmed': 0, 'deaths'...</td>\n",
              "      <td>{'date': '2020-1-25', 'confirmed': 0, 'deaths'...</td>\n",
              "      <td>{'date': '2020-1-25', 'confirmed': 0, 'deaths'...</td>\n",
              "      <td>{'date': '2020-1-25', 'confirmed': 0, 'deaths'...</td>\n",
              "      <td>{'date': '2020-1-25', 'confirmed': 0, 'deaths'...</td>\n",
              "      <td>{'date': '2020-1-25', 'confirmed': 0, 'deaths'...</td>\n",
              "      <td>{'date': '2020-1-25', 'confirmed': 0, 'deaths'...</td>\n",
              "      <td>{'date': '2020-1-25', 'confirmed': 0, 'deaths'...</td>\n",
              "      <td>{'date': '2020-1-25', 'confirmed': 0, 'deaths'...</td>\n",
              "      <td>{'date': '2020-1-25', 'confirmed': 0, 'deaths'...</td>\n",
              "      <td>{'date': '2020-1-25', 'confirmed': 0, 'deaths'...</td>\n",
              "      <td>{'date': '2020-1-25', 'confirmed': 1406, 'deat...</td>\n",
              "      <td>{'date': '2020-1-25', 'confirmed': 0, 'deaths'...</td>\n",
              "      <td>{'date': '2020-1-25', 'confirmed': 0, 'deaths'...</td>\n",
              "      <td>{'date': '2020-1-25', 'confirmed': 0, 'deaths'...</td>\n",
              "      <td>{'date': '2020-1-25', 'confirmed': 0, 'deaths'...</td>\n",
              "      <td>{'date': '2020-1-25', 'confirmed': 0, 'deaths'...</td>\n",
              "      <td>{'date': '2020-1-25', 'confirmed': 0, 'deaths'...</td>\n",
              "      <td>{'date': '2020-1-25', 'confirmed': 0, 'deaths'...</td>\n",
              "      <td>...</td>\n",
              "      <td>{'date': '2020-1-25', 'confirmed': 0, 'deaths'...</td>\n",
              "      <td>{'date': '2020-1-25', 'confirmed': 7, 'deaths'...</td>\n",
              "      <td>{'date': '2020-1-25', 'confirmed': 0, 'deaths'...</td>\n",
              "      <td>{'date': '2020-1-25', 'confirmed': 0, 'deaths'...</td>\n",
              "      <td>{'date': '2020-1-25', 'confirmed': 0, 'deaths'...</td>\n",
              "      <td>{'date': '2020-1-25', 'confirmed': 0, 'deaths'...</td>\n",
              "      <td>{'date': '2020-1-25', 'confirmed': 0, 'deaths'...</td>\n",
              "      <td>{'date': '2020-1-25', 'confirmed': 0, 'deaths'...</td>\n",
              "      <td>{'date': '2020-1-25', 'confirmed': 0, 'deaths'...</td>\n",
              "      <td>{'date': '2020-1-25', 'confirmed': 0, 'deaths'...</td>\n",
              "      <td>{'date': '2020-1-25', 'confirmed': 0, 'deaths'...</td>\n",
              "      <td>{'date': '2020-1-25', 'confirmed': 2, 'deaths'...</td>\n",
              "      <td>{'date': '2020-1-25', 'confirmed': 0, 'deaths'...</td>\n",
              "      <td>{'date': '2020-1-25', 'confirmed': 0, 'deaths'...</td>\n",
              "      <td>{'date': '2020-1-25', 'confirmed': 2, 'deaths'...</td>\n",
              "      <td>{'date': '2020-1-25', 'confirmed': 0, 'deaths'...</td>\n",
              "      <td>{'date': '2020-1-25', 'confirmed': 0, 'deaths'...</td>\n",
              "      <td>{'date': '2020-1-25', 'confirmed': 0, 'deaths'...</td>\n",
              "      <td>{'date': '2020-1-25', 'confirmed': 0, 'deaths'...</td>\n",
              "      <td>{'date': '2020-1-25', 'confirmed': 0, 'deaths'...</td>\n",
              "      <td>{'date': '2020-1-25', 'confirmed': 0, 'deaths'...</td>\n",
              "      <td>{'date': '2020-1-25', 'confirmed': 0, 'deaths'...</td>\n",
              "      <td>{'date': '2020-1-25', 'confirmed': 0, 'deaths'...</td>\n",
              "      <td>{'date': '2020-1-25', 'confirmed': 0, 'deaths'...</td>\n",
              "      <td>{'date': '2020-1-25', 'confirmed': 0, 'deaths'...</td>\n",
              "      <td>{'date': '2020-1-25', 'confirmed': 0, 'deaths'...</td>\n",
              "      <td>{'date': '2020-1-25', 'confirmed': 0, 'deaths'...</td>\n",
              "      <td>{'date': '2020-1-25', 'confirmed': 0, 'deaths'...</td>\n",
              "      <td>{'date': '2020-1-25', 'confirmed': 0, 'deaths'...</td>\n",
              "      <td>{'date': '2020-1-25', 'confirmed': 0, 'deaths'...</td>\n",
              "      <td>{'date': '2020-1-25', 'confirmed': 0, 'deaths'...</td>\n",
              "      <td>{'date': '2020-1-25', 'confirmed': 0, 'deaths'...</td>\n",
              "      <td>{'date': '2020-1-25', 'confirmed': 0, 'deaths'...</td>\n",
              "      <td>{'date': '2020-1-25', 'confirmed': 0, 'deaths'...</td>\n",
              "      <td>{'date': '2020-1-25', 'confirmed': 0, 'deaths'...</td>\n",
              "      <td>{'date': '2020-1-25', 'confirmed': 0, 'deaths'...</td>\n",
              "      <td>{'date': '2020-1-25', 'confirmed': 0, 'deaths'...</td>\n",
              "      <td>{'date': '2020-1-25', 'confirmed': 0, 'deaths'...</td>\n",
              "      <td>{'date': '2020-1-25', 'confirmed': 0, 'deaths'...</td>\n",
              "      <td>{'date': '2020-1-25', 'confirmed': 0, 'deaths'...</td>\n",
              "    </tr>\n",
              "    <tr>\n",
              "      <th>4</th>\n",
              "      <td>{'date': '2020-1-26', 'confirmed': 0, 'deaths'...</td>\n",
              "      <td>{'date': '2020-1-26', 'confirmed': 0, 'deaths'...</td>\n",
              "      <td>{'date': '2020-1-26', 'confirmed': 0, 'deaths'...</td>\n",
              "      <td>{'date': '2020-1-26', 'confirmed': 0, 'deaths'...</td>\n",
              "      <td>{'date': '2020-1-26', 'confirmed': 0, 'deaths'...</td>\n",
              "      <td>{'date': '2020-1-26', 'confirmed': 0, 'deaths'...</td>\n",
              "      <td>{'date': '2020-1-26', 'confirmed': 0, 'deaths'...</td>\n",
              "      <td>{'date': '2020-1-26', 'confirmed': 0, 'deaths'...</td>\n",
              "      <td>{'date': '2020-1-26', 'confirmed': 4, 'deaths'...</td>\n",
              "      <td>{'date': '2020-1-26', 'confirmed': 0, 'deaths'...</td>\n",
              "      <td>{'date': '2020-1-26', 'confirmed': 0, 'deaths'...</td>\n",
              "      <td>{'date': '2020-1-26', 'confirmed': 0, 'deaths'...</td>\n",
              "      <td>{'date': '2020-1-26', 'confirmed': 0, 'deaths'...</td>\n",
              "      <td>{'date': '2020-1-26', 'confirmed': 0, 'deaths'...</td>\n",
              "      <td>{'date': '2020-1-26', 'confirmed': 0, 'deaths'...</td>\n",
              "      <td>{'date': '2020-1-26', 'confirmed': 0, 'deaths'...</td>\n",
              "      <td>{'date': '2020-1-26', 'confirmed': 0, 'deaths'...</td>\n",
              "      <td>{'date': '2020-1-26', 'confirmed': 0, 'deaths'...</td>\n",
              "      <td>{'date': '2020-1-26', 'confirmed': 0, 'deaths'...</td>\n",
              "      <td>{'date': '2020-1-26', 'confirmed': 0, 'deaths'...</td>\n",
              "      <td>{'date': '2020-1-26', 'confirmed': 0, 'deaths'...</td>\n",
              "      <td>{'date': '2020-1-26', 'confirmed': 0, 'deaths'...</td>\n",
              "      <td>{'date': '2020-1-26', 'confirmed': 0, 'deaths'...</td>\n",
              "      <td>{'date': '2020-1-26', 'confirmed': 0, 'deaths'...</td>\n",
              "      <td>{'date': '2020-1-26', 'confirmed': 0, 'deaths'...</td>\n",
              "      <td>{'date': '2020-1-26', 'confirmed': 0, 'deaths'...</td>\n",
              "      <td>{'date': '2020-1-26', 'confirmed': 0, 'deaths'...</td>\n",
              "      <td>{'date': '2020-1-26', 'confirmed': 0, 'deaths'...</td>\n",
              "      <td>{'date': '2020-1-26', 'confirmed': 1, 'deaths'...</td>\n",
              "      <td>{'date': '2020-1-26', 'confirmed': 0, 'deaths'...</td>\n",
              "      <td>{'date': '2020-1-26', 'confirmed': 0, 'deaths'...</td>\n",
              "      <td>{'date': '2020-1-26', 'confirmed': 0, 'deaths'...</td>\n",
              "      <td>{'date': '2020-1-26', 'confirmed': 2075, 'deat...</td>\n",
              "      <td>{'date': '2020-1-26', 'confirmed': 0, 'deaths'...</td>\n",
              "      <td>{'date': '2020-1-26', 'confirmed': 0, 'deaths'...</td>\n",
              "      <td>{'date': '2020-1-26', 'confirmed': 0, 'deaths'...</td>\n",
              "      <td>{'date': '2020-1-26', 'confirmed': 0, 'deaths'...</td>\n",
              "      <td>{'date': '2020-1-26', 'confirmed': 0, 'deaths'...</td>\n",
              "      <td>{'date': '2020-1-26', 'confirmed': 0, 'deaths'...</td>\n",
              "      <td>{'date': '2020-1-26', 'confirmed': 0, 'deaths'...</td>\n",
              "      <td>...</td>\n",
              "      <td>{'date': '2020-1-26', 'confirmed': 0, 'deaths'...</td>\n",
              "      <td>{'date': '2020-1-26', 'confirmed': 8, 'deaths'...</td>\n",
              "      <td>{'date': '2020-1-26', 'confirmed': 0, 'deaths'...</td>\n",
              "      <td>{'date': '2020-1-26', 'confirmed': 0, 'deaths'...</td>\n",
              "      <td>{'date': '2020-1-26', 'confirmed': 0, 'deaths'...</td>\n",
              "      <td>{'date': '2020-1-26', 'confirmed': 0, 'deaths'...</td>\n",
              "      <td>{'date': '2020-1-26', 'confirmed': 0, 'deaths'...</td>\n",
              "      <td>{'date': '2020-1-26', 'confirmed': 0, 'deaths'...</td>\n",
              "      <td>{'date': '2020-1-26', 'confirmed': 0, 'deaths'...</td>\n",
              "      <td>{'date': '2020-1-26', 'confirmed': 0, 'deaths'...</td>\n",
              "      <td>{'date': '2020-1-26', 'confirmed': 0, 'deaths'...</td>\n",
              "      <td>{'date': '2020-1-26', 'confirmed': 5, 'deaths'...</td>\n",
              "      <td>{'date': '2020-1-26', 'confirmed': 0, 'deaths'...</td>\n",
              "      <td>{'date': '2020-1-26', 'confirmed': 0, 'deaths'...</td>\n",
              "      <td>{'date': '2020-1-26', 'confirmed': 2, 'deaths'...</td>\n",
              "      <td>{'date': '2020-1-26', 'confirmed': 0, 'deaths'...</td>\n",
              "      <td>{'date': '2020-1-26', 'confirmed': 0, 'deaths'...</td>\n",
              "      <td>{'date': '2020-1-26', 'confirmed': 0, 'deaths'...</td>\n",
              "      <td>{'date': '2020-1-26', 'confirmed': 0, 'deaths'...</td>\n",
              "      <td>{'date': '2020-1-26', 'confirmed': 0, 'deaths'...</td>\n",
              "      <td>{'date': '2020-1-26', 'confirmed': 0, 'deaths'...</td>\n",
              "      <td>{'date': '2020-1-26', 'confirmed': 0, 'deaths'...</td>\n",
              "      <td>{'date': '2020-1-26', 'confirmed': 0, 'deaths'...</td>\n",
              "      <td>{'date': '2020-1-26', 'confirmed': 0, 'deaths'...</td>\n",
              "      <td>{'date': '2020-1-26', 'confirmed': 0, 'deaths'...</td>\n",
              "      <td>{'date': '2020-1-26', 'confirmed': 0, 'deaths'...</td>\n",
              "      <td>{'date': '2020-1-26', 'confirmed': 0, 'deaths'...</td>\n",
              "      <td>{'date': '2020-1-26', 'confirmed': 0, 'deaths'...</td>\n",
              "      <td>{'date': '2020-1-26', 'confirmed': 0, 'deaths'...</td>\n",
              "      <td>{'date': '2020-1-26', 'confirmed': 0, 'deaths'...</td>\n",
              "      <td>{'date': '2020-1-26', 'confirmed': 0, 'deaths'...</td>\n",
              "      <td>{'date': '2020-1-26', 'confirmed': 0, 'deaths'...</td>\n",
              "      <td>{'date': '2020-1-26', 'confirmed': 0, 'deaths'...</td>\n",
              "      <td>{'date': '2020-1-26', 'confirmed': 0, 'deaths'...</td>\n",
              "      <td>{'date': '2020-1-26', 'confirmed': 0, 'deaths'...</td>\n",
              "      <td>{'date': '2020-1-26', 'confirmed': 0, 'deaths'...</td>\n",
              "      <td>{'date': '2020-1-26', 'confirmed': 0, 'deaths'...</td>\n",
              "      <td>{'date': '2020-1-26', 'confirmed': 0, 'deaths'...</td>\n",
              "      <td>{'date': '2020-1-26', 'confirmed': 0, 'deaths'...</td>\n",
              "      <td>{'date': '2020-1-26', 'confirmed': 0, 'deaths'...</td>\n",
              "    </tr>\n",
              "  </tbody>\n",
              "</table>\n",
              "<p>5 rows × 185 columns</p>\n",
              "</div>"
            ],
            "text/plain": [
              "                                         Afghanistan  ...                                              Yemen\n",
              "0  {'date': '2020-1-22', 'confirmed': 0, 'deaths'...  ...  {'date': '2020-1-22', 'confirmed': 0, 'deaths'...\n",
              "1  {'date': '2020-1-23', 'confirmed': 0, 'deaths'...  ...  {'date': '2020-1-23', 'confirmed': 0, 'deaths'...\n",
              "2  {'date': '2020-1-24', 'confirmed': 0, 'deaths'...  ...  {'date': '2020-1-24', 'confirmed': 0, 'deaths'...\n",
              "3  {'date': '2020-1-25', 'confirmed': 0, 'deaths'...  ...  {'date': '2020-1-25', 'confirmed': 0, 'deaths'...\n",
              "4  {'date': '2020-1-26', 'confirmed': 0, 'deaths'...  ...  {'date': '2020-1-26', 'confirmed': 0, 'deaths'...\n",
              "\n",
              "[5 rows x 185 columns]"
            ]
          },
          "metadata": {
            "tags": []
          },
          "execution_count": 236
        }
      ]
    },
    {
      "cell_type": "code",
      "metadata": {
        "id": "AuNTWAr4qlNE",
        "colab_type": "code",
        "colab": {}
      },
      "source": [
        "countries = json.keys()\n",
        "df_array = []"
      ],
      "execution_count": 0,
      "outputs": []
    },
    {
      "cell_type": "markdown",
      "metadata": {
        "id": "M6OiLTLlzBFB",
        "colab_type": "text"
      },
      "source": [
        "Convert dataframe to long-format"
      ]
    },
    {
      "cell_type": "code",
      "metadata": {
        "id": "RzktVkHfy5H1",
        "colab_type": "code",
        "colab": {}
      },
      "source": [
        "for country in countries:\n",
        "  stats = json[country]\n",
        "  for stat in stats:\n",
        "    # build row\n",
        "    date = stat['date']\n",
        "    confirmed = stat['confirmed']\n",
        "    deaths = stat['deaths']\n",
        "    recovered = stat['recovered']\n",
        "    df_array.append([country, date, confirmed, deaths, recovered])"
      ],
      "execution_count": 0,
      "outputs": []
    },
    {
      "cell_type": "code",
      "metadata": {
        "id": "lkX4GpYfy69g",
        "colab_type": "code",
        "colab": {}
      },
      "source": [
        "df = pd.DataFrame(df_array)"
      ],
      "execution_count": 0,
      "outputs": []
    },
    {
      "cell_type": "code",
      "metadata": {
        "id": "OTwuijoDy9wA",
        "colab_type": "code",
        "outputId": "d5b9d376-3f0c-4550-919c-52f350b692ea",
        "colab": {
          "base_uri": "https://localhost:8080/",
          "height": 204
        }
      },
      "source": [
        "df.columns = ['country', 'date', 'confirmed', 'deaths', 'recovered'] ; df.head()"
      ],
      "execution_count": 0,
      "outputs": [
        {
          "output_type": "execute_result",
          "data": {
            "text/html": [
              "<div>\n",
              "<style scoped>\n",
              "    .dataframe tbody tr th:only-of-type {\n",
              "        vertical-align: middle;\n",
              "    }\n",
              "\n",
              "    .dataframe tbody tr th {\n",
              "        vertical-align: top;\n",
              "    }\n",
              "\n",
              "    .dataframe thead th {\n",
              "        text-align: right;\n",
              "    }\n",
              "</style>\n",
              "<table border=\"1\" class=\"dataframe\">\n",
              "  <thead>\n",
              "    <tr style=\"text-align: right;\">\n",
              "      <th></th>\n",
              "      <th>country</th>\n",
              "      <th>date</th>\n",
              "      <th>confirmed</th>\n",
              "      <th>deaths</th>\n",
              "      <th>recovered</th>\n",
              "    </tr>\n",
              "  </thead>\n",
              "  <tbody>\n",
              "    <tr>\n",
              "      <th>0</th>\n",
              "      <td>Afghanistan</td>\n",
              "      <td>2020-1-22</td>\n",
              "      <td>0</td>\n",
              "      <td>0</td>\n",
              "      <td>0</td>\n",
              "    </tr>\n",
              "    <tr>\n",
              "      <th>1</th>\n",
              "      <td>Afghanistan</td>\n",
              "      <td>2020-1-23</td>\n",
              "      <td>0</td>\n",
              "      <td>0</td>\n",
              "      <td>0</td>\n",
              "    </tr>\n",
              "    <tr>\n",
              "      <th>2</th>\n",
              "      <td>Afghanistan</td>\n",
              "      <td>2020-1-24</td>\n",
              "      <td>0</td>\n",
              "      <td>0</td>\n",
              "      <td>0</td>\n",
              "    </tr>\n",
              "    <tr>\n",
              "      <th>3</th>\n",
              "      <td>Afghanistan</td>\n",
              "      <td>2020-1-25</td>\n",
              "      <td>0</td>\n",
              "      <td>0</td>\n",
              "      <td>0</td>\n",
              "    </tr>\n",
              "    <tr>\n",
              "      <th>4</th>\n",
              "      <td>Afghanistan</td>\n",
              "      <td>2020-1-26</td>\n",
              "      <td>0</td>\n",
              "      <td>0</td>\n",
              "      <td>0</td>\n",
              "    </tr>\n",
              "  </tbody>\n",
              "</table>\n",
              "</div>"
            ],
            "text/plain": [
              "       country       date  confirmed  deaths  recovered\n",
              "0  Afghanistan  2020-1-22          0       0          0\n",
              "1  Afghanistan  2020-1-23          0       0          0\n",
              "2  Afghanistan  2020-1-24          0       0          0\n",
              "3  Afghanistan  2020-1-25          0       0          0\n",
              "4  Afghanistan  2020-1-26          0       0          0"
            ]
          },
          "metadata": {
            "tags": []
          },
          "execution_count": 240
        }
      ]
    },
    {
      "cell_type": "code",
      "metadata": {
        "id": "9buq9XSey-kR",
        "colab_type": "code",
        "colab": {}
      },
      "source": [
        "# Convert to datetime object\n",
        "df['date'] = pd.to_datetime(df['date'])"
      ],
      "execution_count": 0,
      "outputs": []
    },
    {
      "cell_type": "code",
      "metadata": {
        "id": "lvIy-SUX8ZS7",
        "colab_type": "code",
        "outputId": "f8021eec-1439-42b8-eee4-3ed94f63cb10",
        "colab": {
          "base_uri": "https://localhost:8080/",
          "height": 34
        }
      },
      "source": [
        "# Get last date\n",
        "df['date'].max()"
      ],
      "execution_count": 0,
      "outputs": [
        {
          "output_type": "execute_result",
          "data": {
            "text/plain": [
              "Timestamp('2020-04-13 00:00:00')"
            ]
          },
          "metadata": {
            "tags": []
          },
          "execution_count": 242
        }
      ]
    },
    {
      "cell_type": "markdown",
      "metadata": {
        "id": "MeqHoCHD8hEP",
        "colab_type": "text"
      },
      "source": [
        "# Description Statistics"
      ]
    },
    {
      "cell_type": "code",
      "metadata": {
        "id": "LyFV4u0N8btn",
        "colab_type": "code",
        "colab": {}
      },
      "source": [
        "last_date_df = df[df['date'] == df['date'].max()]"
      ],
      "execution_count": 0,
      "outputs": []
    },
    {
      "cell_type": "code",
      "metadata": {
        "id": "fZXXujYI8kz7",
        "colab_type": "code",
        "outputId": "d8ed7a36-cd1e-4a6c-83bd-77d2332d4f6e",
        "colab": {
          "base_uri": "https://localhost:8080/",
          "height": 34
        }
      },
      "source": [
        "total_confirmed = last_date_df['confirmed'].sum()\n",
        "total_deaths = last_date_df['deaths'].sum()\n",
        "total_recovered = last_date_df['recovered'].sum()\n",
        "print(total_confirmed, total_deaths, total_recovered)"
      ],
      "execution_count": 0,
      "outputs": [
        {
          "output_type": "stream",
          "text": [
            "1917319 119482 448655\n"
          ],
          "name": "stdout"
        }
      ]
    },
    {
      "cell_type": "code",
      "metadata": {
        "id": "_Q_FPDDN8lOd",
        "colab_type": "code",
        "colab": {}
      },
      "source": [
        "def get_totals(df: pd.DataFrame) -> list:\n",
        "  df = df[df['date'] == df['date'].max()]\n",
        "  return [df['confirmed'].sum(), df['deaths'].sum(), df['recovered'].sum()]"
      ],
      "execution_count": 0,
      "outputs": []
    },
    {
      "cell_type": "code",
      "metadata": {
        "id": "VMLrblYY8myc",
        "colab_type": "code",
        "colab": {}
      },
      "source": [
        ""
      ],
      "execution_count": 0,
      "outputs": []
    },
    {
      "cell_type": "markdown",
      "metadata": {
        "id": "7O6_WEfV8pD9",
        "colab_type": "text"
      },
      "source": [
        "# Country Infection History"
      ]
    },
    {
      "cell_type": "code",
      "metadata": {
        "id": "vcCl7-Rz8rIT",
        "colab_type": "code",
        "outputId": "4d515347-3c41-45fb-c38d-495c0457ca2d",
        "colab": {
          "base_uri": "https://localhost:8080/",
          "height": 359
        }
      },
      "source": [
        "# Look at one country\n",
        "country = 'Canada'\n",
        "country_df = df[df['country'] == country]\n",
        "country_df.head(10)"
      ],
      "execution_count": 0,
      "outputs": [
        {
          "output_type": "execute_result",
          "data": {
            "text/html": [
              "<div>\n",
              "<style scoped>\n",
              "    .dataframe tbody tr th:only-of-type {\n",
              "        vertical-align: middle;\n",
              "    }\n",
              "\n",
              "    .dataframe tbody tr th {\n",
              "        vertical-align: top;\n",
              "    }\n",
              "\n",
              "    .dataframe thead th {\n",
              "        text-align: right;\n",
              "    }\n",
              "</style>\n",
              "<table border=\"1\" class=\"dataframe\">\n",
              "  <thead>\n",
              "    <tr style=\"text-align: right;\">\n",
              "      <th></th>\n",
              "      <th>country</th>\n",
              "      <th>date</th>\n",
              "      <th>confirmed</th>\n",
              "      <th>deaths</th>\n",
              "      <th>recovered</th>\n",
              "    </tr>\n",
              "  </thead>\n",
              "  <tbody>\n",
              "    <tr>\n",
              "      <th>2324</th>\n",
              "      <td>Canada</td>\n",
              "      <td>2020-01-22</td>\n",
              "      <td>0</td>\n",
              "      <td>0</td>\n",
              "      <td>0</td>\n",
              "    </tr>\n",
              "    <tr>\n",
              "      <th>2325</th>\n",
              "      <td>Canada</td>\n",
              "      <td>2020-01-23</td>\n",
              "      <td>0</td>\n",
              "      <td>0</td>\n",
              "      <td>0</td>\n",
              "    </tr>\n",
              "    <tr>\n",
              "      <th>2326</th>\n",
              "      <td>Canada</td>\n",
              "      <td>2020-01-24</td>\n",
              "      <td>0</td>\n",
              "      <td>0</td>\n",
              "      <td>0</td>\n",
              "    </tr>\n",
              "    <tr>\n",
              "      <th>2327</th>\n",
              "      <td>Canada</td>\n",
              "      <td>2020-01-25</td>\n",
              "      <td>0</td>\n",
              "      <td>0</td>\n",
              "      <td>0</td>\n",
              "    </tr>\n",
              "    <tr>\n",
              "      <th>2328</th>\n",
              "      <td>Canada</td>\n",
              "      <td>2020-01-26</td>\n",
              "      <td>1</td>\n",
              "      <td>0</td>\n",
              "      <td>0</td>\n",
              "    </tr>\n",
              "    <tr>\n",
              "      <th>2329</th>\n",
              "      <td>Canada</td>\n",
              "      <td>2020-01-27</td>\n",
              "      <td>1</td>\n",
              "      <td>0</td>\n",
              "      <td>0</td>\n",
              "    </tr>\n",
              "    <tr>\n",
              "      <th>2330</th>\n",
              "      <td>Canada</td>\n",
              "      <td>2020-01-28</td>\n",
              "      <td>2</td>\n",
              "      <td>0</td>\n",
              "      <td>0</td>\n",
              "    </tr>\n",
              "    <tr>\n",
              "      <th>2331</th>\n",
              "      <td>Canada</td>\n",
              "      <td>2020-01-29</td>\n",
              "      <td>2</td>\n",
              "      <td>0</td>\n",
              "      <td>0</td>\n",
              "    </tr>\n",
              "    <tr>\n",
              "      <th>2332</th>\n",
              "      <td>Canada</td>\n",
              "      <td>2020-01-30</td>\n",
              "      <td>2</td>\n",
              "      <td>0</td>\n",
              "      <td>0</td>\n",
              "    </tr>\n",
              "    <tr>\n",
              "      <th>2333</th>\n",
              "      <td>Canada</td>\n",
              "      <td>2020-01-31</td>\n",
              "      <td>4</td>\n",
              "      <td>0</td>\n",
              "      <td>0</td>\n",
              "    </tr>\n",
              "  </tbody>\n",
              "</table>\n",
              "</div>"
            ],
            "text/plain": [
              "     country       date  confirmed  deaths  recovered\n",
              "2324  Canada 2020-01-22          0       0          0\n",
              "2325  Canada 2020-01-23          0       0          0\n",
              "2326  Canada 2020-01-24          0       0          0\n",
              "2327  Canada 2020-01-25          0       0          0\n",
              "2328  Canada 2020-01-26          1       0          0\n",
              "2329  Canada 2020-01-27          1       0          0\n",
              "2330  Canada 2020-01-28          2       0          0\n",
              "2331  Canada 2020-01-29          2       0          0\n",
              "2332  Canada 2020-01-30          2       0          0\n",
              "2333  Canada 2020-01-31          4       0          0"
            ]
          },
          "metadata": {
            "tags": []
          },
          "execution_count": 246
        }
      ]
    },
    {
      "cell_type": "code",
      "metadata": {
        "id": "3N_fjEVu8sR0",
        "colab_type": "code",
        "outputId": "8f6ce222-ac24-4ce3-a3a9-add02df4882a",
        "colab": {
          "base_uri": "https://localhost:8080/",
          "height": 34
        }
      },
      "source": [
        "print(get_totals(country_df))"
      ],
      "execution_count": 0,
      "outputs": [
        {
          "output_type": "stream",
          "text": [
            "[25679, 779, 7758]\n"
          ],
          "name": "stdout"
        }
      ]
    },
    {
      "cell_type": "code",
      "metadata": {
        "id": "dJY4BENW8tit",
        "colab_type": "code",
        "outputId": "1362fa6c-affb-4b15-f77d-97a0f56c43f3",
        "colab": {
          "base_uri": "https://localhost:8080/",
          "height": 530
        }
      },
      "source": [
        "plt.figure(figsize=(15,8))\n",
        "\n",
        "plt.plot(country_df['date'], country_df['confirmed'], label='confirmed')\n",
        "plt.plot(country_df['date'],country_df['deaths'], label= 'deaths')\n",
        "plt.plot(country_df['date'],country_df['recovered'], label = 'recovered')\n",
        "\n",
        "plt.title(f'stats for {country}')\n",
        "plt.ylabel('count')\n",
        "plt.xlabel('date')\n",
        "plt.legend()"
      ],
      "execution_count": 0,
      "outputs": [
        {
          "output_type": "execute_result",
          "data": {
            "text/plain": [
              "<matplotlib.legend.Legend at 0x7ff72db43ef0>"
            ]
          },
          "metadata": {
            "tags": []
          },
          "execution_count": 248
        },
        {
          "output_type": "display_data",
          "data": {
            "image/png": "[encoded data removed]",
            "text/plain": [
              "<Figure size 1080x576 with 1 Axes>"
            ]
          },
          "metadata": {
            "tags": []
          }
        }
      ]
    },
    {
      "cell_type": "markdown",
      "metadata": {
        "id": "LOaq8QQKDEWG",
        "colab_type": "text"
      },
      "source": [
        "Because of limited data we turn this problem into classification by framing it like a weather forecasting problem as follows:\n",
        "\n",
        "\"Based on data from the past 7 days, what is the number of confirmed cases on the 8th day?\"\n",
        "\n",
        "We frame this similarly for the mortality prediction as well.\n"
      ]
    },
    {
      "cell_type": "markdown",
      "metadata": {
        "id": "M2_Up9yNAOkO",
        "colab_type": "text"
      },
      "source": [
        "# Focus on Canada"
      ]
    },
    {
      "cell_type": "code",
      "metadata": {
        "id": "FAfXm85o8u5R",
        "colab_type": "code",
        "colab": {}
      },
      "source": [
        "country = 'Canada'\n",
        "canada_df = df[df['country'] == country].copy()\n",
        "canada_df.reset_index(drop=True,inplace=True)"
      ],
      "execution_count": 0,
      "outputs": []
    },
    {
      "cell_type": "code",
      "metadata": {
        "id": "oPvrMxCiAVdO",
        "colab_type": "code",
        "outputId": "ca099ff5-6742-4a51-d72f-b77c8243adaa",
        "colab": {
          "base_uri": "https://localhost:8080/",
          "height": 359
        }
      },
      "source": [
        "canada_df.head(10)"
      ],
      "execution_count": 0,
      "outputs": [
        {
          "output_type": "execute_result",
          "data": {
            "text/html": [
              "<div>\n",
              "<style scoped>\n",
              "    .dataframe tbody tr th:only-of-type {\n",
              "        vertical-align: middle;\n",
              "    }\n",
              "\n",
              "    .dataframe tbody tr th {\n",
              "        vertical-align: top;\n",
              "    }\n",
              "\n",
              "    .dataframe thead th {\n",
              "        text-align: right;\n",
              "    }\n",
              "</style>\n",
              "<table border=\"1\" class=\"dataframe\">\n",
              "  <thead>\n",
              "    <tr style=\"text-align: right;\">\n",
              "      <th></th>\n",
              "      <th>country</th>\n",
              "      <th>date</th>\n",
              "      <th>confirmed</th>\n",
              "      <th>deaths</th>\n",
              "      <th>recovered</th>\n",
              "    </tr>\n",
              "  </thead>\n",
              "  <tbody>\n",
              "    <tr>\n",
              "      <th>0</th>\n",
              "      <td>Canada</td>\n",
              "      <td>2020-01-22</td>\n",
              "      <td>0</td>\n",
              "      <td>0</td>\n",
              "      <td>0</td>\n",
              "    </tr>\n",
              "    <tr>\n",
              "      <th>1</th>\n",
              "      <td>Canada</td>\n",
              "      <td>2020-01-23</td>\n",
              "      <td>0</td>\n",
              "      <td>0</td>\n",
              "      <td>0</td>\n",
              "    </tr>\n",
              "    <tr>\n",
              "      <th>2</th>\n",
              "      <td>Canada</td>\n",
              "      <td>2020-01-24</td>\n",
              "      <td>0</td>\n",
              "      <td>0</td>\n",
              "      <td>0</td>\n",
              "    </tr>\n",
              "    <tr>\n",
              "      <th>3</th>\n",
              "      <td>Canada</td>\n",
              "      <td>2020-01-25</td>\n",
              "      <td>0</td>\n",
              "      <td>0</td>\n",
              "      <td>0</td>\n",
              "    </tr>\n",
              "    <tr>\n",
              "      <th>4</th>\n",
              "      <td>Canada</td>\n",
              "      <td>2020-01-26</td>\n",
              "      <td>1</td>\n",
              "      <td>0</td>\n",
              "      <td>0</td>\n",
              "    </tr>\n",
              "    <tr>\n",
              "      <th>5</th>\n",
              "      <td>Canada</td>\n",
              "      <td>2020-01-27</td>\n",
              "      <td>1</td>\n",
              "      <td>0</td>\n",
              "      <td>0</td>\n",
              "    </tr>\n",
              "    <tr>\n",
              "      <th>6</th>\n",
              "      <td>Canada</td>\n",
              "      <td>2020-01-28</td>\n",
              "      <td>2</td>\n",
              "      <td>0</td>\n",
              "      <td>0</td>\n",
              "    </tr>\n",
              "    <tr>\n",
              "      <th>7</th>\n",
              "      <td>Canada</td>\n",
              "      <td>2020-01-29</td>\n",
              "      <td>2</td>\n",
              "      <td>0</td>\n",
              "      <td>0</td>\n",
              "    </tr>\n",
              "    <tr>\n",
              "      <th>8</th>\n",
              "      <td>Canada</td>\n",
              "      <td>2020-01-30</td>\n",
              "      <td>2</td>\n",
              "      <td>0</td>\n",
              "      <td>0</td>\n",
              "    </tr>\n",
              "    <tr>\n",
              "      <th>9</th>\n",
              "      <td>Canada</td>\n",
              "      <td>2020-01-31</td>\n",
              "      <td>4</td>\n",
              "      <td>0</td>\n",
              "      <td>0</td>\n",
              "    </tr>\n",
              "  </tbody>\n",
              "</table>\n",
              "</div>"
            ],
            "text/plain": [
              "  country       date  confirmed  deaths  recovered\n",
              "0  Canada 2020-01-22          0       0          0\n",
              "1  Canada 2020-01-23          0       0          0\n",
              "2  Canada 2020-01-24          0       0          0\n",
              "3  Canada 2020-01-25          0       0          0\n",
              "4  Canada 2020-01-26          1       0          0\n",
              "5  Canada 2020-01-27          1       0          0\n",
              "6  Canada 2020-01-28          2       0          0\n",
              "7  Canada 2020-01-29          2       0          0\n",
              "8  Canada 2020-01-30          2       0          0\n",
              "9  Canada 2020-01-31          4       0          0"
            ]
          },
          "metadata": {
            "tags": []
          },
          "execution_count": 250
        }
      ]
    },
    {
      "cell_type": "markdown",
      "metadata": {
        "id": "ixiaRbw1SFJU",
        "colab_type": "text"
      },
      "source": [
        "## Some feature engineering"
      ]
    },
    {
      "cell_type": "code",
      "metadata": {
        "id": "k-NX2KMJNKmd",
        "colab_type": "code",
        "colab": {}
      },
      "source": [
        "new_confirmed = canada_df['confirmed'].diff()\n",
        "new_deaths = canada_df['deaths'].diff()"
      ],
      "execution_count": 0,
      "outputs": []
    },
    {
      "cell_type": "code",
      "metadata": {
        "id": "n8418KNFOyza",
        "colab_type": "code",
        "colab": {}
      },
      "source": [
        "canada_df['new_confirmed'] = new_confirmed\n",
        "canada_df['new_deaths'] = new_deaths"
      ],
      "execution_count": 0,
      "outputs": []
    },
    {
      "cell_type": "code",
      "metadata": {
        "id": "cFnmyMfmMrQ7",
        "colab_type": "code",
        "outputId": "b4a7af72-ba18-4568-dab5-7278d45e2405",
        "colab": {
          "base_uri": "https://localhost:8080/",
          "height": 359
        }
      },
      "source": [
        "canada_df.head(10)"
      ],
      "execution_count": 0,
      "outputs": [
        {
          "output_type": "execute_result",
          "data": {
            "text/html": [
              "<div>\n",
              "<style scoped>\n",
              "    .dataframe tbody tr th:only-of-type {\n",
              "        vertical-align: middle;\n",
              "    }\n",
              "\n",
              "    .dataframe tbody tr th {\n",
              "        vertical-align: top;\n",
              "    }\n",
              "\n",
              "    .dataframe thead th {\n",
              "        text-align: right;\n",
              "    }\n",
              "</style>\n",
              "<table border=\"1\" class=\"dataframe\">\n",
              "  <thead>\n",
              "    <tr style=\"text-align: right;\">\n",
              "      <th></th>\n",
              "      <th>country</th>\n",
              "      <th>date</th>\n",
              "      <th>confirmed</th>\n",
              "      <th>deaths</th>\n",
              "      <th>recovered</th>\n",
              "      <th>new_confirmed</th>\n",
              "      <th>new_deaths</th>\n",
              "    </tr>\n",
              "  </thead>\n",
              "  <tbody>\n",
              "    <tr>\n",
              "      <th>0</th>\n",
              "      <td>Canada</td>\n",
              "      <td>2020-01-22</td>\n",
              "      <td>0</td>\n",
              "      <td>0</td>\n",
              "      <td>0</td>\n",
              "      <td>NaN</td>\n",
              "      <td>NaN</td>\n",
              "    </tr>\n",
              "    <tr>\n",
              "      <th>1</th>\n",
              "      <td>Canada</td>\n",
              "      <td>2020-01-23</td>\n",
              "      <td>0</td>\n",
              "      <td>0</td>\n",
              "      <td>0</td>\n",
              "      <td>0.0</td>\n",
              "      <td>0.0</td>\n",
              "    </tr>\n",
              "    <tr>\n",
              "      <th>2</th>\n",
              "      <td>Canada</td>\n",
              "      <td>2020-01-24</td>\n",
              "      <td>0</td>\n",
              "      <td>0</td>\n",
              "      <td>0</td>\n",
              "      <td>0.0</td>\n",
              "      <td>0.0</td>\n",
              "    </tr>\n",
              "    <tr>\n",
              "      <th>3</th>\n",
              "      <td>Canada</td>\n",
              "      <td>2020-01-25</td>\n",
              "      <td>0</td>\n",
              "      <td>0</td>\n",
              "      <td>0</td>\n",
              "      <td>0.0</td>\n",
              "      <td>0.0</td>\n",
              "    </tr>\n",
              "    <tr>\n",
              "      <th>4</th>\n",
              "      <td>Canada</td>\n",
              "      <td>2020-01-26</td>\n",
              "      <td>1</td>\n",
              "      <td>0</td>\n",
              "      <td>0</td>\n",
              "      <td>1.0</td>\n",
              "      <td>0.0</td>\n",
              "    </tr>\n",
              "    <tr>\n",
              "      <th>5</th>\n",
              "      <td>Canada</td>\n",
              "      <td>2020-01-27</td>\n",
              "      <td>1</td>\n",
              "      <td>0</td>\n",
              "      <td>0</td>\n",
              "      <td>0.0</td>\n",
              "      <td>0.0</td>\n",
              "    </tr>\n",
              "    <tr>\n",
              "      <th>6</th>\n",
              "      <td>Canada</td>\n",
              "      <td>2020-01-28</td>\n",
              "      <td>2</td>\n",
              "      <td>0</td>\n",
              "      <td>0</td>\n",
              "      <td>1.0</td>\n",
              "      <td>0.0</td>\n",
              "    </tr>\n",
              "    <tr>\n",
              "      <th>7</th>\n",
              "      <td>Canada</td>\n",
              "      <td>2020-01-29</td>\n",
              "      <td>2</td>\n",
              "      <td>0</td>\n",
              "      <td>0</td>\n",
              "      <td>0.0</td>\n",
              "      <td>0.0</td>\n",
              "    </tr>\n",
              "    <tr>\n",
              "      <th>8</th>\n",
              "      <td>Canada</td>\n",
              "      <td>2020-01-30</td>\n",
              "      <td>2</td>\n",
              "      <td>0</td>\n",
              "      <td>0</td>\n",
              "      <td>0.0</td>\n",
              "      <td>0.0</td>\n",
              "    </tr>\n",
              "    <tr>\n",
              "      <th>9</th>\n",
              "      <td>Canada</td>\n",
              "      <td>2020-01-31</td>\n",
              "      <td>4</td>\n",
              "      <td>0</td>\n",
              "      <td>0</td>\n",
              "      <td>2.0</td>\n",
              "      <td>0.0</td>\n",
              "    </tr>\n",
              "  </tbody>\n",
              "</table>\n",
              "</div>"
            ],
            "text/plain": [
              "  country       date  confirmed  deaths  recovered  new_confirmed  new_deaths\n",
              "0  Canada 2020-01-22          0       0          0            NaN         NaN\n",
              "1  Canada 2020-01-23          0       0          0            0.0         0.0\n",
              "2  Canada 2020-01-24          0       0          0            0.0         0.0\n",
              "3  Canada 2020-01-25          0       0          0            0.0         0.0\n",
              "4  Canada 2020-01-26          1       0          0            1.0         0.0\n",
              "5  Canada 2020-01-27          1       0          0            0.0         0.0\n",
              "6  Canada 2020-01-28          2       0          0            1.0         0.0\n",
              "7  Canada 2020-01-29          2       0          0            0.0         0.0\n",
              "8  Canada 2020-01-30          2       0          0            0.0         0.0\n",
              "9  Canada 2020-01-31          4       0          0            2.0         0.0"
            ]
          },
          "metadata": {
            "tags": []
          },
          "execution_count": 253
        }
      ]
    },
    {
      "cell_type": "code",
      "metadata": {
        "id": "IgGORDs6MsvL",
        "colab_type": "code",
        "outputId": "263e6b38-46a6-4803-83f2-afd498ab6d8a",
        "colab": {
          "base_uri": "https://localhost:8080/",
          "height": 204
        }
      },
      "source": [
        "canada_df.tail()"
      ],
      "execution_count": 0,
      "outputs": [
        {
          "output_type": "execute_result",
          "data": {
            "text/html": [
              "<div>\n",
              "<style scoped>\n",
              "    .dataframe tbody tr th:only-of-type {\n",
              "        vertical-align: middle;\n",
              "    }\n",
              "\n",
              "    .dataframe tbody tr th {\n",
              "        vertical-align: top;\n",
              "    }\n",
              "\n",
              "    .dataframe thead th {\n",
              "        text-align: right;\n",
              "    }\n",
              "</style>\n",
              "<table border=\"1\" class=\"dataframe\">\n",
              "  <thead>\n",
              "    <tr style=\"text-align: right;\">\n",
              "      <th></th>\n",
              "      <th>country</th>\n",
              "      <th>date</th>\n",
              "      <th>confirmed</th>\n",
              "      <th>deaths</th>\n",
              "      <th>recovered</th>\n",
              "      <th>new_confirmed</th>\n",
              "      <th>new_deaths</th>\n",
              "    </tr>\n",
              "  </thead>\n",
              "  <tbody>\n",
              "    <tr>\n",
              "      <th>78</th>\n",
              "      <td>Canada</td>\n",
              "      <td>2020-04-09</td>\n",
              "      <td>20654</td>\n",
              "      <td>503</td>\n",
              "      <td>5162</td>\n",
              "      <td>1513.0</td>\n",
              "      <td>96.0</td>\n",
              "    </tr>\n",
              "    <tr>\n",
              "      <th>79</th>\n",
              "      <td>Canada</td>\n",
              "      <td>2020-04-10</td>\n",
              "      <td>22059</td>\n",
              "      <td>557</td>\n",
              "      <td>5855</td>\n",
              "      <td>1405.0</td>\n",
              "      <td>54.0</td>\n",
              "    </tr>\n",
              "    <tr>\n",
              "      <th>80</th>\n",
              "      <td>Canada</td>\n",
              "      <td>2020-04-11</td>\n",
              "      <td>23316</td>\n",
              "      <td>654</td>\n",
              "      <td>6589</td>\n",
              "      <td>1257.0</td>\n",
              "      <td>97.0</td>\n",
              "    </tr>\n",
              "    <tr>\n",
              "      <th>81</th>\n",
              "      <td>Canada</td>\n",
              "      <td>2020-04-12</td>\n",
              "      <td>24298</td>\n",
              "      <td>714</td>\n",
              "      <td>7123</td>\n",
              "      <td>982.0</td>\n",
              "      <td>60.0</td>\n",
              "    </tr>\n",
              "    <tr>\n",
              "      <th>82</th>\n",
              "      <td>Canada</td>\n",
              "      <td>2020-04-13</td>\n",
              "      <td>25679</td>\n",
              "      <td>779</td>\n",
              "      <td>7758</td>\n",
              "      <td>1381.0</td>\n",
              "      <td>65.0</td>\n",
              "    </tr>\n",
              "  </tbody>\n",
              "</table>\n",
              "</div>"
            ],
            "text/plain": [
              "   country       date  confirmed  deaths  recovered  new_confirmed  new_deaths\n",
              "78  Canada 2020-04-09      20654     503       5162         1513.0        96.0\n",
              "79  Canada 2020-04-10      22059     557       5855         1405.0        54.0\n",
              "80  Canada 2020-04-11      23316     654       6589         1257.0        97.0\n",
              "81  Canada 2020-04-12      24298     714       7123          982.0        60.0\n",
              "82  Canada 2020-04-13      25679     779       7758         1381.0        65.0"
            ]
          },
          "metadata": {
            "tags": []
          },
          "execution_count": 254
        }
      ]
    },
    {
      "cell_type": "code",
      "metadata": {
        "id": "QG590pNnZNRq",
        "colab_type": "code",
        "outputId": "21c9604a-1cd5-4930-bfa3-5418549d4ce5",
        "colab": {
          "base_uri": "https://localhost:8080/",
          "height": 255
        }
      },
      "source": [
        "canada_df.info()"
      ],
      "execution_count": 0,
      "outputs": [
        {
          "output_type": "stream",
          "text": [
            "<class 'pandas.core.frame.DataFrame'>\n",
            "RangeIndex: 83 entries, 0 to 82\n",
            "Data columns (total 7 columns):\n",
            " #   Column         Non-Null Count  Dtype         \n",
            "---  ------         --------------  -----         \n",
            " 0   country        83 non-null     object        \n",
            " 1   date           83 non-null     datetime64[ns]\n",
            " 2   confirmed      83 non-null     int64         \n",
            " 3   deaths         83 non-null     int64         \n",
            " 4   recovered      83 non-null     int64         \n",
            " 5   new_confirmed  82 non-null     float64       \n",
            " 6   new_deaths     82 non-null     float64       \n",
            "dtypes: datetime64[ns](1), float64(2), int64(3), object(1)\n",
            "memory usage: 4.7+ KB\n"
          ],
          "name": "stdout"
        }
      ]
    },
    {
      "cell_type": "code",
      "metadata": {
        "id": "TXr2eaoKYpC-",
        "colab_type": "code",
        "colab": {}
      },
      "source": [
        "canada_df.set_index('date', inplace=True)"
      ],
      "execution_count": 0,
      "outputs": []
    },
    {
      "cell_type": "code",
      "metadata": {
        "id": "w4D5e9mGYwl-",
        "colab_type": "code",
        "outputId": "c548c42f-af0c-4eb6-e9d5-ec4c657b296c",
        "colab": {
          "base_uri": "https://localhost:8080/",
          "height": 390
        }
      },
      "source": [
        "canada_df.head(10)"
      ],
      "execution_count": 0,
      "outputs": [
        {
          "output_type": "execute_result",
          "data": {
            "text/html": [
              "<div>\n",
              "<style scoped>\n",
              "    .dataframe tbody tr th:only-of-type {\n",
              "        vertical-align: middle;\n",
              "    }\n",
              "\n",
              "    .dataframe tbody tr th {\n",
              "        vertical-align: top;\n",
              "    }\n",
              "\n",
              "    .dataframe thead th {\n",
              "        text-align: right;\n",
              "    }\n",
              "</style>\n",
              "<table border=\"1\" class=\"dataframe\">\n",
              "  <thead>\n",
              "    <tr style=\"text-align: right;\">\n",
              "      <th></th>\n",
              "      <th>country</th>\n",
              "      <th>confirmed</th>\n",
              "      <th>deaths</th>\n",
              "      <th>recovered</th>\n",
              "      <th>new_confirmed</th>\n",
              "      <th>new_deaths</th>\n",
              "    </tr>\n",
              "    <tr>\n",
              "      <th>date</th>\n",
              "      <th></th>\n",
              "      <th></th>\n",
              "      <th></th>\n",
              "      <th></th>\n",
              "      <th></th>\n",
              "      <th></th>\n",
              "    </tr>\n",
              "  </thead>\n",
              "  <tbody>\n",
              "    <tr>\n",
              "      <th>2020-01-22</th>\n",
              "      <td>Canada</td>\n",
              "      <td>0</td>\n",
              "      <td>0</td>\n",
              "      <td>0</td>\n",
              "      <td>NaN</td>\n",
              "      <td>NaN</td>\n",
              "    </tr>\n",
              "    <tr>\n",
              "      <th>2020-01-23</th>\n",
              "      <td>Canada</td>\n",
              "      <td>0</td>\n",
              "      <td>0</td>\n",
              "      <td>0</td>\n",
              "      <td>0.0</td>\n",
              "      <td>0.0</td>\n",
              "    </tr>\n",
              "    <tr>\n",
              "      <th>2020-01-24</th>\n",
              "      <td>Canada</td>\n",
              "      <td>0</td>\n",
              "      <td>0</td>\n",
              "      <td>0</td>\n",
              "      <td>0.0</td>\n",
              "      <td>0.0</td>\n",
              "    </tr>\n",
              "    <tr>\n",
              "      <th>2020-01-25</th>\n",
              "      <td>Canada</td>\n",
              "      <td>0</td>\n",
              "      <td>0</td>\n",
              "      <td>0</td>\n",
              "      <td>0.0</td>\n",
              "      <td>0.0</td>\n",
              "    </tr>\n",
              "    <tr>\n",
              "      <th>2020-01-26</th>\n",
              "      <td>Canada</td>\n",
              "      <td>1</td>\n",
              "      <td>0</td>\n",
              "      <td>0</td>\n",
              "      <td>1.0</td>\n",
              "      <td>0.0</td>\n",
              "    </tr>\n",
              "    <tr>\n",
              "      <th>2020-01-27</th>\n",
              "      <td>Canada</td>\n",
              "      <td>1</td>\n",
              "      <td>0</td>\n",
              "      <td>0</td>\n",
              "      <td>0.0</td>\n",
              "      <td>0.0</td>\n",
              "    </tr>\n",
              "    <tr>\n",
              "      <th>2020-01-28</th>\n",
              "      <td>Canada</td>\n",
              "      <td>2</td>\n",
              "      <td>0</td>\n",
              "      <td>0</td>\n",
              "      <td>1.0</td>\n",
              "      <td>0.0</td>\n",
              "    </tr>\n",
              "    <tr>\n",
              "      <th>2020-01-29</th>\n",
              "      <td>Canada</td>\n",
              "      <td>2</td>\n",
              "      <td>0</td>\n",
              "      <td>0</td>\n",
              "      <td>0.0</td>\n",
              "      <td>0.0</td>\n",
              "    </tr>\n",
              "    <tr>\n",
              "      <th>2020-01-30</th>\n",
              "      <td>Canada</td>\n",
              "      <td>2</td>\n",
              "      <td>0</td>\n",
              "      <td>0</td>\n",
              "      <td>0.0</td>\n",
              "      <td>0.0</td>\n",
              "    </tr>\n",
              "    <tr>\n",
              "      <th>2020-01-31</th>\n",
              "      <td>Canada</td>\n",
              "      <td>4</td>\n",
              "      <td>0</td>\n",
              "      <td>0</td>\n",
              "      <td>2.0</td>\n",
              "      <td>0.0</td>\n",
              "    </tr>\n",
              "  </tbody>\n",
              "</table>\n",
              "</div>"
            ],
            "text/plain": [
              "           country  confirmed  deaths  recovered  new_confirmed  new_deaths\n",
              "date                                                                       \n",
              "2020-01-22  Canada          0       0          0            NaN         NaN\n",
              "2020-01-23  Canada          0       0          0            0.0         0.0\n",
              "2020-01-24  Canada          0       0          0            0.0         0.0\n",
              "2020-01-25  Canada          0       0          0            0.0         0.0\n",
              "2020-01-26  Canada          1       0          0            1.0         0.0\n",
              "2020-01-27  Canada          1       0          0            0.0         0.0\n",
              "2020-01-28  Canada          2       0          0            1.0         0.0\n",
              "2020-01-29  Canada          2       0          0            0.0         0.0\n",
              "2020-01-30  Canada          2       0          0            0.0         0.0\n",
              "2020-01-31  Canada          4       0          0            2.0         0.0"
            ]
          },
          "metadata": {
            "tags": []
          },
          "execution_count": 257
        }
      ]
    },
    {
      "cell_type": "markdown",
      "metadata": {
        "id": "35Yjn74MYXao",
        "colab_type": "text"
      },
      "source": [
        "## Data Split"
      ]
    },
    {
      "cell_type": "markdown",
      "metadata": {
        "id": "AV-h_nDdYZT-",
        "colab_type": "text"
      },
      "source": [
        "Take data before `2020-04-01` as training while data after as test"
      ]
    },
    {
      "cell_type": "code",
      "metadata": {
        "id": "arnzMCHsVzVu",
        "colab_type": "code",
        "colab": {}
      },
      "source": [
        "train = canada_df.loc[:'2020-04-01']\n",
        "test = canada_df.loc['2020-04-02':]"
      ],
      "execution_count": 0,
      "outputs": []
    },
    {
      "cell_type": "code",
      "metadata": {
        "id": "BNG5d2O4ZwBH",
        "colab_type": "code",
        "outputId": "01ce8d79-baaf-46ff-e580-2a899bc67b13",
        "colab": {
          "base_uri": "https://localhost:8080/",
          "height": 235
        }
      },
      "source": [
        "train.tail()"
      ],
      "execution_count": 0,
      "outputs": [
        {
          "output_type": "execute_result",
          "data": {
            "text/html": [
              "<div>\n",
              "<style scoped>\n",
              "    .dataframe tbody tr th:only-of-type {\n",
              "        vertical-align: middle;\n",
              "    }\n",
              "\n",
              "    .dataframe tbody tr th {\n",
              "        vertical-align: top;\n",
              "    }\n",
              "\n",
              "    .dataframe thead th {\n",
              "        text-align: right;\n",
              "    }\n",
              "</style>\n",
              "<table border=\"1\" class=\"dataframe\">\n",
              "  <thead>\n",
              "    <tr style=\"text-align: right;\">\n",
              "      <th></th>\n",
              "      <th>country</th>\n",
              "      <th>confirmed</th>\n",
              "      <th>deaths</th>\n",
              "      <th>recovered</th>\n",
              "      <th>new_confirmed</th>\n",
              "      <th>new_deaths</th>\n",
              "    </tr>\n",
              "    <tr>\n",
              "      <th>date</th>\n",
              "      <th></th>\n",
              "      <th></th>\n",
              "      <th></th>\n",
              "      <th></th>\n",
              "      <th></th>\n",
              "      <th></th>\n",
              "    </tr>\n",
              "  </thead>\n",
              "  <tbody>\n",
              "    <tr>\n",
              "      <th>2020-03-28</th>\n",
              "      <td>Canada</td>\n",
              "      <td>5576</td>\n",
              "      <td>61</td>\n",
              "      <td>466</td>\n",
              "      <td>894.0</td>\n",
              "      <td>7.0</td>\n",
              "    </tr>\n",
              "    <tr>\n",
              "      <th>2020-03-29</th>\n",
              "      <td>Canada</td>\n",
              "      <td>6280</td>\n",
              "      <td>64</td>\n",
              "      <td>466</td>\n",
              "      <td>704.0</td>\n",
              "      <td>3.0</td>\n",
              "    </tr>\n",
              "    <tr>\n",
              "      <th>2020-03-30</th>\n",
              "      <td>Canada</td>\n",
              "      <td>7398</td>\n",
              "      <td>80</td>\n",
              "      <td>466</td>\n",
              "      <td>1118.0</td>\n",
              "      <td>16.0</td>\n",
              "    </tr>\n",
              "    <tr>\n",
              "      <th>2020-03-31</th>\n",
              "      <td>Canada</td>\n",
              "      <td>8527</td>\n",
              "      <td>101</td>\n",
              "      <td>1592</td>\n",
              "      <td>1129.0</td>\n",
              "      <td>21.0</td>\n",
              "    </tr>\n",
              "    <tr>\n",
              "      <th>2020-04-01</th>\n",
              "      <td>Canada</td>\n",
              "      <td>9560</td>\n",
              "      <td>109</td>\n",
              "      <td>1324</td>\n",
              "      <td>1033.0</td>\n",
              "      <td>8.0</td>\n",
              "    </tr>\n",
              "  </tbody>\n",
              "</table>\n",
              "</div>"
            ],
            "text/plain": [
              "           country  confirmed  deaths  recovered  new_confirmed  new_deaths\n",
              "date                                                                       \n",
              "2020-03-28  Canada       5576      61        466          894.0         7.0\n",
              "2020-03-29  Canada       6280      64        466          704.0         3.0\n",
              "2020-03-30  Canada       7398      80        466         1118.0        16.0\n",
              "2020-03-31  Canada       8527     101       1592         1129.0        21.0\n",
              "2020-04-01  Canada       9560     109       1324         1033.0         8.0"
            ]
          },
          "metadata": {
            "tags": []
          },
          "execution_count": 259
        }
      ]
    },
    {
      "cell_type": "code",
      "metadata": {
        "id": "Pwx6YPMnuN8-",
        "colab_type": "code",
        "colab": {}
      },
      "source": [
        "train.reset_index(drop=True, inplace=True)"
      ],
      "execution_count": 0,
      "outputs": []
    },
    {
      "cell_type": "code",
      "metadata": {
        "id": "DHpUpa_PnC3A",
        "colab_type": "code",
        "colab": {}
      },
      "source": [
        "temp = canada_df.copy()\n",
        "target = 'confirmed'\n",
        "x=[]\n",
        "y=[]\n",
        "n_steps = 7\n",
        "sequence=list(temp[target])\n",
        "for i in range(len(sequence)):\n",
        "    end_ix = i + n_steps\n",
        "    if end_ix > len(sequence)-1:\n",
        "        break\n",
        "    seq_x, seq_y = sequence[i:end_ix], sequence[end_ix]\n",
        "    if(seq_y!=0):\n",
        "        x.append(seq_x)   \n",
        "        y.append(seq_y)"
      ],
      "execution_count": 0,
      "outputs": []
    },
    {
      "cell_type": "code",
      "metadata": {
        "id": "SNvBuwHwonvg",
        "colab_type": "code",
        "outputId": "057ae5af-6a45-44f9-acd2-028eaaa3a3c3",
        "colab": {
          "base_uri": "https://localhost:8080/",
          "height": 419
        }
      },
      "source": [
        "pd.DataFrame(x)"
      ],
      "execution_count": 0,
      "outputs": [
        {
          "output_type": "execute_result",
          "data": {
            "text/html": [
              "<div>\n",
              "<style scoped>\n",
              "    .dataframe tbody tr th:only-of-type {\n",
              "        vertical-align: middle;\n",
              "    }\n",
              "\n",
              "    .dataframe tbody tr th {\n",
              "        vertical-align: top;\n",
              "    }\n",
              "\n",
              "    .dataframe thead th {\n",
              "        text-align: right;\n",
              "    }\n",
              "</style>\n",
              "<table border=\"1\" class=\"dataframe\">\n",
              "  <thead>\n",
              "    <tr style=\"text-align: right;\">\n",
              "      <th></th>\n",
              "      <th>0</th>\n",
              "      <th>1</th>\n",
              "      <th>2</th>\n",
              "      <th>3</th>\n",
              "      <th>4</th>\n",
              "      <th>5</th>\n",
              "      <th>6</th>\n",
              "    </tr>\n",
              "  </thead>\n",
              "  <tbody>\n",
              "    <tr>\n",
              "      <th>0</th>\n",
              "      <td>0</td>\n",
              "      <td>0</td>\n",
              "      <td>0</td>\n",
              "      <td>0</td>\n",
              "      <td>1</td>\n",
              "      <td>1</td>\n",
              "      <td>2</td>\n",
              "    </tr>\n",
              "    <tr>\n",
              "      <th>1</th>\n",
              "      <td>0</td>\n",
              "      <td>0</td>\n",
              "      <td>0</td>\n",
              "      <td>1</td>\n",
              "      <td>1</td>\n",
              "      <td>2</td>\n",
              "      <td>2</td>\n",
              "    </tr>\n",
              "    <tr>\n",
              "      <th>2</th>\n",
              "      <td>0</td>\n",
              "      <td>0</td>\n",
              "      <td>1</td>\n",
              "      <td>1</td>\n",
              "      <td>2</td>\n",
              "      <td>2</td>\n",
              "      <td>2</td>\n",
              "    </tr>\n",
              "    <tr>\n",
              "      <th>3</th>\n",
              "      <td>0</td>\n",
              "      <td>1</td>\n",
              "      <td>1</td>\n",
              "      <td>2</td>\n",
              "      <td>2</td>\n",
              "      <td>2</td>\n",
              "      <td>4</td>\n",
              "    </tr>\n",
              "    <tr>\n",
              "      <th>4</th>\n",
              "      <td>1</td>\n",
              "      <td>1</td>\n",
              "      <td>2</td>\n",
              "      <td>2</td>\n",
              "      <td>2</td>\n",
              "      <td>4</td>\n",
              "      <td>4</td>\n",
              "    </tr>\n",
              "    <tr>\n",
              "      <th>...</th>\n",
              "      <td>...</td>\n",
              "      <td>...</td>\n",
              "      <td>...</td>\n",
              "      <td>...</td>\n",
              "      <td>...</td>\n",
              "      <td>...</td>\n",
              "      <td>...</td>\n",
              "    </tr>\n",
              "    <tr>\n",
              "      <th>71</th>\n",
              "      <td>11284</td>\n",
              "      <td>12437</td>\n",
              "      <td>12978</td>\n",
              "      <td>15756</td>\n",
              "      <td>16563</td>\n",
              "      <td>17872</td>\n",
              "      <td>19141</td>\n",
              "    </tr>\n",
              "    <tr>\n",
              "      <th>72</th>\n",
              "      <td>12437</td>\n",
              "      <td>12978</td>\n",
              "      <td>15756</td>\n",
              "      <td>16563</td>\n",
              "      <td>17872</td>\n",
              "      <td>19141</td>\n",
              "      <td>20654</td>\n",
              "    </tr>\n",
              "    <tr>\n",
              "      <th>73</th>\n",
              "      <td>12978</td>\n",
              "      <td>15756</td>\n",
              "      <td>16563</td>\n",
              "      <td>17872</td>\n",
              "      <td>19141</td>\n",
              "      <td>20654</td>\n",
              "      <td>22059</td>\n",
              "    </tr>\n",
              "    <tr>\n",
              "      <th>74</th>\n",
              "      <td>15756</td>\n",
              "      <td>16563</td>\n",
              "      <td>17872</td>\n",
              "      <td>19141</td>\n",
              "      <td>20654</td>\n",
              "      <td>22059</td>\n",
              "      <td>23316</td>\n",
              "    </tr>\n",
              "    <tr>\n",
              "      <th>75</th>\n",
              "      <td>16563</td>\n",
              "      <td>17872</td>\n",
              "      <td>19141</td>\n",
              "      <td>20654</td>\n",
              "      <td>22059</td>\n",
              "      <td>23316</td>\n",
              "      <td>24298</td>\n",
              "    </tr>\n",
              "  </tbody>\n",
              "</table>\n",
              "<p>76 rows × 7 columns</p>\n",
              "</div>"
            ],
            "text/plain": [
              "        0      1      2      3      4      5      6\n",
              "0       0      0      0      0      1      1      2\n",
              "1       0      0      0      1      1      2      2\n",
              "2       0      0      1      1      2      2      2\n",
              "3       0      1      1      2      2      2      4\n",
              "4       1      1      2      2      2      4      4\n",
              "..    ...    ...    ...    ...    ...    ...    ...\n",
              "71  11284  12437  12978  15756  16563  17872  19141\n",
              "72  12437  12978  15756  16563  17872  19141  20654\n",
              "73  12978  15756  16563  17872  19141  20654  22059\n",
              "74  15756  16563  17872  19141  20654  22059  23316\n",
              "75  16563  17872  19141  20654  22059  23316  24298\n",
              "\n",
              "[76 rows x 7 columns]"
            ]
          },
          "metadata": {
            "tags": []
          },
          "execution_count": 262
        }
      ]
    },
    {
      "cell_type": "code",
      "metadata": {
        "id": "XECIklDW1XM3",
        "colab_type": "code",
        "outputId": "774d43aa-3b4a-44a2-9b3d-9d95eb933abf",
        "colab": {
          "base_uri": "https://localhost:8080/",
          "height": 54
        }
      },
      "source": [
        "\t\"\"\"\n",
        "\tFrame a time series as a supervised learning dataset.\n",
        "\tArguments:\n",
        "\t\tdata: Sequence of observations as a list or NumPy array.\n",
        "\t\tn_in: Number of lag observations as input (X).\n",
        "\t\tn_out: Number of observations as output (y).\n",
        "\t\tdropnan: Boolean whether or not to drop rows with NaN values.\n",
        "\tReturns:\n",
        "\t\tPandas DataFrame of series framed for supervised learning.\n",
        "\t\"\"\""
      ],
      "execution_count": 0,
      "outputs": [
        {
          "output_type": "execute_result",
          "data": {
            "text/plain": [
              "'\\nFrame a time series as a supervised learning dataset.\\nArguments:\\n\\tdata: Sequence of observations as a list or NumPy array.\\n\\tn_in: Number of lag observations as input (X).\\n\\tn_out: Number of observations as output (y).\\n\\tdropnan: Boolean whether or not to drop rows with NaN values.\\nReturns:\\n\\tPandas DataFrame of series framed for supervised learning.\\n'"
            ]
          },
          "metadata": {
            "tags": []
          },
          "execution_count": 263
        }
      ]
    },
    {
      "cell_type": "code",
      "metadata": {
        "id": "lHBNlcXNsYxr",
        "colab_type": "code",
        "colab": {}
      },
      "source": [
        "def series_to_supervised(data, n_in=1, n_out=1, dropnan=True):\n",
        "  n_vars = 1 if type(data) is list else data.shape[0]\n",
        "  df = pd.DataFrame(data)\n",
        "  cols, names = list(), list()\n",
        "\t# input sequence (t-n, ... t-1)\n",
        "  for i in range(n_in, 0, -1):\n",
        "    cols.append(df.shift(i))\n",
        "    names += [('var%d(t-%d)' % (j+1, i)) for j in range(n_vars)]\n",
        "\t# forecast sequence (t, t+1, ... t+n)\n",
        "  for i in range(0, n_out):\n",
        "    cols.append(df.shift(-i))\n",
        "    if i == 0:\n",
        "      names += [('var%d(t)' % (j+1)) for j in range(n_vars)]\n",
        "    else:\n",
        "      names += [('var%d(t+%d)' % (j+1, i)) for j in range(n_vars)]\n",
        "\t# put it all together\n",
        "  agg = pd.concat(cols, axis=1)\n",
        "  print(names)\n",
        "  agg.columns = names\n",
        "\t# drop rows with NaN values\n",
        "  if dropnan:\n",
        "    agg.dropna(inplace=True)\n",
        "  return agg"
      ],
      "execution_count": 0,
      "outputs": []
    },
    {
      "cell_type": "code",
      "metadata": {
        "id": "FPH0BJFKueVa",
        "colab_type": "code",
        "outputId": "26838d2b-a432-4408-d545-b5d557a79dfd",
        "colab": {
          "base_uri": "https://localhost:8080/",
          "height": 34
        }
      },
      "source": [
        "canada_df['confirmed'].shape"
      ],
      "execution_count": 0,
      "outputs": [
        {
          "output_type": "execute_result",
          "data": {
            "text/plain": [
              "(83,)"
            ]
          },
          "metadata": {
            "tags": []
          },
          "execution_count": 265
        }
      ]
    },
    {
      "cell_type": "code",
      "metadata": {
        "id": "AKthy5vRxqZU",
        "colab_type": "code",
        "colab": {}
      },
      "source": [
        "confirmed = canada_df['confirmed'].tolist()"
      ],
      "execution_count": 0,
      "outputs": []
    },
    {
      "cell_type": "code",
      "metadata": {
        "id": "jS7oudWCtnHz",
        "colab_type": "code",
        "outputId": "7decef70-e1de-4df6-bdd7-b5a6c2c9c963",
        "colab": {
          "base_uri": "https://localhost:8080/",
          "height": 34
        }
      },
      "source": [
        "agg = series_to_supervised(confirmed, 7)"
      ],
      "execution_count": 0,
      "outputs": [
        {
          "output_type": "stream",
          "text": [
            "['var1(t-7)', 'var1(t-6)', 'var1(t-5)', 'var1(t-4)', 'var1(t-3)', 'var1(t-2)', 'var1(t-1)', 'var1(t)']\n"
          ],
          "name": "stdout"
        }
      ]
    },
    {
      "cell_type": "code",
      "metadata": {
        "id": "lAeEQ2n8xN4I",
        "colab_type": "code",
        "outputId": "d55ed154-2bff-4fe1-a90a-f6db207ae8ae",
        "colab": {
          "base_uri": "https://localhost:8080/",
          "height": 204
        }
      },
      "source": [
        "agg.head()"
      ],
      "execution_count": 0,
      "outputs": [
        {
          "output_type": "execute_result",
          "data": {
            "text/html": [
              "<div>\n",
              "<style scoped>\n",
              "    .dataframe tbody tr th:only-of-type {\n",
              "        vertical-align: middle;\n",
              "    }\n",
              "\n",
              "    .dataframe tbody tr th {\n",
              "        vertical-align: top;\n",
              "    }\n",
              "\n",
              "    .dataframe thead th {\n",
              "        text-align: right;\n",
              "    }\n",
              "</style>\n",
              "<table border=\"1\" class=\"dataframe\">\n",
              "  <thead>\n",
              "    <tr style=\"text-align: right;\">\n",
              "      <th></th>\n",
              "      <th>var1(t-7)</th>\n",
              "      <th>var1(t-6)</th>\n",
              "      <th>var1(t-5)</th>\n",
              "      <th>var1(t-4)</th>\n",
              "      <th>var1(t-3)</th>\n",
              "      <th>var1(t-2)</th>\n",
              "      <th>var1(t-1)</th>\n",
              "      <th>var1(t)</th>\n",
              "    </tr>\n",
              "  </thead>\n",
              "  <tbody>\n",
              "    <tr>\n",
              "      <th>7</th>\n",
              "      <td>0.0</td>\n",
              "      <td>0.0</td>\n",
              "      <td>0.0</td>\n",
              "      <td>0.0</td>\n",
              "      <td>1.0</td>\n",
              "      <td>1.0</td>\n",
              "      <td>2.0</td>\n",
              "      <td>2</td>\n",
              "    </tr>\n",
              "    <tr>\n",
              "      <th>8</th>\n",
              "      <td>0.0</td>\n",
              "      <td>0.0</td>\n",
              "      <td>0.0</td>\n",
              "      <td>1.0</td>\n",
              "      <td>1.0</td>\n",
              "      <td>2.0</td>\n",
              "      <td>2.0</td>\n",
              "      <td>2</td>\n",
              "    </tr>\n",
              "    <tr>\n",
              "      <th>9</th>\n",
              "      <td>0.0</td>\n",
              "      <td>0.0</td>\n",
              "      <td>1.0</td>\n",
              "      <td>1.0</td>\n",
              "      <td>2.0</td>\n",
              "      <td>2.0</td>\n",
              "      <td>2.0</td>\n",
              "      <td>4</td>\n",
              "    </tr>\n",
              "    <tr>\n",
              "      <th>10</th>\n",
              "      <td>0.0</td>\n",
              "      <td>1.0</td>\n",
              "      <td>1.0</td>\n",
              "      <td>2.0</td>\n",
              "      <td>2.0</td>\n",
              "      <td>2.0</td>\n",
              "      <td>4.0</td>\n",
              "      <td>4</td>\n",
              "    </tr>\n",
              "    <tr>\n",
              "      <th>11</th>\n",
              "      <td>1.0</td>\n",
              "      <td>1.0</td>\n",
              "      <td>2.0</td>\n",
              "      <td>2.0</td>\n",
              "      <td>2.0</td>\n",
              "      <td>4.0</td>\n",
              "      <td>4.0</td>\n",
              "      <td>4</td>\n",
              "    </tr>\n",
              "  </tbody>\n",
              "</table>\n",
              "</div>"
            ],
            "text/plain": [
              "    var1(t-7)  var1(t-6)  var1(t-5)  ...  var1(t-2)  var1(t-1)  var1(t)\n",
              "7         0.0        0.0        0.0  ...        1.0        2.0        2\n",
              "8         0.0        0.0        0.0  ...        2.0        2.0        2\n",
              "9         0.0        0.0        1.0  ...        2.0        2.0        4\n",
              "10        0.0        1.0        1.0  ...        2.0        4.0        4\n",
              "11        1.0        1.0        2.0  ...        4.0        4.0        4\n",
              "\n",
              "[5 rows x 8 columns]"
            ]
          },
          "metadata": {
            "tags": []
          },
          "execution_count": 271
        }
      ]
    },
    {
      "cell_type": "code",
      "metadata": {
        "id": "INP615uYuErQ",
        "colab_type": "code",
        "colab": {}
      },
      "source": [
        ""
      ],
      "execution_count": 0,
      "outputs": []
    }
  ]
}