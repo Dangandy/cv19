{
  "nbformat": 4,
  "nbformat_minor": 0,
  "metadata": {
    "colab": {
      "name": "covid19_eda.ipynb",
      "provenance": [],
      "authorship_tag": "ABX9TyOIRRhd2JHPRCYtZ6wQNuvU"
    },
    "kernelspec": {
      "name": "python3",
      "display_name": "Python 3"
    }
  },
  "cells": [
    {
      "cell_type": "code",
      "metadata": {
        "id": "JKswm-YIpnBU",
        "colab_type": "code",
        "colab": {}
      },
      "source": [
        "import requests\n",
        "import pandas as pd\n",
        "import numpy as np\n",
        "import matplotlib.pyplot as plt\n",
        "from sklearn.linear_model import LinearRegression\n",
        "from sklearn.model_selection import train_test_split\n",
        "\n",
        "from dateutil.relativedelta import relativedelta\n",
        "\n",
        "import tensorflow as tf\n",
        "from keras.models import Sequential\n",
        "from keras.layers import LSTM\n",
        "from keras.layers import Dense\n",
        "\n",
        "plt.rcParams['figure.facecolor'] = 'w'\n"
      ],
      "execution_count": 0,
      "outputs": []
    },
    {
      "cell_type": "markdown",
      "metadata": {
        "id": "mPjWbRd0qhwx",
        "colab_type": "text"
      },
      "source": [
        "# Load Data"
      ]
    },
    {
      "cell_type": "code",
      "metadata": {
        "id": "PyfOOZQEqZC4",
        "colab_type": "code",
        "colab": {}
      },
      "source": [
        "url = 'https://pomber.github.io/covid19/timeseries.json'"
      ],
      "execution_count": 0,
      "outputs": []
    },
    {
      "cell_type": "code",
      "metadata": {
        "id": "2U9zUeraqdBq",
        "colab_type": "code",
        "colab": {}
      },
      "source": [
        "response = requests.get(url)"
      ],
      "execution_count": 0,
      "outputs": []
    },
    {
      "cell_type": "code",
      "metadata": {
        "id": "qZVgKZ4PqeSx",
        "colab_type": "code",
        "colab": {}
      },
      "source": [
        "json = response.json()"
      ],
      "execution_count": 0,
      "outputs": []
    },
    {
      "cell_type": "markdown",
      "metadata": {
        "id": "2ZS4sRC3qkM1",
        "colab_type": "text"
      },
      "source": [
        "# EDA"
      ]
    },
    {
      "cell_type": "code",
      "metadata": {
        "id": "4HbN7y-zqfuQ",
        "colab_type": "code",
        "outputId": "b8930102-dc5e-4961-e88b-e7d9c0bddeb6",
        "colab": {
          "base_uri": "https://localhost:8080/",
          "height": 712
        }
      },
      "source": [
        "pd.DataFrame(json).head()"
      ],
      "execution_count": 0,
      "outputs": [
        {
          "output_type": "execute_result",
          "data": {
            "text/html": [
              "<div>\n",
              "<style scoped>\n",
              "    .dataframe tbody tr th:only-of-type {\n",
              "        vertical-align: middle;\n",
              "    }\n",
              "\n",
              "    .dataframe tbody tr th {\n",
              "        vertical-align: top;\n",
              "    }\n",
              "\n",
              "    .dataframe thead th {\n",
              "        text-align: right;\n",
              "    }\n",
              "</style>\n",
              "<table border=\"1\" class=\"dataframe\">\n",
              "  <thead>\n",
              "    <tr style=\"text-align: right;\">\n",
              "      <th></th>\n",
              "      <th>Afghanistan</th>\n",
              "      <th>Albania</th>\n",
              "      <th>Algeria</th>\n",
              "      <th>Andorra</th>\n",
              "      <th>Angola</th>\n",
              "      <th>Antigua and Barbuda</th>\n",
              "      <th>Argentina</th>\n",
              "      <th>Armenia</th>\n",
              "      <th>Australia</th>\n",
              "      <th>Austria</th>\n",
              "      <th>Azerbaijan</th>\n",
              "      <th>Bahamas</th>\n",
              "      <th>Bahrain</th>\n",
              "      <th>Bangladesh</th>\n",
              "      <th>Barbados</th>\n",
              "      <th>Belarus</th>\n",
              "      <th>Belgium</th>\n",
              "      <th>Benin</th>\n",
              "      <th>Bhutan</th>\n",
              "      <th>Bolivia</th>\n",
              "      <th>Bosnia and Herzegovina</th>\n",
              "      <th>Brazil</th>\n",
              "      <th>Brunei</th>\n",
              "      <th>Bulgaria</th>\n",
              "      <th>Burkina Faso</th>\n",
              "      <th>Cabo Verde</th>\n",
              "      <th>Cambodia</th>\n",
              "      <th>Cameroon</th>\n",
              "      <th>Canada</th>\n",
              "      <th>Central African Republic</th>\n",
              "      <th>Chad</th>\n",
              "      <th>Chile</th>\n",
              "      <th>China</th>\n",
              "      <th>Colombia</th>\n",
              "      <th>Congo (Brazzaville)</th>\n",
              "      <th>Congo (Kinshasa)</th>\n",
              "      <th>Costa Rica</th>\n",
              "      <th>Cote d'Ivoire</th>\n",
              "      <th>Croatia</th>\n",
              "      <th>Diamond Princess</th>\n",
              "      <th>...</th>\n",
              "      <th>Tanzania</th>\n",
              "      <th>Thailand</th>\n",
              "      <th>Togo</th>\n",
              "      <th>Trinidad and Tobago</th>\n",
              "      <th>Tunisia</th>\n",
              "      <th>Turkey</th>\n",
              "      <th>Uganda</th>\n",
              "      <th>Ukraine</th>\n",
              "      <th>United Arab Emirates</th>\n",
              "      <th>United Kingdom</th>\n",
              "      <th>Uruguay</th>\n",
              "      <th>US</th>\n",
              "      <th>Uzbekistan</th>\n",
              "      <th>Venezuela</th>\n",
              "      <th>Vietnam</th>\n",
              "      <th>Zambia</th>\n",
              "      <th>Zimbabwe</th>\n",
              "      <th>Dominica</th>\n",
              "      <th>Grenada</th>\n",
              "      <th>Mozambique</th>\n",
              "      <th>Syria</th>\n",
              "      <th>Timor-Leste</th>\n",
              "      <th>Belize</th>\n",
              "      <th>Laos</th>\n",
              "      <th>Libya</th>\n",
              "      <th>West Bank and Gaza</th>\n",
              "      <th>Guinea-Bissau</th>\n",
              "      <th>Mali</th>\n",
              "      <th>Saint Kitts and Nevis</th>\n",
              "      <th>Kosovo</th>\n",
              "      <th>Burma</th>\n",
              "      <th>MS Zaandam</th>\n",
              "      <th>Botswana</th>\n",
              "      <th>Burundi</th>\n",
              "      <th>Sierra Leone</th>\n",
              "      <th>Malawi</th>\n",
              "      <th>South Sudan</th>\n",
              "      <th>Western Sahara</th>\n",
              "      <th>Sao Tome and Principe</th>\n",
              "      <th>Yemen</th>\n",
              "    </tr>\n",
              "  </thead>\n",
              "  <tbody>\n",
              "    <tr>\n",
              "      <th>0</th>\n",
              "      <td>{'date': '2020-1-22', 'confirmed': 0, 'deaths'...</td>\n",
              "      <td>{'date': '2020-1-22', 'confirmed': 0, 'deaths'...</td>\n",
              "      <td>{'date': '2020-1-22', 'confirmed': 0, 'deaths'...</td>\n",
              "      <td>{'date': '2020-1-22', 'confirmed': 0, 'deaths'...</td>\n",
              "      <td>{'date': '2020-1-22', 'confirmed': 0, 'deaths'...</td>\n",
              "      <td>{'date': '2020-1-22', 'confirmed': 0, 'deaths'...</td>\n",
              "      <td>{'date': '2020-1-22', 'confirmed': 0, 'deaths'...</td>\n",
              "      <td>{'date': '2020-1-22', 'confirmed': 0, 'deaths'...</td>\n",
              "      <td>{'date': '2020-1-22', 'confirmed': 0, 'deaths'...</td>\n",
              "      <td>{'date': '2020-1-22', 'confirmed': 0, 'deaths'...</td>\n",
              "      <td>{'date': '2020-1-22', 'confirmed': 0, 'deaths'...</td>\n",
              "      <td>{'date': '2020-1-22', 'confirmed': 0, 'deaths'...</td>\n",
              "      <td>{'date': '2020-1-22', 'confirmed': 0, 'deaths'...</td>\n",
              "      <td>{'date': '2020-1-22', 'confirmed': 0, 'deaths'...</td>\n",
              "      <td>{'date': '2020-1-22', 'confirmed': 0, 'deaths'...</td>\n",
              "      <td>{'date': '2020-1-22', 'confirmed': 0, 'deaths'...</td>\n",
              "      <td>{'date': '2020-1-22', 'confirmed': 0, 'deaths'...</td>\n",
              "      <td>{'date': '2020-1-22', 'confirmed': 0, 'deaths'...</td>\n",
              "      <td>{'date': '2020-1-22', 'confirmed': 0, 'deaths'...</td>\n",
              "      <td>{'date': '2020-1-22', 'confirmed': 0, 'deaths'...</td>\n",
              "      <td>{'date': '2020-1-22', 'confirmed': 0, 'deaths'...</td>\n",
              "      <td>{'date': '2020-1-22', 'confirmed': 0, 'deaths'...</td>\n",
              "      <td>{'date': '2020-1-22', 'confirmed': 0, 'deaths'...</td>\n",
              "      <td>{'date': '2020-1-22', 'confirmed': 0, 'deaths'...</td>\n",
              "      <td>{'date': '2020-1-22', 'confirmed': 0, 'deaths'...</td>\n",
              "      <td>{'date': '2020-1-22', 'confirmed': 0, 'deaths'...</td>\n",
              "      <td>{'date': '2020-1-22', 'confirmed': 0, 'deaths'...</td>\n",
              "      <td>{'date': '2020-1-22', 'confirmed': 0, 'deaths'...</td>\n",
              "      <td>{'date': '2020-1-22', 'confirmed': 0, 'deaths'...</td>\n",
              "      <td>{'date': '2020-1-22', 'confirmed': 0, 'deaths'...</td>\n",
              "      <td>{'date': '2020-1-22', 'confirmed': 0, 'deaths'...</td>\n",
              "      <td>{'date': '2020-1-22', 'confirmed': 0, 'deaths'...</td>\n",
              "      <td>{'date': '2020-1-22', 'confirmed': 548, 'death...</td>\n",
              "      <td>{'date': '2020-1-22', 'confirmed': 0, 'deaths'...</td>\n",
              "      <td>{'date': '2020-1-22', 'confirmed': 0, 'deaths'...</td>\n",
              "      <td>{'date': '2020-1-22', 'confirmed': 0, 'deaths'...</td>\n",
              "      <td>{'date': '2020-1-22', 'confirmed': 0, 'deaths'...</td>\n",
              "      <td>{'date': '2020-1-22', 'confirmed': 0, 'deaths'...</td>\n",
              "      <td>{'date': '2020-1-22', 'confirmed': 0, 'deaths'...</td>\n",
              "      <td>{'date': '2020-1-22', 'confirmed': 0, 'deaths'...</td>\n",
              "      <td>...</td>\n",
              "      <td>{'date': '2020-1-22', 'confirmed': 0, 'deaths'...</td>\n",
              "      <td>{'date': '2020-1-22', 'confirmed': 2, 'deaths'...</td>\n",
              "      <td>{'date': '2020-1-22', 'confirmed': 0, 'deaths'...</td>\n",
              "      <td>{'date': '2020-1-22', 'confirmed': 0, 'deaths'...</td>\n",
              "      <td>{'date': '2020-1-22', 'confirmed': 0, 'deaths'...</td>\n",
              "      <td>{'date': '2020-1-22', 'confirmed': 0, 'deaths'...</td>\n",
              "      <td>{'date': '2020-1-22', 'confirmed': 0, 'deaths'...</td>\n",
              "      <td>{'date': '2020-1-22', 'confirmed': 0, 'deaths'...</td>\n",
              "      <td>{'date': '2020-1-22', 'confirmed': 0, 'deaths'...</td>\n",
              "      <td>{'date': '2020-1-22', 'confirmed': 0, 'deaths'...</td>\n",
              "      <td>{'date': '2020-1-22', 'confirmed': 0, 'deaths'...</td>\n",
              "      <td>{'date': '2020-1-22', 'confirmed': 1, 'deaths'...</td>\n",
              "      <td>{'date': '2020-1-22', 'confirmed': 0, 'deaths'...</td>\n",
              "      <td>{'date': '2020-1-22', 'confirmed': 0, 'deaths'...</td>\n",
              "      <td>{'date': '2020-1-22', 'confirmed': 0, 'deaths'...</td>\n",
              "      <td>{'date': '2020-1-22', 'confirmed': 0, 'deaths'...</td>\n",
              "      <td>{'date': '2020-1-22', 'confirmed': 0, 'deaths'...</td>\n",
              "      <td>{'date': '2020-1-22', 'confirmed': 0, 'deaths'...</td>\n",
              "      <td>{'date': '2020-1-22', 'confirmed': 0, 'deaths'...</td>\n",
              "      <td>{'date': '2020-1-22', 'confirmed': 0, 'deaths'...</td>\n",
              "      <td>{'date': '2020-1-22', 'confirmed': 0, 'deaths'...</td>\n",
              "      <td>{'date': '2020-1-22', 'confirmed': 0, 'deaths'...</td>\n",
              "      <td>{'date': '2020-1-22', 'confirmed': 0, 'deaths'...</td>\n",
              "      <td>{'date': '2020-1-22', 'confirmed': 0, 'deaths'...</td>\n",
              "      <td>{'date': '2020-1-22', 'confirmed': 0, 'deaths'...</td>\n",
              "      <td>{'date': '2020-1-22', 'confirmed': 0, 'deaths'...</td>\n",
              "      <td>{'date': '2020-1-22', 'confirmed': 0, 'deaths'...</td>\n",
              "      <td>{'date': '2020-1-22', 'confirmed': 0, 'deaths'...</td>\n",
              "      <td>{'date': '2020-1-22', 'confirmed': 0, 'deaths'...</td>\n",
              "      <td>{'date': '2020-1-22', 'confirmed': 0, 'deaths'...</td>\n",
              "      <td>{'date': '2020-1-22', 'confirmed': 0, 'deaths'...</td>\n",
              "      <td>{'date': '2020-1-22', 'confirmed': 0, 'deaths'...</td>\n",
              "      <td>{'date': '2020-1-22', 'confirmed': 0, 'deaths'...</td>\n",
              "      <td>{'date': '2020-1-22', 'confirmed': 0, 'deaths'...</td>\n",
              "      <td>{'date': '2020-1-22', 'confirmed': 0, 'deaths'...</td>\n",
              "      <td>{'date': '2020-1-22', 'confirmed': 0, 'deaths'...</td>\n",
              "      <td>{'date': '2020-1-22', 'confirmed': 0, 'deaths'...</td>\n",
              "      <td>{'date': '2020-1-22', 'confirmed': 0, 'deaths'...</td>\n",
              "      <td>{'date': '2020-1-22', 'confirmed': 0, 'deaths'...</td>\n",
              "      <td>{'date': '2020-1-22', 'confirmed': 0, 'deaths'...</td>\n",
              "    </tr>\n",
              "    <tr>\n",
              "      <th>1</th>\n",
              "      <td>{'date': '2020-1-23', 'confirmed': 0, 'deaths'...</td>\n",
              "      <td>{'date': '2020-1-23', 'confirmed': 0, 'deaths'...</td>\n",
              "      <td>{'date': '2020-1-23', 'confirmed': 0, 'deaths'...</td>\n",
              "      <td>{'date': '2020-1-23', 'confirmed': 0, 'deaths'...</td>\n",
              "      <td>{'date': '2020-1-23', 'confirmed': 0, 'deaths'...</td>\n",
              "      <td>{'date': '2020-1-23', 'confirmed': 0, 'deaths'...</td>\n",
              "      <td>{'date': '2020-1-23', 'confirmed': 0, 'deaths'...</td>\n",
              "      <td>{'date': '2020-1-23', 'confirmed': 0, 'deaths'...</td>\n",
              "      <td>{'date': '2020-1-23', 'confirmed': 0, 'deaths'...</td>\n",
              "      <td>{'date': '2020-1-23', 'confirmed': 0, 'deaths'...</td>\n",
              "      <td>{'date': '2020-1-23', 'confirmed': 0, 'deaths'...</td>\n",
              "      <td>{'date': '2020-1-23', 'confirmed': 0, 'deaths'...</td>\n",
              "      <td>{'date': '2020-1-23', 'confirmed': 0, 'deaths'...</td>\n",
              "      <td>{'date': '2020-1-23', 'confirmed': 0, 'deaths'...</td>\n",
              "      <td>{'date': '2020-1-23', 'confirmed': 0, 'deaths'...</td>\n",
              "      <td>{'date': '2020-1-23', 'confirmed': 0, 'deaths'...</td>\n",
              "      <td>{'date': '2020-1-23', 'confirmed': 0, 'deaths'...</td>\n",
              "      <td>{'date': '2020-1-23', 'confirmed': 0, 'deaths'...</td>\n",
              "      <td>{'date': '2020-1-23', 'confirmed': 0, 'deaths'...</td>\n",
              "      <td>{'date': '2020-1-23', 'confirmed': 0, 'deaths'...</td>\n",
              "      <td>{'date': '2020-1-23', 'confirmed': 0, 'deaths'...</td>\n",
              "      <td>{'date': '2020-1-23', 'confirmed': 0, 'deaths'...</td>\n",
              "      <td>{'date': '2020-1-23', 'confirmed': 0, 'deaths'...</td>\n",
              "      <td>{'date': '2020-1-23', 'confirmed': 0, 'deaths'...</td>\n",
              "      <td>{'date': '2020-1-23', 'confirmed': 0, 'deaths'...</td>\n",
              "      <td>{'date': '2020-1-23', 'confirmed': 0, 'deaths'...</td>\n",
              "      <td>{'date': '2020-1-23', 'confirmed': 0, 'deaths'...</td>\n",
              "      <td>{'date': '2020-1-23', 'confirmed': 0, 'deaths'...</td>\n",
              "      <td>{'date': '2020-1-23', 'confirmed': 0, 'deaths'...</td>\n",
              "      <td>{'date': '2020-1-23', 'confirmed': 0, 'deaths'...</td>\n",
              "      <td>{'date': '2020-1-23', 'confirmed': 0, 'deaths'...</td>\n",
              "      <td>{'date': '2020-1-23', 'confirmed': 0, 'deaths'...</td>\n",
              "      <td>{'date': '2020-1-23', 'confirmed': 643, 'death...</td>\n",
              "      <td>{'date': '2020-1-23', 'confirmed': 0, 'deaths'...</td>\n",
              "      <td>{'date': '2020-1-23', 'confirmed': 0, 'deaths'...</td>\n",
              "      <td>{'date': '2020-1-23', 'confirmed': 0, 'deaths'...</td>\n",
              "      <td>{'date': '2020-1-23', 'confirmed': 0, 'deaths'...</td>\n",
              "      <td>{'date': '2020-1-23', 'confirmed': 0, 'deaths'...</td>\n",
              "      <td>{'date': '2020-1-23', 'confirmed': 0, 'deaths'...</td>\n",
              "      <td>{'date': '2020-1-23', 'confirmed': 0, 'deaths'...</td>\n",
              "      <td>...</td>\n",
              "      <td>{'date': '2020-1-23', 'confirmed': 0, 'deaths'...</td>\n",
              "      <td>{'date': '2020-1-23', 'confirmed': 3, 'deaths'...</td>\n",
              "      <td>{'date': '2020-1-23', 'confirmed': 0, 'deaths'...</td>\n",
              "      <td>{'date': '2020-1-23', 'confirmed': 0, 'deaths'...</td>\n",
              "      <td>{'date': '2020-1-23', 'confirmed': 0, 'deaths'...</td>\n",
              "      <td>{'date': '2020-1-23', 'confirmed': 0, 'deaths'...</td>\n",
              "      <td>{'date': '2020-1-23', 'confirmed': 0, 'deaths'...</td>\n",
              "      <td>{'date': '2020-1-23', 'confirmed': 0, 'deaths'...</td>\n",
              "      <td>{'date': '2020-1-23', 'confirmed': 0, 'deaths'...</td>\n",
              "      <td>{'date': '2020-1-23', 'confirmed': 0, 'deaths'...</td>\n",
              "      <td>{'date': '2020-1-23', 'confirmed': 0, 'deaths'...</td>\n",
              "      <td>{'date': '2020-1-23', 'confirmed': 1, 'deaths'...</td>\n",
              "      <td>{'date': '2020-1-23', 'confirmed': 0, 'deaths'...</td>\n",
              "      <td>{'date': '2020-1-23', 'confirmed': 0, 'deaths'...</td>\n",
              "      <td>{'date': '2020-1-23', 'confirmed': 2, 'deaths'...</td>\n",
              "      <td>{'date': '2020-1-23', 'confirmed': 0, 'deaths'...</td>\n",
              "      <td>{'date': '2020-1-23', 'confirmed': 0, 'deaths'...</td>\n",
              "      <td>{'date': '2020-1-23', 'confirmed': 0, 'deaths'...</td>\n",
              "      <td>{'date': '2020-1-23', 'confirmed': 0, 'deaths'...</td>\n",
              "      <td>{'date': '2020-1-23', 'confirmed': 0, 'deaths'...</td>\n",
              "      <td>{'date': '2020-1-23', 'confirmed': 0, 'deaths'...</td>\n",
              "      <td>{'date': '2020-1-23', 'confirmed': 0, 'deaths'...</td>\n",
              "      <td>{'date': '2020-1-23', 'confirmed': 0, 'deaths'...</td>\n",
              "      <td>{'date': '2020-1-23', 'confirmed': 0, 'deaths'...</td>\n",
              "      <td>{'date': '2020-1-23', 'confirmed': 0, 'deaths'...</td>\n",
              "      <td>{'date': '2020-1-23', 'confirmed': 0, 'deaths'...</td>\n",
              "      <td>{'date': '2020-1-23', 'confirmed': 0, 'deaths'...</td>\n",
              "      <td>{'date': '2020-1-23', 'confirmed': 0, 'deaths'...</td>\n",
              "      <td>{'date': '2020-1-23', 'confirmed': 0, 'deaths'...</td>\n",
              "      <td>{'date': '2020-1-23', 'confirmed': 0, 'deaths'...</td>\n",
              "      <td>{'date': '2020-1-23', 'confirmed': 0, 'deaths'...</td>\n",
              "      <td>{'date': '2020-1-23', 'confirmed': 0, 'deaths'...</td>\n",
              "      <td>{'date': '2020-1-23', 'confirmed': 0, 'deaths'...</td>\n",
              "      <td>{'date': '2020-1-23', 'confirmed': 0, 'deaths'...</td>\n",
              "      <td>{'date': '2020-1-23', 'confirmed': 0, 'deaths'...</td>\n",
              "      <td>{'date': '2020-1-23', 'confirmed': 0, 'deaths'...</td>\n",
              "      <td>{'date': '2020-1-23', 'confirmed': 0, 'deaths'...</td>\n",
              "      <td>{'date': '2020-1-23', 'confirmed': 0, 'deaths'...</td>\n",
              "      <td>{'date': '2020-1-23', 'confirmed': 0, 'deaths'...</td>\n",
              "      <td>{'date': '2020-1-23', 'confirmed': 0, 'deaths'...</td>\n",
              "    </tr>\n",
              "    <tr>\n",
              "      <th>2</th>\n",
              "      <td>{'date': '2020-1-24', 'confirmed': 0, 'deaths'...</td>\n",
              "      <td>{'date': '2020-1-24', 'confirmed': 0, 'deaths'...</td>\n",
              "      <td>{'date': '2020-1-24', 'confirmed': 0, 'deaths'...</td>\n",
              "      <td>{'date': '2020-1-24', 'confirmed': 0, 'deaths'...</td>\n",
              "      <td>{'date': '2020-1-24', 'confirmed': 0, 'deaths'...</td>\n",
              "      <td>{'date': '2020-1-24', 'confirmed': 0, 'deaths'...</td>\n",
              "      <td>{'date': '2020-1-24', 'confirmed': 0, 'deaths'...</td>\n",
              "      <td>{'date': '2020-1-24', 'confirmed': 0, 'deaths'...</td>\n",
              "      <td>{'date': '2020-1-24', 'confirmed': 0, 'deaths'...</td>\n",
              "      <td>{'date': '2020-1-24', 'confirmed': 0, 'deaths'...</td>\n",
              "      <td>{'date': '2020-1-24', 'confirmed': 0, 'deaths'...</td>\n",
              "      <td>{'date': '2020-1-24', 'confirmed': 0, 'deaths'...</td>\n",
              "      <td>{'date': '2020-1-24', 'confirmed': 0, 'deaths'...</td>\n",
              "      <td>{'date': '2020-1-24', 'confirmed': 0, 'deaths'...</td>\n",
              "      <td>{'date': '2020-1-24', 'confirmed': 0, 'deaths'...</td>\n",
              "      <td>{'date': '2020-1-24', 'confirmed': 0, 'deaths'...</td>\n",
              "      <td>{'date': '2020-1-24', 'confirmed': 0, 'deaths'...</td>\n",
              "      <td>{'date': '2020-1-24', 'confirmed': 0, 'deaths'...</td>\n",
              "      <td>{'date': '2020-1-24', 'confirmed': 0, 'deaths'...</td>\n",
              "      <td>{'date': '2020-1-24', 'confirmed': 0, 'deaths'...</td>\n",
              "      <td>{'date': '2020-1-24', 'confirmed': 0, 'deaths'...</td>\n",
              "      <td>{'date': '2020-1-24', 'confirmed': 0, 'deaths'...</td>\n",
              "      <td>{'date': '2020-1-24', 'confirmed': 0, 'deaths'...</td>\n",
              "      <td>{'date': '2020-1-24', 'confirmed': 0, 'deaths'...</td>\n",
              "      <td>{'date': '2020-1-24', 'confirmed': 0, 'deaths'...</td>\n",
              "      <td>{'date': '2020-1-24', 'confirmed': 0, 'deaths'...</td>\n",
              "      <td>{'date': '2020-1-24', 'confirmed': 0, 'deaths'...</td>\n",
              "      <td>{'date': '2020-1-24', 'confirmed': 0, 'deaths'...</td>\n",
              "      <td>{'date': '2020-1-24', 'confirmed': 0, 'deaths'...</td>\n",
              "      <td>{'date': '2020-1-24', 'confirmed': 0, 'deaths'...</td>\n",
              "      <td>{'date': '2020-1-24', 'confirmed': 0, 'deaths'...</td>\n",
              "      <td>{'date': '2020-1-24', 'confirmed': 0, 'deaths'...</td>\n",
              "      <td>{'date': '2020-1-24', 'confirmed': 920, 'death...</td>\n",
              "      <td>{'date': '2020-1-24', 'confirmed': 0, 'deaths'...</td>\n",
              "      <td>{'date': '2020-1-24', 'confirmed': 0, 'deaths'...</td>\n",
              "      <td>{'date': '2020-1-24', 'confirmed': 0, 'deaths'...</td>\n",
              "      <td>{'date': '2020-1-24', 'confirmed': 0, 'deaths'...</td>\n",
              "      <td>{'date': '2020-1-24', 'confirmed': 0, 'deaths'...</td>\n",
              "      <td>{'date': '2020-1-24', 'confirmed': 0, 'deaths'...</td>\n",
              "      <td>{'date': '2020-1-24', 'confirmed': 0, 'deaths'...</td>\n",
              "      <td>...</td>\n",
              "      <td>{'date': '2020-1-24', 'confirmed': 0, 'deaths'...</td>\n",
              "      <td>{'date': '2020-1-24', 'confirmed': 5, 'deaths'...</td>\n",
              "      <td>{'date': '2020-1-24', 'confirmed': 0, 'deaths'...</td>\n",
              "      <td>{'date': '2020-1-24', 'confirmed': 0, 'deaths'...</td>\n",
              "      <td>{'date': '2020-1-24', 'confirmed': 0, 'deaths'...</td>\n",
              "      <td>{'date': '2020-1-24', 'confirmed': 0, 'deaths'...</td>\n",
              "      <td>{'date': '2020-1-24', 'confirmed': 0, 'deaths'...</td>\n",
              "      <td>{'date': '2020-1-24', 'confirmed': 0, 'deaths'...</td>\n",
              "      <td>{'date': '2020-1-24', 'confirmed': 0, 'deaths'...</td>\n",
              "      <td>{'date': '2020-1-24', 'confirmed': 0, 'deaths'...</td>\n",
              "      <td>{'date': '2020-1-24', 'confirmed': 0, 'deaths'...</td>\n",
              "      <td>{'date': '2020-1-24', 'confirmed': 2, 'deaths'...</td>\n",
              "      <td>{'date': '2020-1-24', 'confirmed': 0, 'deaths'...</td>\n",
              "      <td>{'date': '2020-1-24', 'confirmed': 0, 'deaths'...</td>\n",
              "      <td>{'date': '2020-1-24', 'confirmed': 2, 'deaths'...</td>\n",
              "      <td>{'date': '2020-1-24', 'confirmed': 0, 'deaths'...</td>\n",
              "      <td>{'date': '2020-1-24', 'confirmed': 0, 'deaths'...</td>\n",
              "      <td>{'date': '2020-1-24', 'confirmed': 0, 'deaths'...</td>\n",
              "      <td>{'date': '2020-1-24', 'confirmed': 0, 'deaths'...</td>\n",
              "      <td>{'date': '2020-1-24', 'confirmed': 0, 'deaths'...</td>\n",
              "      <td>{'date': '2020-1-24', 'confirmed': 0, 'deaths'...</td>\n",
              "      <td>{'date': '2020-1-24', 'confirmed': 0, 'deaths'...</td>\n",
              "      <td>{'date': '2020-1-24', 'confirmed': 0, 'deaths'...</td>\n",
              "      <td>{'date': '2020-1-24', 'confirmed': 0, 'deaths'...</td>\n",
              "      <td>{'date': '2020-1-24', 'confirmed': 0, 'deaths'...</td>\n",
              "      <td>{'date': '2020-1-24', 'confirmed': 0, 'deaths'...</td>\n",
              "      <td>{'date': '2020-1-24', 'confirmed': 0, 'deaths'...</td>\n",
              "      <td>{'date': '2020-1-24', 'confirmed': 0, 'deaths'...</td>\n",
              "      <td>{'date': '2020-1-24', 'confirmed': 0, 'deaths'...</td>\n",
              "      <td>{'date': '2020-1-24', 'confirmed': 0, 'deaths'...</td>\n",
              "      <td>{'date': '2020-1-24', 'confirmed': 0, 'deaths'...</td>\n",
              "      <td>{'date': '2020-1-24', 'confirmed': 0, 'deaths'...</td>\n",
              "      <td>{'date': '2020-1-24', 'confirmed': 0, 'deaths'...</td>\n",
              "      <td>{'date': '2020-1-24', 'confirmed': 0, 'deaths'...</td>\n",
              "      <td>{'date': '2020-1-24', 'confirmed': 0, 'deaths'...</td>\n",
              "      <td>{'date': '2020-1-24', 'confirmed': 0, 'deaths'...</td>\n",
              "      <td>{'date': '2020-1-24', 'confirmed': 0, 'deaths'...</td>\n",
              "      <td>{'date': '2020-1-24', 'confirmed': 0, 'deaths'...</td>\n",
              "      <td>{'date': '2020-1-24', 'confirmed': 0, 'deaths'...</td>\n",
              "      <td>{'date': '2020-1-24', 'confirmed': 0, 'deaths'...</td>\n",
              "    </tr>\n",
              "    <tr>\n",
              "      <th>3</th>\n",
              "      <td>{'date': '2020-1-25', 'confirmed': 0, 'deaths'...</td>\n",
              "      <td>{'date': '2020-1-25', 'confirmed': 0, 'deaths'...</td>\n",
              "      <td>{'date': '2020-1-25', 'confirmed': 0, 'deaths'...</td>\n",
              "      <td>{'date': '2020-1-25', 'confirmed': 0, 'deaths'...</td>\n",
              "      <td>{'date': '2020-1-25', 'confirmed': 0, 'deaths'...</td>\n",
              "      <td>{'date': '2020-1-25', 'confirmed': 0, 'deaths'...</td>\n",
              "      <td>{'date': '2020-1-25', 'confirmed': 0, 'deaths'...</td>\n",
              "      <td>{'date': '2020-1-25', 'confirmed': 0, 'deaths'...</td>\n",
              "      <td>{'date': '2020-1-25', 'confirmed': 0, 'deaths'...</td>\n",
              "      <td>{'date': '2020-1-25', 'confirmed': 0, 'deaths'...</td>\n",
              "      <td>{'date': '2020-1-25', 'confirmed': 0, 'deaths'...</td>\n",
              "      <td>{'date': '2020-1-25', 'confirmed': 0, 'deaths'...</td>\n",
              "      <td>{'date': '2020-1-25', 'confirmed': 0, 'deaths'...</td>\n",
              "      <td>{'date': '2020-1-25', 'confirmed': 0, 'deaths'...</td>\n",
              "      <td>{'date': '2020-1-25', 'confirmed': 0, 'deaths'...</td>\n",
              "      <td>{'date': '2020-1-25', 'confirmed': 0, 'deaths'...</td>\n",
              "      <td>{'date': '2020-1-25', 'confirmed': 0, 'deaths'...</td>\n",
              "      <td>{'date': '2020-1-25', 'confirmed': 0, 'deaths'...</td>\n",
              "      <td>{'date': '2020-1-25', 'confirmed': 0, 'deaths'...</td>\n",
              "      <td>{'date': '2020-1-25', 'confirmed': 0, 'deaths'...</td>\n",
              "      <td>{'date': '2020-1-25', 'confirmed': 0, 'deaths'...</td>\n",
              "      <td>{'date': '2020-1-25', 'confirmed': 0, 'deaths'...</td>\n",
              "      <td>{'date': '2020-1-25', 'confirmed': 0, 'deaths'...</td>\n",
              "      <td>{'date': '2020-1-25', 'confirmed': 0, 'deaths'...</td>\n",
              "      <td>{'date': '2020-1-25', 'confirmed': 0, 'deaths'...</td>\n",
              "      <td>{'date': '2020-1-25', 'confirmed': 0, 'deaths'...</td>\n",
              "      <td>{'date': '2020-1-25', 'confirmed': 0, 'deaths'...</td>\n",
              "      <td>{'date': '2020-1-25', 'confirmed': 0, 'deaths'...</td>\n",
              "      <td>{'date': '2020-1-25', 'confirmed': 0, 'deaths'...</td>\n",
              "      <td>{'date': '2020-1-25', 'confirmed': 0, 'deaths'...</td>\n",
              "      <td>{'date': '2020-1-25', 'confirmed': 0, 'deaths'...</td>\n",
              "      <td>{'date': '2020-1-25', 'confirmed': 0, 'deaths'...</td>\n",
              "      <td>{'date': '2020-1-25', 'confirmed': 1406, 'deat...</td>\n",
              "      <td>{'date': '2020-1-25', 'confirmed': 0, 'deaths'...</td>\n",
              "      <td>{'date': '2020-1-25', 'confirmed': 0, 'deaths'...</td>\n",
              "      <td>{'date': '2020-1-25', 'confirmed': 0, 'deaths'...</td>\n",
              "      <td>{'date': '2020-1-25', 'confirmed': 0, 'deaths'...</td>\n",
              "      <td>{'date': '2020-1-25', 'confirmed': 0, 'deaths'...</td>\n",
              "      <td>{'date': '2020-1-25', 'confirmed': 0, 'deaths'...</td>\n",
              "      <td>{'date': '2020-1-25', 'confirmed': 0, 'deaths'...</td>\n",
              "      <td>...</td>\n",
              "      <td>{'date': '2020-1-25', 'confirmed': 0, 'deaths'...</td>\n",
              "      <td>{'date': '2020-1-25', 'confirmed': 7, 'deaths'...</td>\n",
              "      <td>{'date': '2020-1-25', 'confirmed': 0, 'deaths'...</td>\n",
              "      <td>{'date': '2020-1-25', 'confirmed': 0, 'deaths'...</td>\n",
              "      <td>{'date': '2020-1-25', 'confirmed': 0, 'deaths'...</td>\n",
              "      <td>{'date': '2020-1-25', 'confirmed': 0, 'deaths'...</td>\n",
              "      <td>{'date': '2020-1-25', 'confirmed': 0, 'deaths'...</td>\n",
              "      <td>{'date': '2020-1-25', 'confirmed': 0, 'deaths'...</td>\n",
              "      <td>{'date': '2020-1-25', 'confirmed': 0, 'deaths'...</td>\n",
              "      <td>{'date': '2020-1-25', 'confirmed': 0, 'deaths'...</td>\n",
              "      <td>{'date': '2020-1-25', 'confirmed': 0, 'deaths'...</td>\n",
              "      <td>{'date': '2020-1-25', 'confirmed': 2, 'deaths'...</td>\n",
              "      <td>{'date': '2020-1-25', 'confirmed': 0, 'deaths'...</td>\n",
              "      <td>{'date': '2020-1-25', 'confirmed': 0, 'deaths'...</td>\n",
              "      <td>{'date': '2020-1-25', 'confirmed': 2, 'deaths'...</td>\n",
              "      <td>{'date': '2020-1-25', 'confirmed': 0, 'deaths'...</td>\n",
              "      <td>{'date': '2020-1-25', 'confirmed': 0, 'deaths'...</td>\n",
              "      <td>{'date': '2020-1-25', 'confirmed': 0, 'deaths'...</td>\n",
              "      <td>{'date': '2020-1-25', 'confirmed': 0, 'deaths'...</td>\n",
              "      <td>{'date': '2020-1-25', 'confirmed': 0, 'deaths'...</td>\n",
              "      <td>{'date': '2020-1-25', 'confirmed': 0, 'deaths'...</td>\n",
              "      <td>{'date': '2020-1-25', 'confirmed': 0, 'deaths'...</td>\n",
              "      <td>{'date': '2020-1-25', 'confirmed': 0, 'deaths'...</td>\n",
              "      <td>{'date': '2020-1-25', 'confirmed': 0, 'deaths'...</td>\n",
              "      <td>{'date': '2020-1-25', 'confirmed': 0, 'deaths'...</td>\n",
              "      <td>{'date': '2020-1-25', 'confirmed': 0, 'deaths'...</td>\n",
              "      <td>{'date': '2020-1-25', 'confirmed': 0, 'deaths'...</td>\n",
              "      <td>{'date': '2020-1-25', 'confirmed': 0, 'deaths'...</td>\n",
              "      <td>{'date': '2020-1-25', 'confirmed': 0, 'deaths'...</td>\n",
              "      <td>{'date': '2020-1-25', 'confirmed': 0, 'deaths'...</td>\n",
              "      <td>{'date': '2020-1-25', 'confirmed': 0, 'deaths'...</td>\n",
              "      <td>{'date': '2020-1-25', 'confirmed': 0, 'deaths'...</td>\n",
              "      <td>{'date': '2020-1-25', 'confirmed': 0, 'deaths'...</td>\n",
              "      <td>{'date': '2020-1-25', 'confirmed': 0, 'deaths'...</td>\n",
              "      <td>{'date': '2020-1-25', 'confirmed': 0, 'deaths'...</td>\n",
              "      <td>{'date': '2020-1-25', 'confirmed': 0, 'deaths'...</td>\n",
              "      <td>{'date': '2020-1-25', 'confirmed': 0, 'deaths'...</td>\n",
              "      <td>{'date': '2020-1-25', 'confirmed': 0, 'deaths'...</td>\n",
              "      <td>{'date': '2020-1-25', 'confirmed': 0, 'deaths'...</td>\n",
              "      <td>{'date': '2020-1-25', 'confirmed': 0, 'deaths'...</td>\n",
              "    </tr>\n",
              "    <tr>\n",
              "      <th>4</th>\n",
              "      <td>{'date': '2020-1-26', 'confirmed': 0, 'deaths'...</td>\n",
              "      <td>{'date': '2020-1-26', 'confirmed': 0, 'deaths'...</td>\n",
              "      <td>{'date': '2020-1-26', 'confirmed': 0, 'deaths'...</td>\n",
              "      <td>{'date': '2020-1-26', 'confirmed': 0, 'deaths'...</td>\n",
              "      <td>{'date': '2020-1-26', 'confirmed': 0, 'deaths'...</td>\n",
              "      <td>{'date': '2020-1-26', 'confirmed': 0, 'deaths'...</td>\n",
              "      <td>{'date': '2020-1-26', 'confirmed': 0, 'deaths'...</td>\n",
              "      <td>{'date': '2020-1-26', 'confirmed': 0, 'deaths'...</td>\n",
              "      <td>{'date': '2020-1-26', 'confirmed': 4, 'deaths'...</td>\n",
              "      <td>{'date': '2020-1-26', 'confirmed': 0, 'deaths'...</td>\n",
              "      <td>{'date': '2020-1-26', 'confirmed': 0, 'deaths'...</td>\n",
              "      <td>{'date': '2020-1-26', 'confirmed': 0, 'deaths'...</td>\n",
              "      <td>{'date': '2020-1-26', 'confirmed': 0, 'deaths'...</td>\n",
              "      <td>{'date': '2020-1-26', 'confirmed': 0, 'deaths'...</td>\n",
              "      <td>{'date': '2020-1-26', 'confirmed': 0, 'deaths'...</td>\n",
              "      <td>{'date': '2020-1-26', 'confirmed': 0, 'deaths'...</td>\n",
              "      <td>{'date': '2020-1-26', 'confirmed': 0, 'deaths'...</td>\n",
              "      <td>{'date': '2020-1-26', 'confirmed': 0, 'deaths'...</td>\n",
              "      <td>{'date': '2020-1-26', 'confirmed': 0, 'deaths'...</td>\n",
              "      <td>{'date': '2020-1-26', 'confirmed': 0, 'deaths'...</td>\n",
              "      <td>{'date': '2020-1-26', 'confirmed': 0, 'deaths'...</td>\n",
              "      <td>{'date': '2020-1-26', 'confirmed': 0, 'deaths'...</td>\n",
              "      <td>{'date': '2020-1-26', 'confirmed': 0, 'deaths'...</td>\n",
              "      <td>{'date': '2020-1-26', 'confirmed': 0, 'deaths'...</td>\n",
              "      <td>{'date': '2020-1-26', 'confirmed': 0, 'deaths'...</td>\n",
              "      <td>{'date': '2020-1-26', 'confirmed': 0, 'deaths'...</td>\n",
              "      <td>{'date': '2020-1-26', 'confirmed': 0, 'deaths'...</td>\n",
              "      <td>{'date': '2020-1-26', 'confirmed': 0, 'deaths'...</td>\n",
              "      <td>{'date': '2020-1-26', 'confirmed': 1, 'deaths'...</td>\n",
              "      <td>{'date': '2020-1-26', 'confirmed': 0, 'deaths'...</td>\n",
              "      <td>{'date': '2020-1-26', 'confirmed': 0, 'deaths'...</td>\n",
              "      <td>{'date': '2020-1-26', 'confirmed': 0, 'deaths'...</td>\n",
              "      <td>{'date': '2020-1-26', 'confirmed': 2075, 'deat...</td>\n",
              "      <td>{'date': '2020-1-26', 'confirmed': 0, 'deaths'...</td>\n",
              "      <td>{'date': '2020-1-26', 'confirmed': 0, 'deaths'...</td>\n",
              "      <td>{'date': '2020-1-26', 'confirmed': 0, 'deaths'...</td>\n",
              "      <td>{'date': '2020-1-26', 'confirmed': 0, 'deaths'...</td>\n",
              "      <td>{'date': '2020-1-26', 'confirmed': 0, 'deaths'...</td>\n",
              "      <td>{'date': '2020-1-26', 'confirmed': 0, 'deaths'...</td>\n",
              "      <td>{'date': '2020-1-26', 'confirmed': 0, 'deaths'...</td>\n",
              "      <td>...</td>\n",
              "      <td>{'date': '2020-1-26', 'confirmed': 0, 'deaths'...</td>\n",
              "      <td>{'date': '2020-1-26', 'confirmed': 8, 'deaths'...</td>\n",
              "      <td>{'date': '2020-1-26', 'confirmed': 0, 'deaths'...</td>\n",
              "      <td>{'date': '2020-1-26', 'confirmed': 0, 'deaths'...</td>\n",
              "      <td>{'date': '2020-1-26', 'confirmed': 0, 'deaths'...</td>\n",
              "      <td>{'date': '2020-1-26', 'confirmed': 0, 'deaths'...</td>\n",
              "      <td>{'date': '2020-1-26', 'confirmed': 0, 'deaths'...</td>\n",
              "      <td>{'date': '2020-1-26', 'confirmed': 0, 'deaths'...</td>\n",
              "      <td>{'date': '2020-1-26', 'confirmed': 0, 'deaths'...</td>\n",
              "      <td>{'date': '2020-1-26', 'confirmed': 0, 'deaths'...</td>\n",
              "      <td>{'date': '2020-1-26', 'confirmed': 0, 'deaths'...</td>\n",
              "      <td>{'date': '2020-1-26', 'confirmed': 5, 'deaths'...</td>\n",
              "      <td>{'date': '2020-1-26', 'confirmed': 0, 'deaths'...</td>\n",
              "      <td>{'date': '2020-1-26', 'confirmed': 0, 'deaths'...</td>\n",
              "      <td>{'date': '2020-1-26', 'confirmed': 2, 'deaths'...</td>\n",
              "      <td>{'date': '2020-1-26', 'confirmed': 0, 'deaths'...</td>\n",
              "      <td>{'date': '2020-1-26', 'confirmed': 0, 'deaths'...</td>\n",
              "      <td>{'date': '2020-1-26', 'confirmed': 0, 'deaths'...</td>\n",
              "      <td>{'date': '2020-1-26', 'confirmed': 0, 'deaths'...</td>\n",
              "      <td>{'date': '2020-1-26', 'confirmed': 0, 'deaths'...</td>\n",
              "      <td>{'date': '2020-1-26', 'confirmed': 0, 'deaths'...</td>\n",
              "      <td>{'date': '2020-1-26', 'confirmed': 0, 'deaths'...</td>\n",
              "      <td>{'date': '2020-1-26', 'confirmed': 0, 'deaths'...</td>\n",
              "      <td>{'date': '2020-1-26', 'confirmed': 0, 'deaths'...</td>\n",
              "      <td>{'date': '2020-1-26', 'confirmed': 0, 'deaths'...</td>\n",
              "      <td>{'date': '2020-1-26', 'confirmed': 0, 'deaths'...</td>\n",
              "      <td>{'date': '2020-1-26', 'confirmed': 0, 'deaths'...</td>\n",
              "      <td>{'date': '2020-1-26', 'confirmed': 0, 'deaths'...</td>\n",
              "      <td>{'date': '2020-1-26', 'confirmed': 0, 'deaths'...</td>\n",
              "      <td>{'date': '2020-1-26', 'confirmed': 0, 'deaths'...</td>\n",
              "      <td>{'date': '2020-1-26', 'confirmed': 0, 'deaths'...</td>\n",
              "      <td>{'date': '2020-1-26', 'confirmed': 0, 'deaths'...</td>\n",
              "      <td>{'date': '2020-1-26', 'confirmed': 0, 'deaths'...</td>\n",
              "      <td>{'date': '2020-1-26', 'confirmed': 0, 'deaths'...</td>\n",
              "      <td>{'date': '2020-1-26', 'confirmed': 0, 'deaths'...</td>\n",
              "      <td>{'date': '2020-1-26', 'confirmed': 0, 'deaths'...</td>\n",
              "      <td>{'date': '2020-1-26', 'confirmed': 0, 'deaths'...</td>\n",
              "      <td>{'date': '2020-1-26', 'confirmed': 0, 'deaths'...</td>\n",
              "      <td>{'date': '2020-1-26', 'confirmed': 0, 'deaths'...</td>\n",
              "      <td>{'date': '2020-1-26', 'confirmed': 0, 'deaths'...</td>\n",
              "    </tr>\n",
              "  </tbody>\n",
              "</table>\n",
              "<p>5 rows × 185 columns</p>\n",
              "</div>"
            ],
            "text/plain": [
              "                                         Afghanistan  ...                                              Yemen\n",
              "0  {'date': '2020-1-22', 'confirmed': 0, 'deaths'...  ...  {'date': '2020-1-22', 'confirmed': 0, 'deaths'...\n",
              "1  {'date': '2020-1-23', 'confirmed': 0, 'deaths'...  ...  {'date': '2020-1-23', 'confirmed': 0, 'deaths'...\n",
              "2  {'date': '2020-1-24', 'confirmed': 0, 'deaths'...  ...  {'date': '2020-1-24', 'confirmed': 0, 'deaths'...\n",
              "3  {'date': '2020-1-25', 'confirmed': 0, 'deaths'...  ...  {'date': '2020-1-25', 'confirmed': 0, 'deaths'...\n",
              "4  {'date': '2020-1-26', 'confirmed': 0, 'deaths'...  ...  {'date': '2020-1-26', 'confirmed': 0, 'deaths'...\n",
              "\n",
              "[5 rows x 185 columns]"
            ]
          },
          "metadata": {
            "tags": []
          },
          "execution_count": 464
        }
      ]
    },
    {
      "cell_type": "code",
      "metadata": {
        "id": "AuNTWAr4qlNE",
        "colab_type": "code",
        "colab": {}
      },
      "source": [
        "countries = json.keys()\n",
        "df_array = []"
      ],
      "execution_count": 0,
      "outputs": []
    },
    {
      "cell_type": "markdown",
      "metadata": {
        "id": "M6OiLTLlzBFB",
        "colab_type": "text"
      },
      "source": [
        "Convert dataframe to long-format"
      ]
    },
    {
      "cell_type": "code",
      "metadata": {
        "id": "RzktVkHfy5H1",
        "colab_type": "code",
        "colab": {}
      },
      "source": [
        "for country in countries:\n",
        "  stats = json[country]\n",
        "  for stat in stats:\n",
        "    # build row\n",
        "    date = stat['date']\n",
        "    confirmed = stat['confirmed']\n",
        "    deaths = stat['deaths']\n",
        "    recovered = stat['recovered']\n",
        "    df_array.append([country, date, confirmed, deaths, recovered])"
      ],
      "execution_count": 0,
      "outputs": []
    },
    {
      "cell_type": "code",
      "metadata": {
        "id": "lkX4GpYfy69g",
        "colab_type": "code",
        "colab": {}
      },
      "source": [
        "df = pd.DataFrame(df_array)"
      ],
      "execution_count": 0,
      "outputs": []
    },
    {
      "cell_type": "code",
      "metadata": {
        "id": "OTwuijoDy9wA",
        "colab_type": "code",
        "outputId": "a14fc716-7ac3-4a3b-be71-93d359286a47",
        "colab": {
          "base_uri": "https://localhost:8080/",
          "height": 204
        }
      },
      "source": [
        "df.columns = ['country', 'date', 'confirmed', 'deaths', 'recovered'] ; df.head()"
      ],
      "execution_count": 0,
      "outputs": [
        {
          "output_type": "execute_result",
          "data": {
            "text/html": [
              "<div>\n",
              "<style scoped>\n",
              "    .dataframe tbody tr th:only-of-type {\n",
              "        vertical-align: middle;\n",
              "    }\n",
              "\n",
              "    .dataframe tbody tr th {\n",
              "        vertical-align: top;\n",
              "    }\n",
              "\n",
              "    .dataframe thead th {\n",
              "        text-align: right;\n",
              "    }\n",
              "</style>\n",
              "<table border=\"1\" class=\"dataframe\">\n",
              "  <thead>\n",
              "    <tr style=\"text-align: right;\">\n",
              "      <th></th>\n",
              "      <th>country</th>\n",
              "      <th>date</th>\n",
              "      <th>confirmed</th>\n",
              "      <th>deaths</th>\n",
              "      <th>recovered</th>\n",
              "    </tr>\n",
              "  </thead>\n",
              "  <tbody>\n",
              "    <tr>\n",
              "      <th>0</th>\n",
              "      <td>Afghanistan</td>\n",
              "      <td>2020-1-22</td>\n",
              "      <td>0</td>\n",
              "      <td>0</td>\n",
              "      <td>0</td>\n",
              "    </tr>\n",
              "    <tr>\n",
              "      <th>1</th>\n",
              "      <td>Afghanistan</td>\n",
              "      <td>2020-1-23</td>\n",
              "      <td>0</td>\n",
              "      <td>0</td>\n",
              "      <td>0</td>\n",
              "    </tr>\n",
              "    <tr>\n",
              "      <th>2</th>\n",
              "      <td>Afghanistan</td>\n",
              "      <td>2020-1-24</td>\n",
              "      <td>0</td>\n",
              "      <td>0</td>\n",
              "      <td>0</td>\n",
              "    </tr>\n",
              "    <tr>\n",
              "      <th>3</th>\n",
              "      <td>Afghanistan</td>\n",
              "      <td>2020-1-25</td>\n",
              "      <td>0</td>\n",
              "      <td>0</td>\n",
              "      <td>0</td>\n",
              "    </tr>\n",
              "    <tr>\n",
              "      <th>4</th>\n",
              "      <td>Afghanistan</td>\n",
              "      <td>2020-1-26</td>\n",
              "      <td>0</td>\n",
              "      <td>0</td>\n",
              "      <td>0</td>\n",
              "    </tr>\n",
              "  </tbody>\n",
              "</table>\n",
              "</div>"
            ],
            "text/plain": [
              "       country       date  confirmed  deaths  recovered\n",
              "0  Afghanistan  2020-1-22          0       0          0\n",
              "1  Afghanistan  2020-1-23          0       0          0\n",
              "2  Afghanistan  2020-1-24          0       0          0\n",
              "3  Afghanistan  2020-1-25          0       0          0\n",
              "4  Afghanistan  2020-1-26          0       0          0"
            ]
          },
          "metadata": {
            "tags": []
          },
          "execution_count": 468
        }
      ]
    },
    {
      "cell_type": "code",
      "metadata": {
        "id": "9buq9XSey-kR",
        "colab_type": "code",
        "colab": {}
      },
      "source": [
        "# Convert to datetime object\n",
        "df['date'] = pd.to_datetime(df['date'])"
      ],
      "execution_count": 0,
      "outputs": []
    },
    {
      "cell_type": "code",
      "metadata": {
        "id": "lvIy-SUX8ZS7",
        "colab_type": "code",
        "outputId": "b91bb111-f7d9-48b8-e1c4-88af28291132",
        "colab": {
          "base_uri": "https://localhost:8080/",
          "height": 34
        }
      },
      "source": [
        "# Get last date\n",
        "df['date'].max()"
      ],
      "execution_count": 0,
      "outputs": [
        {
          "output_type": "execute_result",
          "data": {
            "text/plain": [
              "Timestamp('2020-04-15 00:00:00')"
            ]
          },
          "metadata": {
            "tags": []
          },
          "execution_count": 470
        }
      ]
    },
    {
      "cell_type": "markdown",
      "metadata": {
        "id": "MeqHoCHD8hEP",
        "colab_type": "text"
      },
      "source": [
        "# Description Statistics"
      ]
    },
    {
      "cell_type": "code",
      "metadata": {
        "id": "LyFV4u0N8btn",
        "colab_type": "code",
        "colab": {}
      },
      "source": [
        "last_date_df = df[df['date'] == df['date'].max()]"
      ],
      "execution_count": 0,
      "outputs": []
    },
    {
      "cell_type": "code",
      "metadata": {
        "id": "fZXXujYI8kz7",
        "colab_type": "code",
        "outputId": "dc68cde3-c1de-48bc-a240-59acfc888961",
        "colab": {
          "base_uri": "https://localhost:8080/",
          "height": 34
        }
      },
      "source": [
        "total_confirmed = last_date_df['confirmed'].sum()\n",
        "total_deaths = last_date_df['deaths'].sum()\n",
        "total_recovered = last_date_df['recovered'].sum()\n",
        "print(total_confirmed, total_deaths, total_recovered)"
      ],
      "execution_count": 0,
      "outputs": [
        {
          "output_type": "stream",
          "text": [
            "2056054 134177 511019\n"
          ],
          "name": "stdout"
        }
      ]
    },
    {
      "cell_type": "code",
      "metadata": {
        "id": "_Q_FPDDN8lOd",
        "colab_type": "code",
        "colab": {}
      },
      "source": [
        "def get_totals(df: pd.DataFrame) -> list:\n",
        "  df = df[df['date'] == df['date'].max()]\n",
        "  return [df['confirmed'].sum(), df['deaths'].sum(), df['recovered'].sum()]"
      ],
      "execution_count": 0,
      "outputs": []
    },
    {
      "cell_type": "code",
      "metadata": {
        "id": "VMLrblYY8myc",
        "colab_type": "code",
        "colab": {}
      },
      "source": [
        ""
      ],
      "execution_count": 0,
      "outputs": []
    },
    {
      "cell_type": "markdown",
      "metadata": {
        "id": "7O6_WEfV8pD9",
        "colab_type": "text"
      },
      "source": [
        "# Country Infection History"
      ]
    },
    {
      "cell_type": "code",
      "metadata": {
        "id": "vcCl7-Rz8rIT",
        "colab_type": "code",
        "outputId": "982da326-466c-40d4-aab1-f019b25f1f3c",
        "colab": {
          "base_uri": "https://localhost:8080/",
          "height": 359
        }
      },
      "source": [
        "# Look at one country\n",
        "country = 'Canada'\n",
        "country_df = df[df['country'] == country]\n",
        "country_df.head(10)"
      ],
      "execution_count": 0,
      "outputs": [
        {
          "output_type": "execute_result",
          "data": {
            "text/html": [
              "<div>\n",
              "<style scoped>\n",
              "    .dataframe tbody tr th:only-of-type {\n",
              "        vertical-align: middle;\n",
              "    }\n",
              "\n",
              "    .dataframe tbody tr th {\n",
              "        vertical-align: top;\n",
              "    }\n",
              "\n",
              "    .dataframe thead th {\n",
              "        text-align: right;\n",
              "    }\n",
              "</style>\n",
              "<table border=\"1\" class=\"dataframe\">\n",
              "  <thead>\n",
              "    <tr style=\"text-align: right;\">\n",
              "      <th></th>\n",
              "      <th>country</th>\n",
              "      <th>date</th>\n",
              "      <th>confirmed</th>\n",
              "      <th>deaths</th>\n",
              "      <th>recovered</th>\n",
              "    </tr>\n",
              "  </thead>\n",
              "  <tbody>\n",
              "    <tr>\n",
              "      <th>2380</th>\n",
              "      <td>Canada</td>\n",
              "      <td>2020-01-22</td>\n",
              "      <td>0</td>\n",
              "      <td>0</td>\n",
              "      <td>0</td>\n",
              "    </tr>\n",
              "    <tr>\n",
              "      <th>2381</th>\n",
              "      <td>Canada</td>\n",
              "      <td>2020-01-23</td>\n",
              "      <td>0</td>\n",
              "      <td>0</td>\n",
              "      <td>0</td>\n",
              "    </tr>\n",
              "    <tr>\n",
              "      <th>2382</th>\n",
              "      <td>Canada</td>\n",
              "      <td>2020-01-24</td>\n",
              "      <td>0</td>\n",
              "      <td>0</td>\n",
              "      <td>0</td>\n",
              "    </tr>\n",
              "    <tr>\n",
              "      <th>2383</th>\n",
              "      <td>Canada</td>\n",
              "      <td>2020-01-25</td>\n",
              "      <td>0</td>\n",
              "      <td>0</td>\n",
              "      <td>0</td>\n",
              "    </tr>\n",
              "    <tr>\n",
              "      <th>2384</th>\n",
              "      <td>Canada</td>\n",
              "      <td>2020-01-26</td>\n",
              "      <td>1</td>\n",
              "      <td>0</td>\n",
              "      <td>0</td>\n",
              "    </tr>\n",
              "    <tr>\n",
              "      <th>2385</th>\n",
              "      <td>Canada</td>\n",
              "      <td>2020-01-27</td>\n",
              "      <td>1</td>\n",
              "      <td>0</td>\n",
              "      <td>0</td>\n",
              "    </tr>\n",
              "    <tr>\n",
              "      <th>2386</th>\n",
              "      <td>Canada</td>\n",
              "      <td>2020-01-28</td>\n",
              "      <td>2</td>\n",
              "      <td>0</td>\n",
              "      <td>0</td>\n",
              "    </tr>\n",
              "    <tr>\n",
              "      <th>2387</th>\n",
              "      <td>Canada</td>\n",
              "      <td>2020-01-29</td>\n",
              "      <td>2</td>\n",
              "      <td>0</td>\n",
              "      <td>0</td>\n",
              "    </tr>\n",
              "    <tr>\n",
              "      <th>2388</th>\n",
              "      <td>Canada</td>\n",
              "      <td>2020-01-30</td>\n",
              "      <td>2</td>\n",
              "      <td>0</td>\n",
              "      <td>0</td>\n",
              "    </tr>\n",
              "    <tr>\n",
              "      <th>2389</th>\n",
              "      <td>Canada</td>\n",
              "      <td>2020-01-31</td>\n",
              "      <td>4</td>\n",
              "      <td>0</td>\n",
              "      <td>0</td>\n",
              "    </tr>\n",
              "  </tbody>\n",
              "</table>\n",
              "</div>"
            ],
            "text/plain": [
              "     country       date  confirmed  deaths  recovered\n",
              "2380  Canada 2020-01-22          0       0          0\n",
              "2381  Canada 2020-01-23          0       0          0\n",
              "2382  Canada 2020-01-24          0       0          0\n",
              "2383  Canada 2020-01-25          0       0          0\n",
              "2384  Canada 2020-01-26          1       0          0\n",
              "2385  Canada 2020-01-27          1       0          0\n",
              "2386  Canada 2020-01-28          2       0          0\n",
              "2387  Canada 2020-01-29          2       0          0\n",
              "2388  Canada 2020-01-30          2       0          0\n",
              "2389  Canada 2020-01-31          4       0          0"
            ]
          },
          "metadata": {
            "tags": []
          },
          "execution_count": 474
        }
      ]
    },
    {
      "cell_type": "code",
      "metadata": {
        "id": "3N_fjEVu8sR0",
        "colab_type": "code",
        "outputId": "483f6896-6e4b-443d-cf26-806befc1bec3",
        "colab": {
          "base_uri": "https://localhost:8080/",
          "height": 34
        }
      },
      "source": [
        "print(get_totals(country_df))"
      ],
      "execution_count": 0,
      "outputs": [
        {
          "output_type": "stream",
          "text": [
            "[28208, 1006, 8966]\n"
          ],
          "name": "stdout"
        }
      ]
    },
    {
      "cell_type": "code",
      "metadata": {
        "id": "dJY4BENW8tit",
        "colab_type": "code",
        "outputId": "0bb406a2-b3ad-4b33-9013-a6e8028ffec8",
        "colab": {
          "base_uri": "https://localhost:8080/",
          "height": 530
        }
      },
      "source": [
        "plt.figure(figsize=(15,8))\n",
        "\n",
        "plt.plot(country_df['date'], country_df['confirmed'], label='confirmed')\n",
        "plt.plot(country_df['date'],country_df['deaths'], label= 'deaths')\n",
        "plt.plot(country_df['date'],country_df['recovered'], label = 'recovered')\n",
        "\n",
        "plt.title(f'stats for {country}')\n",
        "plt.ylabel('count')\n",
        "plt.xlabel('date')\n",
        "plt.legend()"
      ],
      "execution_count": 0,
      "outputs": [
        {
          "output_type": "execute_result",
          "data": {
            "text/plain": [
              "<matplotlib.legend.Legend at 0x7f6010f41668>"
            ]
          },
          "metadata": {
            "tags": []
          },
          "execution_count": 476
        },
        {
          "output_type": "display_data",
          "data": {
            "image/png": "[encoded data removed]",
            "text/plain": [
              "<Figure size 1080x576 with 1 Axes>"
            ]
          },
          "metadata": {
            "tags": []
          }
        }
      ]
    },
    {
      "cell_type": "markdown",
      "metadata": {
        "id": "LOaq8QQKDEWG",
        "colab_type": "text"
      },
      "source": [
        "Because of limited data we turn this problem into classification by framing it like a weather forecasting problem as follows:\n",
        "\n",
        "\"Based on data from the past 7 days, what is the number of confirmed cases on the 8th day?\"\n",
        "\n",
        "We frame this similarly for the mortality prediction as well.\n"
      ]
    },
    {
      "cell_type": "markdown",
      "metadata": {
        "id": "M2_Up9yNAOkO",
        "colab_type": "text"
      },
      "source": [
        "# Focus on Canada"
      ]
    },
    {
      "cell_type": "code",
      "metadata": {
        "id": "FAfXm85o8u5R",
        "colab_type": "code",
        "colab": {}
      },
      "source": [
        "country = 'Canada'\n",
        "canada_df = df[df['country'] == country].copy()\n",
        "canada_df.reset_index(drop=True,inplace=True)"
      ],
      "execution_count": 0,
      "outputs": []
    },
    {
      "cell_type": "code",
      "metadata": {
        "id": "oPvrMxCiAVdO",
        "colab_type": "code",
        "outputId": "dfb51ed1-d8af-47c0-d637-ed62db4505be",
        "colab": {
          "base_uri": "https://localhost:8080/",
          "height": 359
        }
      },
      "source": [
        "canada_df.head(10)"
      ],
      "execution_count": 0,
      "outputs": [
        {
          "output_type": "execute_result",
          "data": {
            "text/html": [
              "<div>\n",
              "<style scoped>\n",
              "    .dataframe tbody tr th:only-of-type {\n",
              "        vertical-align: middle;\n",
              "    }\n",
              "\n",
              "    .dataframe tbody tr th {\n",
              "        vertical-align: top;\n",
              "    }\n",
              "\n",
              "    .dataframe thead th {\n",
              "        text-align: right;\n",
              "    }\n",
              "</style>\n",
              "<table border=\"1\" class=\"dataframe\">\n",
              "  <thead>\n",
              "    <tr style=\"text-align: right;\">\n",
              "      <th></th>\n",
              "      <th>country</th>\n",
              "      <th>date</th>\n",
              "      <th>confirmed</th>\n",
              "      <th>deaths</th>\n",
              "      <th>recovered</th>\n",
              "    </tr>\n",
              "  </thead>\n",
              "  <tbody>\n",
              "    <tr>\n",
              "      <th>0</th>\n",
              "      <td>Canada</td>\n",
              "      <td>2020-01-22</td>\n",
              "      <td>0</td>\n",
              "      <td>0</td>\n",
              "      <td>0</td>\n",
              "    </tr>\n",
              "    <tr>\n",
              "      <th>1</th>\n",
              "      <td>Canada</td>\n",
              "      <td>2020-01-23</td>\n",
              "      <td>0</td>\n",
              "      <td>0</td>\n",
              "      <td>0</td>\n",
              "    </tr>\n",
              "    <tr>\n",
              "      <th>2</th>\n",
              "      <td>Canada</td>\n",
              "      <td>2020-01-24</td>\n",
              "      <td>0</td>\n",
              "      <td>0</td>\n",
              "      <td>0</td>\n",
              "    </tr>\n",
              "    <tr>\n",
              "      <th>3</th>\n",
              "      <td>Canada</td>\n",
              "      <td>2020-01-25</td>\n",
              "      <td>0</td>\n",
              "      <td>0</td>\n",
              "      <td>0</td>\n",
              "    </tr>\n",
              "    <tr>\n",
              "      <th>4</th>\n",
              "      <td>Canada</td>\n",
              "      <td>2020-01-26</td>\n",
              "      <td>1</td>\n",
              "      <td>0</td>\n",
              "      <td>0</td>\n",
              "    </tr>\n",
              "    <tr>\n",
              "      <th>5</th>\n",
              "      <td>Canada</td>\n",
              "      <td>2020-01-27</td>\n",
              "      <td>1</td>\n",
              "      <td>0</td>\n",
              "      <td>0</td>\n",
              "    </tr>\n",
              "    <tr>\n",
              "      <th>6</th>\n",
              "      <td>Canada</td>\n",
              "      <td>2020-01-28</td>\n",
              "      <td>2</td>\n",
              "      <td>0</td>\n",
              "      <td>0</td>\n",
              "    </tr>\n",
              "    <tr>\n",
              "      <th>7</th>\n",
              "      <td>Canada</td>\n",
              "      <td>2020-01-29</td>\n",
              "      <td>2</td>\n",
              "      <td>0</td>\n",
              "      <td>0</td>\n",
              "    </tr>\n",
              "    <tr>\n",
              "      <th>8</th>\n",
              "      <td>Canada</td>\n",
              "      <td>2020-01-30</td>\n",
              "      <td>2</td>\n",
              "      <td>0</td>\n",
              "      <td>0</td>\n",
              "    </tr>\n",
              "    <tr>\n",
              "      <th>9</th>\n",
              "      <td>Canada</td>\n",
              "      <td>2020-01-31</td>\n",
              "      <td>4</td>\n",
              "      <td>0</td>\n",
              "      <td>0</td>\n",
              "    </tr>\n",
              "  </tbody>\n",
              "</table>\n",
              "</div>"
            ],
            "text/plain": [
              "  country       date  confirmed  deaths  recovered\n",
              "0  Canada 2020-01-22          0       0          0\n",
              "1  Canada 2020-01-23          0       0          0\n",
              "2  Canada 2020-01-24          0       0          0\n",
              "3  Canada 2020-01-25          0       0          0\n",
              "4  Canada 2020-01-26          1       0          0\n",
              "5  Canada 2020-01-27          1       0          0\n",
              "6  Canada 2020-01-28          2       0          0\n",
              "7  Canada 2020-01-29          2       0          0\n",
              "8  Canada 2020-01-30          2       0          0\n",
              "9  Canada 2020-01-31          4       0          0"
            ]
          },
          "metadata": {
            "tags": []
          },
          "execution_count": 478
        }
      ]
    },
    {
      "cell_type": "markdown",
      "metadata": {
        "id": "ixiaRbw1SFJU",
        "colab_type": "text"
      },
      "source": [
        "## Some feature engineering"
      ]
    },
    {
      "cell_type": "code",
      "metadata": {
        "id": "k-NX2KMJNKmd",
        "colab_type": "code",
        "colab": {}
      },
      "source": [
        "new_confirmed = canada_df['confirmed'].diff()\n",
        "new_deaths = canada_df['deaths'].diff()"
      ],
      "execution_count": 0,
      "outputs": []
    },
    {
      "cell_type": "code",
      "metadata": {
        "id": "n8418KNFOyza",
        "colab_type": "code",
        "colab": {}
      },
      "source": [
        "canada_df['new_confirmed'] = new_confirmed\n",
        "canada_df['new_deaths'] = new_deaths"
      ],
      "execution_count": 0,
      "outputs": []
    },
    {
      "cell_type": "code",
      "metadata": {
        "id": "cFnmyMfmMrQ7",
        "colab_type": "code",
        "outputId": "c1d20748-9321-450b-9e16-5a7c8f0646aa",
        "colab": {
          "base_uri": "https://localhost:8080/",
          "height": 359
        }
      },
      "source": [
        "canada_df.head(10)"
      ],
      "execution_count": 0,
      "outputs": [
        {
          "output_type": "execute_result",
          "data": {
            "text/html": [
              "<div>\n",
              "<style scoped>\n",
              "    .dataframe tbody tr th:only-of-type {\n",
              "        vertical-align: middle;\n",
              "    }\n",
              "\n",
              "    .dataframe tbody tr th {\n",
              "        vertical-align: top;\n",
              "    }\n",
              "\n",
              "    .dataframe thead th {\n",
              "        text-align: right;\n",
              "    }\n",
              "</style>\n",
              "<table border=\"1\" class=\"dataframe\">\n",
              "  <thead>\n",
              "    <tr style=\"text-align: right;\">\n",
              "      <th></th>\n",
              "      <th>country</th>\n",
              "      <th>date</th>\n",
              "      <th>confirmed</th>\n",
              "      <th>deaths</th>\n",
              "      <th>recovered</th>\n",
              "      <th>new_confirmed</th>\n",
              "      <th>new_deaths</th>\n",
              "    </tr>\n",
              "  </thead>\n",
              "  <tbody>\n",
              "    <tr>\n",
              "      <th>0</th>\n",
              "      <td>Canada</td>\n",
              "      <td>2020-01-22</td>\n",
              "      <td>0</td>\n",
              "      <td>0</td>\n",
              "      <td>0</td>\n",
              "      <td>NaN</td>\n",
              "      <td>NaN</td>\n",
              "    </tr>\n",
              "    <tr>\n",
              "      <th>1</th>\n",
              "      <td>Canada</td>\n",
              "      <td>2020-01-23</td>\n",
              "      <td>0</td>\n",
              "      <td>0</td>\n",
              "      <td>0</td>\n",
              "      <td>0.0</td>\n",
              "      <td>0.0</td>\n",
              "    </tr>\n",
              "    <tr>\n",
              "      <th>2</th>\n",
              "      <td>Canada</td>\n",
              "      <td>2020-01-24</td>\n",
              "      <td>0</td>\n",
              "      <td>0</td>\n",
              "      <td>0</td>\n",
              "      <td>0.0</td>\n",
              "      <td>0.0</td>\n",
              "    </tr>\n",
              "    <tr>\n",
              "      <th>3</th>\n",
              "      <td>Canada</td>\n",
              "      <td>2020-01-25</td>\n",
              "      <td>0</td>\n",
              "      <td>0</td>\n",
              "      <td>0</td>\n",
              "      <td>0.0</td>\n",
              "      <td>0.0</td>\n",
              "    </tr>\n",
              "    <tr>\n",
              "      <th>4</th>\n",
              "      <td>Canada</td>\n",
              "      <td>2020-01-26</td>\n",
              "      <td>1</td>\n",
              "      <td>0</td>\n",
              "      <td>0</td>\n",
              "      <td>1.0</td>\n",
              "      <td>0.0</td>\n",
              "    </tr>\n",
              "    <tr>\n",
              "      <th>5</th>\n",
              "      <td>Canada</td>\n",
              "      <td>2020-01-27</td>\n",
              "      <td>1</td>\n",
              "      <td>0</td>\n",
              "      <td>0</td>\n",
              "      <td>0.0</td>\n",
              "      <td>0.0</td>\n",
              "    </tr>\n",
              "    <tr>\n",
              "      <th>6</th>\n",
              "      <td>Canada</td>\n",
              "      <td>2020-01-28</td>\n",
              "      <td>2</td>\n",
              "      <td>0</td>\n",
              "      <td>0</td>\n",
              "      <td>1.0</td>\n",
              "      <td>0.0</td>\n",
              "    </tr>\n",
              "    <tr>\n",
              "      <th>7</th>\n",
              "      <td>Canada</td>\n",
              "      <td>2020-01-29</td>\n",
              "      <td>2</td>\n",
              "      <td>0</td>\n",
              "      <td>0</td>\n",
              "      <td>0.0</td>\n",
              "      <td>0.0</td>\n",
              "    </tr>\n",
              "    <tr>\n",
              "      <th>8</th>\n",
              "      <td>Canada</td>\n",
              "      <td>2020-01-30</td>\n",
              "      <td>2</td>\n",
              "      <td>0</td>\n",
              "      <td>0</td>\n",
              "      <td>0.0</td>\n",
              "      <td>0.0</td>\n",
              "    </tr>\n",
              "    <tr>\n",
              "      <th>9</th>\n",
              "      <td>Canada</td>\n",
              "      <td>2020-01-31</td>\n",
              "      <td>4</td>\n",
              "      <td>0</td>\n",
              "      <td>0</td>\n",
              "      <td>2.0</td>\n",
              "      <td>0.0</td>\n",
              "    </tr>\n",
              "  </tbody>\n",
              "</table>\n",
              "</div>"
            ],
            "text/plain": [
              "  country       date  confirmed  deaths  recovered  new_confirmed  new_deaths\n",
              "0  Canada 2020-01-22          0       0          0            NaN         NaN\n",
              "1  Canada 2020-01-23          0       0          0            0.0         0.0\n",
              "2  Canada 2020-01-24          0       0          0            0.0         0.0\n",
              "3  Canada 2020-01-25          0       0          0            0.0         0.0\n",
              "4  Canada 2020-01-26          1       0          0            1.0         0.0\n",
              "5  Canada 2020-01-27          1       0          0            0.0         0.0\n",
              "6  Canada 2020-01-28          2       0          0            1.0         0.0\n",
              "7  Canada 2020-01-29          2       0          0            0.0         0.0\n",
              "8  Canada 2020-01-30          2       0          0            0.0         0.0\n",
              "9  Canada 2020-01-31          4       0          0            2.0         0.0"
            ]
          },
          "metadata": {
            "tags": []
          },
          "execution_count": 481
        }
      ]
    },
    {
      "cell_type": "code",
      "metadata": {
        "id": "IgGORDs6MsvL",
        "colab_type": "code",
        "outputId": "887b6b54-3308-491e-ecbc-3740b483cf2b",
        "colab": {
          "base_uri": "https://localhost:8080/",
          "height": 204
        }
      },
      "source": [
        "canada_df.tail()"
      ],
      "execution_count": 0,
      "outputs": [
        {
          "output_type": "execute_result",
          "data": {
            "text/html": [
              "<div>\n",
              "<style scoped>\n",
              "    .dataframe tbody tr th:only-of-type {\n",
              "        vertical-align: middle;\n",
              "    }\n",
              "\n",
              "    .dataframe tbody tr th {\n",
              "        vertical-align: top;\n",
              "    }\n",
              "\n",
              "    .dataframe thead th {\n",
              "        text-align: right;\n",
              "    }\n",
              "</style>\n",
              "<table border=\"1\" class=\"dataframe\">\n",
              "  <thead>\n",
              "    <tr style=\"text-align: right;\">\n",
              "      <th></th>\n",
              "      <th>country</th>\n",
              "      <th>date</th>\n",
              "      <th>confirmed</th>\n",
              "      <th>deaths</th>\n",
              "      <th>recovered</th>\n",
              "      <th>new_confirmed</th>\n",
              "      <th>new_deaths</th>\n",
              "    </tr>\n",
              "  </thead>\n",
              "  <tbody>\n",
              "    <tr>\n",
              "      <th>80</th>\n",
              "      <td>Canada</td>\n",
              "      <td>2020-04-11</td>\n",
              "      <td>23316</td>\n",
              "      <td>654</td>\n",
              "      <td>6589</td>\n",
              "      <td>1257.0</td>\n",
              "      <td>97.0</td>\n",
              "    </tr>\n",
              "    <tr>\n",
              "      <th>81</th>\n",
              "      <td>Canada</td>\n",
              "      <td>2020-04-12</td>\n",
              "      <td>24298</td>\n",
              "      <td>714</td>\n",
              "      <td>7123</td>\n",
              "      <td>982.0</td>\n",
              "      <td>60.0</td>\n",
              "    </tr>\n",
              "    <tr>\n",
              "      <th>82</th>\n",
              "      <td>Canada</td>\n",
              "      <td>2020-04-13</td>\n",
              "      <td>25679</td>\n",
              "      <td>779</td>\n",
              "      <td>7758</td>\n",
              "      <td>1381.0</td>\n",
              "      <td>65.0</td>\n",
              "    </tr>\n",
              "    <tr>\n",
              "      <th>83</th>\n",
              "      <td>Canada</td>\n",
              "      <td>2020-04-14</td>\n",
              "      <td>27034</td>\n",
              "      <td>899</td>\n",
              "      <td>8210</td>\n",
              "      <td>1355.0</td>\n",
              "      <td>120.0</td>\n",
              "    </tr>\n",
              "    <tr>\n",
              "      <th>84</th>\n",
              "      <td>Canada</td>\n",
              "      <td>2020-04-15</td>\n",
              "      <td>28208</td>\n",
              "      <td>1006</td>\n",
              "      <td>8966</td>\n",
              "      <td>1174.0</td>\n",
              "      <td>107.0</td>\n",
              "    </tr>\n",
              "  </tbody>\n",
              "</table>\n",
              "</div>"
            ],
            "text/plain": [
              "   country       date  confirmed  deaths  recovered  new_confirmed  new_deaths\n",
              "80  Canada 2020-04-11      23316     654       6589         1257.0        97.0\n",
              "81  Canada 2020-04-12      24298     714       7123          982.0        60.0\n",
              "82  Canada 2020-04-13      25679     779       7758         1381.0        65.0\n",
              "83  Canada 2020-04-14      27034     899       8210         1355.0       120.0\n",
              "84  Canada 2020-04-15      28208    1006       8966         1174.0       107.0"
            ]
          },
          "metadata": {
            "tags": []
          },
          "execution_count": 482
        }
      ]
    },
    {
      "cell_type": "code",
      "metadata": {
        "id": "QG590pNnZNRq",
        "colab_type": "code",
        "outputId": "f3fa9724-9eb8-4304-c3e4-7983c2c075a4",
        "colab": {
          "base_uri": "https://localhost:8080/",
          "height": 255
        }
      },
      "source": [
        "canada_df.info()"
      ],
      "execution_count": 0,
      "outputs": [
        {
          "output_type": "stream",
          "text": [
            "<class 'pandas.core.frame.DataFrame'>\n",
            "RangeIndex: 85 entries, 0 to 84\n",
            "Data columns (total 7 columns):\n",
            " #   Column         Non-Null Count  Dtype         \n",
            "---  ------         --------------  -----         \n",
            " 0   country        85 non-null     object        \n",
            " 1   date           85 non-null     datetime64[ns]\n",
            " 2   confirmed      85 non-null     int64         \n",
            " 3   deaths         85 non-null     int64         \n",
            " 4   recovered      85 non-null     int64         \n",
            " 5   new_confirmed  84 non-null     float64       \n",
            " 6   new_deaths     84 non-null     float64       \n",
            "dtypes: datetime64[ns](1), float64(2), int64(3), object(1)\n",
            "memory usage: 4.8+ KB\n"
          ],
          "name": "stdout"
        }
      ]
    },
    {
      "cell_type": "code",
      "metadata": {
        "id": "TXr2eaoKYpC-",
        "colab_type": "code",
        "colab": {}
      },
      "source": [
        "canada_df.set_index('date', inplace=True)"
      ],
      "execution_count": 0,
      "outputs": []
    },
    {
      "cell_type": "code",
      "metadata": {
        "id": "w4D5e9mGYwl-",
        "colab_type": "code",
        "outputId": "7957d7a6-6dda-426f-ade8-687688b6ffe8",
        "colab": {
          "base_uri": "https://localhost:8080/",
          "height": 390
        }
      },
      "source": [
        "canada_df.head(10)"
      ],
      "execution_count": 0,
      "outputs": [
        {
          "output_type": "execute_result",
          "data": {
            "text/html": [
              "<div>\n",
              "<style scoped>\n",
              "    .dataframe tbody tr th:only-of-type {\n",
              "        vertical-align: middle;\n",
              "    }\n",
              "\n",
              "    .dataframe tbody tr th {\n",
              "        vertical-align: top;\n",
              "    }\n",
              "\n",
              "    .dataframe thead th {\n",
              "        text-align: right;\n",
              "    }\n",
              "</style>\n",
              "<table border=\"1\" class=\"dataframe\">\n",
              "  <thead>\n",
              "    <tr style=\"text-align: right;\">\n",
              "      <th></th>\n",
              "      <th>country</th>\n",
              "      <th>confirmed</th>\n",
              "      <th>deaths</th>\n",
              "      <th>recovered</th>\n",
              "      <th>new_confirmed</th>\n",
              "      <th>new_deaths</th>\n",
              "    </tr>\n",
              "    <tr>\n",
              "      <th>date</th>\n",
              "      <th></th>\n",
              "      <th></th>\n",
              "      <th></th>\n",
              "      <th></th>\n",
              "      <th></th>\n",
              "      <th></th>\n",
              "    </tr>\n",
              "  </thead>\n",
              "  <tbody>\n",
              "    <tr>\n",
              "      <th>2020-01-22</th>\n",
              "      <td>Canada</td>\n",
              "      <td>0</td>\n",
              "      <td>0</td>\n",
              "      <td>0</td>\n",
              "      <td>NaN</td>\n",
              "      <td>NaN</td>\n",
              "    </tr>\n",
              "    <tr>\n",
              "      <th>2020-01-23</th>\n",
              "      <td>Canada</td>\n",
              "      <td>0</td>\n",
              "      <td>0</td>\n",
              "      <td>0</td>\n",
              "      <td>0.0</td>\n",
              "      <td>0.0</td>\n",
              "    </tr>\n",
              "    <tr>\n",
              "      <th>2020-01-24</th>\n",
              "      <td>Canada</td>\n",
              "      <td>0</td>\n",
              "      <td>0</td>\n",
              "      <td>0</td>\n",
              "      <td>0.0</td>\n",
              "      <td>0.0</td>\n",
              "    </tr>\n",
              "    <tr>\n",
              "      <th>2020-01-25</th>\n",
              "      <td>Canada</td>\n",
              "      <td>0</td>\n",
              "      <td>0</td>\n",
              "      <td>0</td>\n",
              "      <td>0.0</td>\n",
              "      <td>0.0</td>\n",
              "    </tr>\n",
              "    <tr>\n",
              "      <th>2020-01-26</th>\n",
              "      <td>Canada</td>\n",
              "      <td>1</td>\n",
              "      <td>0</td>\n",
              "      <td>0</td>\n",
              "      <td>1.0</td>\n",
              "      <td>0.0</td>\n",
              "    </tr>\n",
              "    <tr>\n",
              "      <th>2020-01-27</th>\n",
              "      <td>Canada</td>\n",
              "      <td>1</td>\n",
              "      <td>0</td>\n",
              "      <td>0</td>\n",
              "      <td>0.0</td>\n",
              "      <td>0.0</td>\n",
              "    </tr>\n",
              "    <tr>\n",
              "      <th>2020-01-28</th>\n",
              "      <td>Canada</td>\n",
              "      <td>2</td>\n",
              "      <td>0</td>\n",
              "      <td>0</td>\n",
              "      <td>1.0</td>\n",
              "      <td>0.0</td>\n",
              "    </tr>\n",
              "    <tr>\n",
              "      <th>2020-01-29</th>\n",
              "      <td>Canada</td>\n",
              "      <td>2</td>\n",
              "      <td>0</td>\n",
              "      <td>0</td>\n",
              "      <td>0.0</td>\n",
              "      <td>0.0</td>\n",
              "    </tr>\n",
              "    <tr>\n",
              "      <th>2020-01-30</th>\n",
              "      <td>Canada</td>\n",
              "      <td>2</td>\n",
              "      <td>0</td>\n",
              "      <td>0</td>\n",
              "      <td>0.0</td>\n",
              "      <td>0.0</td>\n",
              "    </tr>\n",
              "    <tr>\n",
              "      <th>2020-01-31</th>\n",
              "      <td>Canada</td>\n",
              "      <td>4</td>\n",
              "      <td>0</td>\n",
              "      <td>0</td>\n",
              "      <td>2.0</td>\n",
              "      <td>0.0</td>\n",
              "    </tr>\n",
              "  </tbody>\n",
              "</table>\n",
              "</div>"
            ],
            "text/plain": [
              "           country  confirmed  deaths  recovered  new_confirmed  new_deaths\n",
              "date                                                                       \n",
              "2020-01-22  Canada          0       0          0            NaN         NaN\n",
              "2020-01-23  Canada          0       0          0            0.0         0.0\n",
              "2020-01-24  Canada          0       0          0            0.0         0.0\n",
              "2020-01-25  Canada          0       0          0            0.0         0.0\n",
              "2020-01-26  Canada          1       0          0            1.0         0.0\n",
              "2020-01-27  Canada          1       0          0            0.0         0.0\n",
              "2020-01-28  Canada          2       0          0            1.0         0.0\n",
              "2020-01-29  Canada          2       0          0            0.0         0.0\n",
              "2020-01-30  Canada          2       0          0            0.0         0.0\n",
              "2020-01-31  Canada          4       0          0            2.0         0.0"
            ]
          },
          "metadata": {
            "tags": []
          },
          "execution_count": 485
        }
      ]
    },
    {
      "cell_type": "markdown",
      "metadata": {
        "id": "35Yjn74MYXao",
        "colab_type": "text"
      },
      "source": [
        "## Data Split"
      ]
    },
    {
      "cell_type": "markdown",
      "metadata": {
        "id": "AV-h_nDdYZT-",
        "colab_type": "text"
      },
      "source": [
        "Take data before `2020-04-01` as training while data after as test"
      ]
    },
    {
      "cell_type": "code",
      "metadata": {
        "id": "arnzMCHsVzVu",
        "colab_type": "code",
        "colab": {}
      },
      "source": [
        "forecast_date = '2020-04-01'\n",
        "train = canada_df.loc[:forecast_date]\n"
      ],
      "execution_count": 0,
      "outputs": []
    },
    {
      "cell_type": "code",
      "metadata": {
        "id": "Zf2Y55aj_NX2",
        "colab_type": "code",
        "outputId": "1e8baba2-a0a6-44c5-9f38-a802ef030e01",
        "colab": {
          "base_uri": "https://localhost:8080/",
          "height": 340
        }
      },
      "source": [
        "train.index"
      ],
      "execution_count": 0,
      "outputs": [
        {
          "output_type": "execute_result",
          "data": {
            "text/plain": [
              "DatetimeIndex(['2020-01-22', '2020-01-23', '2020-01-24', '2020-01-25',\n",
              "               '2020-01-26', '2020-01-27', '2020-01-28', '2020-01-29',\n",
              "               '2020-01-30', '2020-01-31', '2020-02-01', '2020-02-02',\n",
              "               '2020-02-03', '2020-02-04', '2020-02-05', '2020-02-06',\n",
              "               '2020-02-07', '2020-02-08', '2020-02-09', '2020-02-10',\n",
              "               '2020-02-11', '2020-02-12', '2020-02-13', '2020-02-14',\n",
              "               '2020-02-15', '2020-02-16', '2020-02-17', '2020-02-18',\n",
              "               '2020-02-19', '2020-02-20', '2020-02-21', '2020-02-22',\n",
              "               '2020-02-23', '2020-02-24', '2020-02-25', '2020-02-26',\n",
              "               '2020-02-27', '2020-02-28', '2020-02-29', '2020-03-01',\n",
              "               '2020-03-02', '2020-03-03', '2020-03-04', '2020-03-05',\n",
              "               '2020-03-06', '2020-03-07', '2020-03-08', '2020-03-09',\n",
              "               '2020-03-10', '2020-03-11', '2020-03-12', '2020-03-13',\n",
              "               '2020-03-14', '2020-03-15', '2020-03-16', '2020-03-17',\n",
              "               '2020-03-18', '2020-03-19', '2020-03-20', '2020-03-21',\n",
              "               '2020-03-22', '2020-03-23', '2020-03-24', '2020-03-25',\n",
              "               '2020-03-26', '2020-03-27', '2020-03-28', '2020-03-29',\n",
              "               '2020-03-30', '2020-03-31', '2020-04-01'],\n",
              "              dtype='datetime64[ns]', name='date', freq=None)"
            ]
          },
          "metadata": {
            "tags": []
          },
          "execution_count": 487
        }
      ]
    },
    {
      "cell_type": "code",
      "metadata": {
        "id": "MhcTpsBh_Jm2",
        "colab_type": "code",
        "colab": {}
      },
      "source": [
        "test = canada_df.drop(train.index)"
      ],
      "execution_count": 0,
      "outputs": []
    },
    {
      "cell_type": "code",
      "metadata": {
        "id": "BNG5d2O4ZwBH",
        "colab_type": "code",
        "outputId": "349ccd51-c0cd-4a49-cfc8-2f7120d20ce5",
        "colab": {
          "base_uri": "https://localhost:8080/",
          "height": 235
        }
      },
      "source": [
        "train.tail()"
      ],
      "execution_count": 0,
      "outputs": [
        {
          "output_type": "execute_result",
          "data": {
            "text/html": [
              "<div>\n",
              "<style scoped>\n",
              "    .dataframe tbody tr th:only-of-type {\n",
              "        vertical-align: middle;\n",
              "    }\n",
              "\n",
              "    .dataframe tbody tr th {\n",
              "        vertical-align: top;\n",
              "    }\n",
              "\n",
              "    .dataframe thead th {\n",
              "        text-align: right;\n",
              "    }\n",
              "</style>\n",
              "<table border=\"1\" class=\"dataframe\">\n",
              "  <thead>\n",
              "    <tr style=\"text-align: right;\">\n",
              "      <th></th>\n",
              "      <th>country</th>\n",
              "      <th>confirmed</th>\n",
              "      <th>deaths</th>\n",
              "      <th>recovered</th>\n",
              "      <th>new_confirmed</th>\n",
              "      <th>new_deaths</th>\n",
              "    </tr>\n",
              "    <tr>\n",
              "      <th>date</th>\n",
              "      <th></th>\n",
              "      <th></th>\n",
              "      <th></th>\n",
              "      <th></th>\n",
              "      <th></th>\n",
              "      <th></th>\n",
              "    </tr>\n",
              "  </thead>\n",
              "  <tbody>\n",
              "    <tr>\n",
              "      <th>2020-03-28</th>\n",
              "      <td>Canada</td>\n",
              "      <td>5576</td>\n",
              "      <td>61</td>\n",
              "      <td>466</td>\n",
              "      <td>894.0</td>\n",
              "      <td>7.0</td>\n",
              "    </tr>\n",
              "    <tr>\n",
              "      <th>2020-03-29</th>\n",
              "      <td>Canada</td>\n",
              "      <td>6280</td>\n",
              "      <td>64</td>\n",
              "      <td>466</td>\n",
              "      <td>704.0</td>\n",
              "      <td>3.0</td>\n",
              "    </tr>\n",
              "    <tr>\n",
              "      <th>2020-03-30</th>\n",
              "      <td>Canada</td>\n",
              "      <td>7398</td>\n",
              "      <td>80</td>\n",
              "      <td>466</td>\n",
              "      <td>1118.0</td>\n",
              "      <td>16.0</td>\n",
              "    </tr>\n",
              "    <tr>\n",
              "      <th>2020-03-31</th>\n",
              "      <td>Canada</td>\n",
              "      <td>8527</td>\n",
              "      <td>101</td>\n",
              "      <td>1592</td>\n",
              "      <td>1129.0</td>\n",
              "      <td>21.0</td>\n",
              "    </tr>\n",
              "    <tr>\n",
              "      <th>2020-04-01</th>\n",
              "      <td>Canada</td>\n",
              "      <td>9560</td>\n",
              "      <td>109</td>\n",
              "      <td>1324</td>\n",
              "      <td>1033.0</td>\n",
              "      <td>8.0</td>\n",
              "    </tr>\n",
              "  </tbody>\n",
              "</table>\n",
              "</div>"
            ],
            "text/plain": [
              "           country  confirmed  deaths  recovered  new_confirmed  new_deaths\n",
              "date                                                                       \n",
              "2020-03-28  Canada       5576      61        466          894.0         7.0\n",
              "2020-03-29  Canada       6280      64        466          704.0         3.0\n",
              "2020-03-30  Canada       7398      80        466         1118.0        16.0\n",
              "2020-03-31  Canada       8527     101       1592         1129.0        21.0\n",
              "2020-04-01  Canada       9560     109       1324         1033.0         8.0"
            ]
          },
          "metadata": {
            "tags": []
          },
          "execution_count": 489
        }
      ]
    },
    {
      "cell_type": "code",
      "metadata": {
        "id": "q-MVqjVzDcez",
        "colab_type": "code",
        "outputId": "8e1ecfd0-304c-4643-d927-89d4be0ddd47",
        "colab": {
          "base_uri": "https://localhost:8080/",
          "height": 235
        }
      },
      "source": [
        "test.head()"
      ],
      "execution_count": 0,
      "outputs": [
        {
          "output_type": "execute_result",
          "data": {
            "text/html": [
              "<div>\n",
              "<style scoped>\n",
              "    .dataframe tbody tr th:only-of-type {\n",
              "        vertical-align: middle;\n",
              "    }\n",
              "\n",
              "    .dataframe tbody tr th {\n",
              "        vertical-align: top;\n",
              "    }\n",
              "\n",
              "    .dataframe thead th {\n",
              "        text-align: right;\n",
              "    }\n",
              "</style>\n",
              "<table border=\"1\" class=\"dataframe\">\n",
              "  <thead>\n",
              "    <tr style=\"text-align: right;\">\n",
              "      <th></th>\n",
              "      <th>country</th>\n",
              "      <th>confirmed</th>\n",
              "      <th>deaths</th>\n",
              "      <th>recovered</th>\n",
              "      <th>new_confirmed</th>\n",
              "      <th>new_deaths</th>\n",
              "    </tr>\n",
              "    <tr>\n",
              "      <th>date</th>\n",
              "      <th></th>\n",
              "      <th></th>\n",
              "      <th></th>\n",
              "      <th></th>\n",
              "      <th></th>\n",
              "      <th></th>\n",
              "    </tr>\n",
              "  </thead>\n",
              "  <tbody>\n",
              "    <tr>\n",
              "      <th>2020-04-02</th>\n",
              "      <td>Canada</td>\n",
              "      <td>11284</td>\n",
              "      <td>139</td>\n",
              "      <td>1735</td>\n",
              "      <td>1724.0</td>\n",
              "      <td>30.0</td>\n",
              "    </tr>\n",
              "    <tr>\n",
              "      <th>2020-04-03</th>\n",
              "      <td>Canada</td>\n",
              "      <td>12437</td>\n",
              "      <td>179</td>\n",
              "      <td>2175</td>\n",
              "      <td>1153.0</td>\n",
              "      <td>40.0</td>\n",
              "    </tr>\n",
              "    <tr>\n",
              "      <th>2020-04-04</th>\n",
              "      <td>Canada</td>\n",
              "      <td>12978</td>\n",
              "      <td>218</td>\n",
              "      <td>2577</td>\n",
              "      <td>541.0</td>\n",
              "      <td>39.0</td>\n",
              "    </tr>\n",
              "    <tr>\n",
              "      <th>2020-04-05</th>\n",
              "      <td>Canada</td>\n",
              "      <td>15756</td>\n",
              "      <td>259</td>\n",
              "      <td>3012</td>\n",
              "      <td>2778.0</td>\n",
              "      <td>41.0</td>\n",
              "    </tr>\n",
              "    <tr>\n",
              "      <th>2020-04-06</th>\n",
              "      <td>Canada</td>\n",
              "      <td>16563</td>\n",
              "      <td>339</td>\n",
              "      <td>3256</td>\n",
              "      <td>807.0</td>\n",
              "      <td>80.0</td>\n",
              "    </tr>\n",
              "  </tbody>\n",
              "</table>\n",
              "</div>"
            ],
            "text/plain": [
              "           country  confirmed  deaths  recovered  new_confirmed  new_deaths\n",
              "date                                                                       \n",
              "2020-04-02  Canada      11284     139       1735         1724.0        30.0\n",
              "2020-04-03  Canada      12437     179       2175         1153.0        40.0\n",
              "2020-04-04  Canada      12978     218       2577          541.0        39.0\n",
              "2020-04-05  Canada      15756     259       3012         2778.0        41.0\n",
              "2020-04-06  Canada      16563     339       3256          807.0        80.0"
            ]
          },
          "metadata": {
            "tags": []
          },
          "execution_count": 490
        }
      ]
    },
    {
      "cell_type": "code",
      "metadata": {
        "id": "Pwx6YPMnuN8-",
        "colab_type": "code",
        "colab": {}
      },
      "source": [
        "#train.reset_index(drop=True, inplace=True)"
      ],
      "execution_count": 0,
      "outputs": []
    },
    {
      "cell_type": "markdown",
      "metadata": {
        "id": "s-EKnjnkwYNg",
        "colab_type": "text"
      },
      "source": [
        "Want to rearrange the data set to be of the form\n",
        "```\n",
        "    | var(t-n) | var(t-(n-1)) | ... | var(t-1) | var(t) |\n",
        "    ---------------------------------------------------- \n",
        "  0 |\n",
        "  1 |\n",
        "```\n",
        "where the far right column is the output forecasting variable (i.e., y) and the columns on its left are the input variables."
      ]
    },
    {
      "cell_type": "code",
      "metadata": {
        "id": "DHpUpa_PnC3A",
        "colab_type": "code",
        "outputId": "3de3aea1-3068-404e-b0b9-ff1bdd942f20",
        "colab": {
          "base_uri": "https://localhost:8080/",
          "height": 54
        }
      },
      "source": [
        "\"\"\"\n",
        "PROTOTYPE\n",
        "\n",
        "temp = canada_df.copy()\n",
        "target = 'confirmed'\n",
        "x=[]\n",
        "y=[]\n",
        "n_steps = 7\n",
        "sequence=list(temp[target])\n",
        "for i in range(len(sequence)):\n",
        "    end_ix = i + n_steps\n",
        "    if end_ix > len(sequence)-1:\n",
        "        break\n",
        "    seq_x, seq_y = sequence[i:end_ix], sequence[end_ix]\n",
        "    if(seq_y!=0):\n",
        "        x.append(seq_x)   \n",
        "        y.append(seq_y)\n",
        "\"\"\""
      ],
      "execution_count": 0,
      "outputs": [
        {
          "output_type": "execute_result",
          "data": {
            "text/plain": [
              "\"\\nPROTOTYPE\\n\\ntemp = canada_df.copy()\\ntarget = 'confirmed'\\nx=[]\\ny=[]\\nn_steps = 7\\nsequence=list(temp[target])\\nfor i in range(len(sequence)):\\n    end_ix = i + n_steps\\n    if end_ix > len(sequence)-1:\\n        break\\n    seq_x, seq_y = sequence[i:end_ix], sequence[end_ix]\\n    if(seq_y!=0):\\n        x.append(seq_x)   \\n        y.append(seq_y)\\n\""
            ]
          },
          "metadata": {
            "tags": []
          },
          "execution_count": 492
        }
      ]
    },
    {
      "cell_type": "code",
      "metadata": {
        "id": "lHBNlcXNsYxr",
        "colab_type": "code",
        "colab": {}
      },
      "source": [
        "def series_to_supervised(data, n_in=1, n_out=1, dropnan=True):\n",
        "  \"\"\"\n",
        "\tFrame a time series as a supervised learning dataset.\n",
        "\tArguments:\n",
        "\t\tdata: Sequence of observations as a list or NumPy array.\n",
        "\t\tn_in: Number of lag observations as input (X).\n",
        "\t\tn_out: Number of observations as output (y).\n",
        "\t\tdropnan: Boolean whether or not to drop rows with NaN values.\n",
        "\tReturns:\n",
        "\t\tPandas DataFrame of series framed for supervised learning.\n",
        "\n",
        "  SOURCE: ML Mastery time series tutorial\n",
        "\t\"\"\"\n",
        "  # Determine the number of input variables\n",
        "  n_vars = 1 if type(data) is list else data.shape[0]\n",
        "  df = pd.DataFrame(data)\n",
        "  cols, names = list(), list()\n",
        "\t# input sequence (t-n, ... t-1)\n",
        "  for i in range(n_in, 0, -1):\n",
        "    cols.append(df.shift(i))\n",
        "    names += [('var%d(t-%d)' % (j+1, i)) for j in range(n_vars)]\n",
        "\t# forecast sequence (t, t+1, ... t+n)\n",
        "  for i in range(0, n_out):\n",
        "    cols.append(df.shift(-i))\n",
        "    if i == 0:\n",
        "      names += [('var%d(t)' % (j+1)) for j in range(n_vars)]\n",
        "    else:\n",
        "      names += [('var%d(t+%d)' % (j+1, i)) for j in range(n_vars)]\n",
        "\t# put it all together\n",
        "  agg = pd.concat(cols, axis=1)\n",
        "  agg.columns = names\n",
        "\t# drop rows with NaN values\n",
        "  if dropnan:\n",
        "    agg.dropna(inplace=True)\n",
        "  return agg"
      ],
      "execution_count": 0,
      "outputs": []
    },
    {
      "cell_type": "code",
      "metadata": {
        "id": "AKthy5vRxqZU",
        "colab_type": "code",
        "colab": {}
      },
      "source": [
        "confirmed = canada_df['confirmed'].tolist()"
      ],
      "execution_count": 0,
      "outputs": []
    },
    {
      "cell_type": "code",
      "metadata": {
        "id": "jS7oudWCtnHz",
        "colab_type": "code",
        "colab": {}
      },
      "source": [
        "agg = series_to_supervised(confirmed, 7)"
      ],
      "execution_count": 0,
      "outputs": []
    },
    {
      "cell_type": "code",
      "metadata": {
        "id": "lAeEQ2n8xN4I",
        "colab_type": "code",
        "outputId": "85f125c8-7c60-41fe-d01d-97ec4b88eb99",
        "colab": {
          "base_uri": "https://localhost:8080/",
          "height": 204
        }
      },
      "source": [
        "agg.head()"
      ],
      "execution_count": 0,
      "outputs": [
        {
          "output_type": "execute_result",
          "data": {
            "text/html": [
              "<div>\n",
              "<style scoped>\n",
              "    .dataframe tbody tr th:only-of-type {\n",
              "        vertical-align: middle;\n",
              "    }\n",
              "\n",
              "    .dataframe tbody tr th {\n",
              "        vertical-align: top;\n",
              "    }\n",
              "\n",
              "    .dataframe thead th {\n",
              "        text-align: right;\n",
              "    }\n",
              "</style>\n",
              "<table border=\"1\" class=\"dataframe\">\n",
              "  <thead>\n",
              "    <tr style=\"text-align: right;\">\n",
              "      <th></th>\n",
              "      <th>var1(t-7)</th>\n",
              "      <th>var1(t-6)</th>\n",
              "      <th>var1(t-5)</th>\n",
              "      <th>var1(t-4)</th>\n",
              "      <th>var1(t-3)</th>\n",
              "      <th>var1(t-2)</th>\n",
              "      <th>var1(t-1)</th>\n",
              "      <th>var1(t)</th>\n",
              "    </tr>\n",
              "  </thead>\n",
              "  <tbody>\n",
              "    <tr>\n",
              "      <th>7</th>\n",
              "      <td>0.0</td>\n",
              "      <td>0.0</td>\n",
              "      <td>0.0</td>\n",
              "      <td>0.0</td>\n",
              "      <td>1.0</td>\n",
              "      <td>1.0</td>\n",
              "      <td>2.0</td>\n",
              "      <td>2</td>\n",
              "    </tr>\n",
              "    <tr>\n",
              "      <th>8</th>\n",
              "      <td>0.0</td>\n",
              "      <td>0.0</td>\n",
              "      <td>0.0</td>\n",
              "      <td>1.0</td>\n",
              "      <td>1.0</td>\n",
              "      <td>2.0</td>\n",
              "      <td>2.0</td>\n",
              "      <td>2</td>\n",
              "    </tr>\n",
              "    <tr>\n",
              "      <th>9</th>\n",
              "      <td>0.0</td>\n",
              "      <td>0.0</td>\n",
              "      <td>1.0</td>\n",
              "      <td>1.0</td>\n",
              "      <td>2.0</td>\n",
              "      <td>2.0</td>\n",
              "      <td>2.0</td>\n",
              "      <td>4</td>\n",
              "    </tr>\n",
              "    <tr>\n",
              "      <th>10</th>\n",
              "      <td>0.0</td>\n",
              "      <td>1.0</td>\n",
              "      <td>1.0</td>\n",
              "      <td>2.0</td>\n",
              "      <td>2.0</td>\n",
              "      <td>2.0</td>\n",
              "      <td>4.0</td>\n",
              "      <td>4</td>\n",
              "    </tr>\n",
              "    <tr>\n",
              "      <th>11</th>\n",
              "      <td>1.0</td>\n",
              "      <td>1.0</td>\n",
              "      <td>2.0</td>\n",
              "      <td>2.0</td>\n",
              "      <td>2.0</td>\n",
              "      <td>4.0</td>\n",
              "      <td>4.0</td>\n",
              "      <td>4</td>\n",
              "    </tr>\n",
              "  </tbody>\n",
              "</table>\n",
              "</div>"
            ],
            "text/plain": [
              "    var1(t-7)  var1(t-6)  var1(t-5)  ...  var1(t-2)  var1(t-1)  var1(t)\n",
              "7         0.0        0.0        0.0  ...        1.0        2.0        2\n",
              "8         0.0        0.0        0.0  ...        2.0        2.0        2\n",
              "9         0.0        0.0        1.0  ...        2.0        2.0        4\n",
              "10        0.0        1.0        1.0  ...        2.0        4.0        4\n",
              "11        1.0        1.0        2.0  ...        4.0        4.0        4\n",
              "\n",
              "[5 rows x 8 columns]"
            ]
          },
          "metadata": {
            "tags": []
          },
          "execution_count": 496
        }
      ]
    },
    {
      "cell_type": "code",
      "metadata": {
        "id": "sSLpUoScJlmW",
        "colab_type": "code",
        "colab": {}
      },
      "source": [
        "train_val_c = train['confirmed'].tolist()\n",
        "test_c = test['confirmed'].tolist()\n",
        "\n",
        "train_val_d = train['deaths'].tolist()\n",
        "test_d = test['deaths'].tolist()"
      ],
      "execution_count": 0,
      "outputs": []
    },
    {
      "cell_type": "code",
      "metadata": {
        "id": "dKcJmvcdEjzU",
        "colab_type": "code",
        "outputId": "96f0469b-14f9-4a8d-e3c0-a6d344c9e9db",
        "colab": {
          "base_uri": "https://localhost:8080/",
          "height": 255
        }
      },
      "source": [
        "test_c"
      ],
      "execution_count": 0,
      "outputs": [
        {
          "output_type": "execute_result",
          "data": {
            "text/plain": [
              "[11284,\n",
              " 12437,\n",
              " 12978,\n",
              " 15756,\n",
              " 16563,\n",
              " 17872,\n",
              " 19141,\n",
              " 20654,\n",
              " 22059,\n",
              " 23316,\n",
              " 24298,\n",
              " 25679,\n",
              " 27034,\n",
              " 28208]"
            ]
          },
          "metadata": {
            "tags": []
          },
          "execution_count": 498
        }
      ]
    },
    {
      "cell_type": "markdown",
      "metadata": {
        "id": "d50f9ZUZbQIz",
        "colab_type": "text"
      },
      "source": [
        "## Further split train for validation"
      ]
    },
    {
      "cell_type": "code",
      "metadata": {
        "id": "3B7o5aFNJPEj",
        "colab_type": "code",
        "colab": {}
      },
      "source": [
        "train_val_c_agg = series_to_supervised(train_val_c, 7)\n",
        "test_c_agg = series_to_supervised(test_c, 7)"
      ],
      "execution_count": 0,
      "outputs": []
    },
    {
      "cell_type": "code",
      "metadata": {
        "id": "QhFif6ykJ6Gm",
        "colab_type": "code",
        "outputId": "09b2d4ac-66aa-4090-daf6-375f4b663c90",
        "colab": {
          "base_uri": "https://localhost:8080/",
          "height": 204
        }
      },
      "source": [
        "train_val_c_agg.head()"
      ],
      "execution_count": 0,
      "outputs": [
        {
          "output_type": "execute_result",
          "data": {
            "text/html": [
              "<div>\n",
              "<style scoped>\n",
              "    .dataframe tbody tr th:only-of-type {\n",
              "        vertical-align: middle;\n",
              "    }\n",
              "\n",
              "    .dataframe tbody tr th {\n",
              "        vertical-align: top;\n",
              "    }\n",
              "\n",
              "    .dataframe thead th {\n",
              "        text-align: right;\n",
              "    }\n",
              "</style>\n",
              "<table border=\"1\" class=\"dataframe\">\n",
              "  <thead>\n",
              "    <tr style=\"text-align: right;\">\n",
              "      <th></th>\n",
              "      <th>var1(t-7)</th>\n",
              "      <th>var1(t-6)</th>\n",
              "      <th>var1(t-5)</th>\n",
              "      <th>var1(t-4)</th>\n",
              "      <th>var1(t-3)</th>\n",
              "      <th>var1(t-2)</th>\n",
              "      <th>var1(t-1)</th>\n",
              "      <th>var1(t)</th>\n",
              "    </tr>\n",
              "  </thead>\n",
              "  <tbody>\n",
              "    <tr>\n",
              "      <th>7</th>\n",
              "      <td>0.0</td>\n",
              "      <td>0.0</td>\n",
              "      <td>0.0</td>\n",
              "      <td>0.0</td>\n",
              "      <td>1.0</td>\n",
              "      <td>1.0</td>\n",
              "      <td>2.0</td>\n",
              "      <td>2</td>\n",
              "    </tr>\n",
              "    <tr>\n",
              "      <th>8</th>\n",
              "      <td>0.0</td>\n",
              "      <td>0.0</td>\n",
              "      <td>0.0</td>\n",
              "      <td>1.0</td>\n",
              "      <td>1.0</td>\n",
              "      <td>2.0</td>\n",
              "      <td>2.0</td>\n",
              "      <td>2</td>\n",
              "    </tr>\n",
              "    <tr>\n",
              "      <th>9</th>\n",
              "      <td>0.0</td>\n",
              "      <td>0.0</td>\n",
              "      <td>1.0</td>\n",
              "      <td>1.0</td>\n",
              "      <td>2.0</td>\n",
              "      <td>2.0</td>\n",
              "      <td>2.0</td>\n",
              "      <td>4</td>\n",
              "    </tr>\n",
              "    <tr>\n",
              "      <th>10</th>\n",
              "      <td>0.0</td>\n",
              "      <td>1.0</td>\n",
              "      <td>1.0</td>\n",
              "      <td>2.0</td>\n",
              "      <td>2.0</td>\n",
              "      <td>2.0</td>\n",
              "      <td>4.0</td>\n",
              "      <td>4</td>\n",
              "    </tr>\n",
              "    <tr>\n",
              "      <th>11</th>\n",
              "      <td>1.0</td>\n",
              "      <td>1.0</td>\n",
              "      <td>2.0</td>\n",
              "      <td>2.0</td>\n",
              "      <td>2.0</td>\n",
              "      <td>4.0</td>\n",
              "      <td>4.0</td>\n",
              "      <td>4</td>\n",
              "    </tr>\n",
              "  </tbody>\n",
              "</table>\n",
              "</div>"
            ],
            "text/plain": [
              "    var1(t-7)  var1(t-6)  var1(t-5)  ...  var1(t-2)  var1(t-1)  var1(t)\n",
              "7         0.0        0.0        0.0  ...        1.0        2.0        2\n",
              "8         0.0        0.0        0.0  ...        2.0        2.0        2\n",
              "9         0.0        0.0        1.0  ...        2.0        2.0        4\n",
              "10        0.0        1.0        1.0  ...        2.0        4.0        4\n",
              "11        1.0        1.0        2.0  ...        4.0        4.0        4\n",
              "\n",
              "[5 rows x 8 columns]"
            ]
          },
          "metadata": {
            "tags": []
          },
          "execution_count": 500
        }
      ]
    },
    {
      "cell_type": "code",
      "metadata": {
        "id": "5KN3dbk5C0Gq",
        "colab_type": "code",
        "outputId": "70dfb01b-2e97-4c11-b7ca-3be16bd122c1",
        "colab": {
          "base_uri": "https://localhost:8080/",
          "height": 266
        }
      },
      "source": [
        "test_c_agg"
      ],
      "execution_count": 0,
      "outputs": [
        {
          "output_type": "execute_result",
          "data": {
            "text/html": [
              "<div>\n",
              "<style scoped>\n",
              "    .dataframe tbody tr th:only-of-type {\n",
              "        vertical-align: middle;\n",
              "    }\n",
              "\n",
              "    .dataframe tbody tr th {\n",
              "        vertical-align: top;\n",
              "    }\n",
              "\n",
              "    .dataframe thead th {\n",
              "        text-align: right;\n",
              "    }\n",
              "</style>\n",
              "<table border=\"1\" class=\"dataframe\">\n",
              "  <thead>\n",
              "    <tr style=\"text-align: right;\">\n",
              "      <th></th>\n",
              "      <th>var1(t-7)</th>\n",
              "      <th>var1(t-6)</th>\n",
              "      <th>var1(t-5)</th>\n",
              "      <th>var1(t-4)</th>\n",
              "      <th>var1(t-3)</th>\n",
              "      <th>var1(t-2)</th>\n",
              "      <th>var1(t-1)</th>\n",
              "      <th>var1(t)</th>\n",
              "    </tr>\n",
              "  </thead>\n",
              "  <tbody>\n",
              "    <tr>\n",
              "      <th>7</th>\n",
              "      <td>11284.0</td>\n",
              "      <td>12437.0</td>\n",
              "      <td>12978.0</td>\n",
              "      <td>15756.0</td>\n",
              "      <td>16563.0</td>\n",
              "      <td>17872.0</td>\n",
              "      <td>19141.0</td>\n",
              "      <td>20654</td>\n",
              "    </tr>\n",
              "    <tr>\n",
              "      <th>8</th>\n",
              "      <td>12437.0</td>\n",
              "      <td>12978.0</td>\n",
              "      <td>15756.0</td>\n",
              "      <td>16563.0</td>\n",
              "      <td>17872.0</td>\n",
              "      <td>19141.0</td>\n",
              "      <td>20654.0</td>\n",
              "      <td>22059</td>\n",
              "    </tr>\n",
              "    <tr>\n",
              "      <th>9</th>\n",
              "      <td>12978.0</td>\n",
              "      <td>15756.0</td>\n",
              "      <td>16563.0</td>\n",
              "      <td>17872.0</td>\n",
              "      <td>19141.0</td>\n",
              "      <td>20654.0</td>\n",
              "      <td>22059.0</td>\n",
              "      <td>23316</td>\n",
              "    </tr>\n",
              "    <tr>\n",
              "      <th>10</th>\n",
              "      <td>15756.0</td>\n",
              "      <td>16563.0</td>\n",
              "      <td>17872.0</td>\n",
              "      <td>19141.0</td>\n",
              "      <td>20654.0</td>\n",
              "      <td>22059.0</td>\n",
              "      <td>23316.0</td>\n",
              "      <td>24298</td>\n",
              "    </tr>\n",
              "    <tr>\n",
              "      <th>11</th>\n",
              "      <td>16563.0</td>\n",
              "      <td>17872.0</td>\n",
              "      <td>19141.0</td>\n",
              "      <td>20654.0</td>\n",
              "      <td>22059.0</td>\n",
              "      <td>23316.0</td>\n",
              "      <td>24298.0</td>\n",
              "      <td>25679</td>\n",
              "    </tr>\n",
              "    <tr>\n",
              "      <th>12</th>\n",
              "      <td>17872.0</td>\n",
              "      <td>19141.0</td>\n",
              "      <td>20654.0</td>\n",
              "      <td>22059.0</td>\n",
              "      <td>23316.0</td>\n",
              "      <td>24298.0</td>\n",
              "      <td>25679.0</td>\n",
              "      <td>27034</td>\n",
              "    </tr>\n",
              "    <tr>\n",
              "      <th>13</th>\n",
              "      <td>19141.0</td>\n",
              "      <td>20654.0</td>\n",
              "      <td>22059.0</td>\n",
              "      <td>23316.0</td>\n",
              "      <td>24298.0</td>\n",
              "      <td>25679.0</td>\n",
              "      <td>27034.0</td>\n",
              "      <td>28208</td>\n",
              "    </tr>\n",
              "  </tbody>\n",
              "</table>\n",
              "</div>"
            ],
            "text/plain": [
              "    var1(t-7)  var1(t-6)  var1(t-5)  ...  var1(t-2)  var1(t-1)  var1(t)\n",
              "7     11284.0    12437.0    12978.0  ...    17872.0    19141.0    20654\n",
              "8     12437.0    12978.0    15756.0  ...    19141.0    20654.0    22059\n",
              "9     12978.0    15756.0    16563.0  ...    20654.0    22059.0    23316\n",
              "10    15756.0    16563.0    17872.0  ...    22059.0    23316.0    24298\n",
              "11    16563.0    17872.0    19141.0  ...    23316.0    24298.0    25679\n",
              "12    17872.0    19141.0    20654.0  ...    24298.0    25679.0    27034\n",
              "13    19141.0    20654.0    22059.0  ...    25679.0    27034.0    28208\n",
              "\n",
              "[7 rows x 8 columns]"
            ]
          },
          "metadata": {
            "tags": []
          },
          "execution_count": 501
        }
      ]
    },
    {
      "cell_type": "code",
      "metadata": {
        "id": "PF7u5bj8Wtno",
        "colab_type": "code",
        "colab": {}
      },
      "source": [
        "X_tv_c = train_val_c_agg.drop(columns=['var1(t)']).to_numpy()\n",
        "y_tv_c = train_val_c_agg['var1(t)'].to_numpy()"
      ],
      "execution_count": 0,
      "outputs": []
    },
    {
      "cell_type": "code",
      "metadata": {
        "id": "AYvqZY_rC42s",
        "colab_type": "code",
        "colab": {}
      },
      "source": [
        "X_test_c = test_c_agg.drop(columns=['var1(t)']).to_numpy()\n",
        "y_test_c = test_c_agg['var1(t)'].to_numpy()"
      ],
      "execution_count": 0,
      "outputs": []
    },
    {
      "cell_type": "markdown",
      "metadata": {
        "id": "LT4Tm3praxuT",
        "colab_type": "text"
      },
      "source": [
        "## Reshape for LSTM\n",
        "\n",
        "Must be in the form:\n",
        "\n",
        "```[samples, timesteps, features]```"
      ]
    },
    {
      "cell_type": "code",
      "metadata": {
        "id": "wM5PUaGAW5is",
        "colab_type": "code",
        "colab": {}
      },
      "source": [
        "X_tv_c = X_tv_c.reshape((X_tv_c.shape[0], 1, X_tv_c.shape[1]))\n",
        "X_test_c = X_test_c.reshape((X_test_c.shape[0], 1, X_test_c.shape[1]))"
      ],
      "execution_count": 0,
      "outputs": []
    },
    {
      "cell_type": "code",
      "metadata": {
        "id": "XATo-rVva9zj",
        "colab_type": "code",
        "colab": {}
      },
      "source": [
        "X_train_c, X_val_c, y_train_c, y_val_c = train_test_split(X_tv_c, y_tv_c, test_size=0.2, random_state=42)"
      ],
      "execution_count": 0,
      "outputs": []
    },
    {
      "cell_type": "code",
      "metadata": {
        "id": "4Dv2cc5FGuhe",
        "colab_type": "code",
        "outputId": "13ce6f01-370f-4235-9e30-84905ec3c80d",
        "colab": {
          "base_uri": "https://localhost:8080/",
          "height": 34
        }
      },
      "source": [
        "y_train_c.shape"
      ],
      "execution_count": 0,
      "outputs": [
        {
          "output_type": "execute_result",
          "data": {
            "text/plain": [
              "(51,)"
            ]
          },
          "metadata": {
            "tags": []
          },
          "execution_count": 506
        }
      ]
    },
    {
      "cell_type": "code",
      "metadata": {
        "id": "Qd3DBIQ0HMOj",
        "colab_type": "code",
        "outputId": "7ffb5097-577b-4e94-c918-038cf59b2b20",
        "colab": {
          "base_uri": "https://localhost:8080/",
          "height": 34
        }
      },
      "source": [
        "X_train_c.shape"
      ],
      "execution_count": 0,
      "outputs": [
        {
          "output_type": "execute_result",
          "data": {
            "text/plain": [
              "(51, 1, 7)"
            ]
          },
          "metadata": {
            "tags": []
          },
          "execution_count": 507
        }
      ]
    },
    {
      "cell_type": "code",
      "metadata": {
        "id": "2bNK5xapE-Go",
        "colab_type": "code",
        "outputId": "b5b180ee-e1cd-4f03-e7d1-144362d37de7",
        "colab": {
          "base_uri": "https://localhost:8080/",
          "height": 34
        }
      },
      "source": [
        "y_val_c.shape"
      ],
      "execution_count": 0,
      "outputs": [
        {
          "output_type": "execute_result",
          "data": {
            "text/plain": [
              "(13,)"
            ]
          },
          "metadata": {
            "tags": []
          },
          "execution_count": 508
        }
      ]
    },
    {
      "cell_type": "code",
      "metadata": {
        "id": "AJDjNpo3DL24",
        "colab_type": "code",
        "outputId": "3d110332-f4f5-4607-caf1-87bffe0c4c85",
        "colab": {
          "base_uri": "https://localhost:8080/",
          "height": 34
        }
      },
      "source": [
        "X_test_c.shape"
      ],
      "execution_count": 0,
      "outputs": [
        {
          "output_type": "execute_result",
          "data": {
            "text/plain": [
              "(7, 1, 7)"
            ]
          },
          "metadata": {
            "tags": []
          },
          "execution_count": 509
        }
      ]
    },
    {
      "cell_type": "markdown",
      "metadata": {
        "id": "qU6xJhOkFAnj",
        "colab_type": "text"
      },
      "source": [
        "# Model Preparation"
      ]
    },
    {
      "cell_type": "code",
      "metadata": {
        "id": "VGtmnZgOFB1n",
        "colab_type": "code",
        "outputId": "187e51df-516e-47be-bf1c-1500c7d0fba9",
        "colab": {
          "base_uri": "https://localhost:8080/",
          "height": 68
        }
      },
      "source": [
        "# Initializing model components\n",
        "epochs = 25\n",
        "batch_size = 16\n",
        "n_hidden = 32\n",
        "timesteps = X_train_c.shape[1]\n",
        "input_dim = X_train_c.shape[2]\n",
        "n_features=1\n",
        "n_steps=7\n",
        "print(timesteps)\n",
        "print(input_dim)\n",
        "print(len(X_train_c))"
      ],
      "execution_count": 0,
      "outputs": [
        {
          "output_type": "stream",
          "text": [
            "1\n",
            "7\n",
            "51\n"
          ],
          "name": "stdout"
        }
      ]
    },
    {
      "cell_type": "code",
      "metadata": {
        "id": "OLAIi3lDFL0V",
        "colab_type": "code",
        "outputId": "971b40b6-82f4-4262-e700-36080a216adb",
        "colab": {
          "base_uri": "https://localhost:8080/",
          "height": 221
        }
      },
      "source": [
        "\n",
        "# define model\n",
        "\n",
        "model = Sequential()\n",
        "model.add(LSTM(50, activation='relu', input_shape=(n_features, n_steps)))\n",
        "model.add(Dense(1))\n",
        "model.summary()\n",
        "model.compile(optimizer='adam', loss=tf.keras.losses.MeanSquaredLogarithmicError())"
      ],
      "execution_count": 0,
      "outputs": [
        {
          "output_type": "stream",
          "text": [
            "Model: \"sequential_9\"\n",
            "_________________________________________________________________\n",
            "Layer (type)                 Output Shape              Param #   \n",
            "=================================================================\n",
            "lstm_9 (LSTM)                (None, 50)                11600     \n",
            "_________________________________________________________________\n",
            "dense_9 (Dense)              (None, 1)                 51        \n",
            "=================================================================\n",
            "Total params: 11,651\n",
            "Trainable params: 11,651\n",
            "Non-trainable params: 0\n",
            "_________________________________________________________________\n"
          ],
          "name": "stdout"
        }
      ]
    },
    {
      "cell_type": "markdown",
      "metadata": {
        "id": "xDhWL4e-FjzJ",
        "colab_type": "text"
      },
      "source": [
        "# Model fit"
      ]
    },
    {
      "cell_type": "code",
      "metadata": {
        "id": "f-jY6iOvFSOb",
        "colab_type": "code",
        "outputId": "a70e7a4a-f3a6-497b-acac-de8cb5c5168b",
        "colab": {
          "base_uri": "https://localhost:8080/",
          "height": 901
        }
      },
      "source": [
        "# fit model\n",
        "model.fit(X_train_c, y_train_c, epochs=epochs, validation_data=(X_val_c, y_val_c), verbose=2)"
      ],
      "execution_count": 0,
      "outputs": [
        {
          "output_type": "stream",
          "text": [
            "Train on 51 samples, validate on 13 samples\n",
            "Epoch 1/25\n",
            " - 0s - loss: 10.6073 - val_loss: 10.4422\n",
            "Epoch 2/25\n",
            " - 0s - loss: 8.9977 - val_loss: 8.8796\n",
            "Epoch 3/25\n",
            " - 0s - loss: 7.6542 - val_loss: 7.6799\n",
            "Epoch 4/25\n",
            " - 0s - loss: 6.7350 - val_loss: 6.8047\n",
            "Epoch 5/25\n",
            " - 0s - loss: 6.0218 - val_loss: 6.1066\n",
            "Epoch 6/25\n",
            " - 0s - loss: 5.4120 - val_loss: 5.5029\n",
            "Epoch 7/25\n",
            " - 0s - loss: 4.8825 - val_loss: 4.9505\n",
            "Epoch 8/25\n",
            " - 0s - loss: 4.4205 - val_loss: 4.4313\n",
            "Epoch 9/25\n",
            " - 0s - loss: 3.9306 - val_loss: 3.9801\n",
            "Epoch 10/25\n",
            " - 0s - loss: 3.3481 - val_loss: 3.3131\n",
            "Epoch 11/25\n",
            " - 0s - loss: 2.8218 - val_loss: 2.4165\n",
            "Epoch 12/25\n",
            " - 0s - loss: 2.2759 - val_loss: 1.9918\n",
            "Epoch 13/25\n",
            " - 0s - loss: 1.9364 - val_loss: 1.7538\n",
            "Epoch 14/25\n",
            " - 0s - loss: 1.6776 - val_loss: 1.4803\n",
            "Epoch 15/25\n",
            " - 0s - loss: 1.4466 - val_loss: 1.2771\n",
            "Epoch 16/25\n",
            " - 0s - loss: 1.2584 - val_loss: 1.1364\n",
            "Epoch 17/25\n",
            " - 0s - loss: 1.0862 - val_loss: 0.9815\n",
            "Epoch 18/25\n",
            " - 0s - loss: 0.9053 - val_loss: 0.8683\n",
            "Epoch 19/25\n",
            " - 0s - loss: 0.7458 - val_loss: 0.6985\n",
            "Epoch 20/25\n",
            " - 0s - loss: 0.6158 - val_loss: 0.4830\n",
            "Epoch 21/25\n",
            " - 0s - loss: 0.4906 - val_loss: 0.3575\n",
            "Epoch 22/25\n",
            " - 0s - loss: 0.3624 - val_loss: 0.3019\n",
            "Epoch 23/25\n",
            " - 0s - loss: 0.3001 - val_loss: 0.2490\n",
            "Epoch 24/25\n",
            " - 0s - loss: 0.2512 - val_loss: 0.2165\n",
            "Epoch 25/25\n",
            " - 0s - loss: 0.2035 - val_loss: 0.1747\n"
          ],
          "name": "stdout"
        },
        {
          "output_type": "execute_result",
          "data": {
            "text/plain": [
              "<keras.callbacks.callbacks.History at 0x7f60028dc7f0>"
            ]
          },
          "metadata": {
            "tags": []
          },
          "execution_count": 512
        }
      ]
    },
    {
      "cell_type": "markdown",
      "metadata": {
        "id": "8k1Z-fAPFhPj",
        "colab_type": "text"
      },
      "source": [
        "# Forecasting"
      ]
    },
    {
      "cell_type": "code",
      "metadata": {
        "id": "HSdINjodGjIL",
        "colab_type": "code",
        "colab": {}
      },
      "source": [
        "def forecast(model,data,start_date,n_days, n_steps=7):\n",
        "  \"\"\"\n",
        "\tProduce a forecast prediction.\n",
        "\tArguments:\n",
        "\t\tmodel: Trained model for the forecasting\n",
        "\t\tstart_date: starting date for the forecast\n",
        "\t\tn_days: Number of days to forecast after start_date.\n",
        "\t\tn_steps: Number of days to use for forecast\n",
        "\tReturns:\n",
        "\t\tPandas DataFrame of series framed with forecasting results.\n",
        "\n",
        "  SOURCE: ML Mastery time series tutorial\n",
        "\t\"\"\"\n",
        "  res=dict()\n",
        "  \n",
        "  for i in range(len(data)):\n",
        "      res[i]=[]\n",
        "  y_pred=model.predict(data)\n",
        "  dates=[]\n",
        "  data_window = data.copy()  # Make a copy\n",
        "  date1 = pd.datetime.datetime.strptime(start_date, \"%Y-%m-%d\")\n",
        "  for j in range(1,n_days+1):\n",
        "      for i in range(len(data_window)):\n",
        "          cur_window=list(data_window[i][0][1:n_steps+1])\n",
        "          #print(j,i,cur_window[-1])\n",
        "          res[i].append(cur_window[-1])\n",
        "          cur_window.append(y_pred[i])\n",
        "          data_window[i][0]=cur_window\n",
        "      y_pred=model.predict(data_window)\n",
        "      dates.append(date1.strftime(\"%Y-%m-%d\"))\n",
        "      date1+=relativedelta(days=1)\n",
        "\n",
        "  res=pd.DataFrame(res).T \n",
        "  #print(res)\n",
        "  res.columns=dates\n",
        "  #res['Country/State']=regs\n",
        "  return res"
      ],
      "execution_count": 0,
      "outputs": []
    },
    {
      "cell_type": "code",
      "metadata": {
        "id": "adZkpGOR7eFP",
        "colab_type": "code",
        "colab": {}
      },
      "source": [
        "r = forecast(model, X_test_c, forecast_date, 5, 7)"
      ],
      "execution_count": 0,
      "outputs": []
    },
    {
      "cell_type": "code",
      "metadata": {
        "id": "J3Ef8UaY_frV",
        "colab_type": "code",
        "outputId": "abe5ba1c-97a1-46f1-a1b8-e3bd4d23a15b",
        "colab": {
          "base_uri": "https://localhost:8080/",
          "height": 266
        }
      },
      "source": [
        "r"
      ],
      "execution_count": 0,
      "outputs": [
        {
          "output_type": "execute_result",
          "data": {
            "text/html": [
              "<div>\n",
              "<style scoped>\n",
              "    .dataframe tbody tr th:only-of-type {\n",
              "        vertical-align: middle;\n",
              "    }\n",
              "\n",
              "    .dataframe tbody tr th {\n",
              "        vertical-align: top;\n",
              "    }\n",
              "\n",
              "    .dataframe thead th {\n",
              "        text-align: right;\n",
              "    }\n",
              "</style>\n",
              "<table border=\"1\" class=\"dataframe\">\n",
              "  <thead>\n",
              "    <tr style=\"text-align: right;\">\n",
              "      <th></th>\n",
              "      <th>2020-04-01</th>\n",
              "      <th>2020-04-02</th>\n",
              "      <th>2020-04-03</th>\n",
              "      <th>2020-04-04</th>\n",
              "      <th>2020-04-05</th>\n",
              "    </tr>\n",
              "  </thead>\n",
              "  <tbody>\n",
              "    <tr>\n",
              "      <th>0</th>\n",
              "      <td>19141.0</td>\n",
              "      <td>21214.328125</td>\n",
              "      <td>21881.615234</td>\n",
              "      <td>24762.929688</td>\n",
              "      <td>26912.847656</td>\n",
              "    </tr>\n",
              "    <tr>\n",
              "      <th>1</th>\n",
              "      <td>20654.0</td>\n",
              "      <td>21786.556641</td>\n",
              "      <td>24583.597656</td>\n",
              "      <td>26728.384766</td>\n",
              "      <td>29012.414062</td>\n",
              "    </tr>\n",
              "    <tr>\n",
              "      <th>2</th>\n",
              "      <td>22059.0</td>\n",
              "      <td>24637.343750</td>\n",
              "      <td>26817.060547</td>\n",
              "      <td>29104.552734</td>\n",
              "      <td>31603.583984</td>\n",
              "    </tr>\n",
              "    <tr>\n",
              "      <th>3</th>\n",
              "      <td>23316.0</td>\n",
              "      <td>30180.730469</td>\n",
              "      <td>29389.445312</td>\n",
              "      <td>32336.396484</td>\n",
              "      <td>33369.433594</td>\n",
              "    </tr>\n",
              "    <tr>\n",
              "      <th>4</th>\n",
              "      <td>24298.0</td>\n",
              "      <td>32072.970703</td>\n",
              "      <td>31179.933594</td>\n",
              "      <td>34253.593750</td>\n",
              "      <td>35306.937500</td>\n",
              "    </tr>\n",
              "    <tr>\n",
              "      <th>5</th>\n",
              "      <td>25679.0</td>\n",
              "      <td>34035.187500</td>\n",
              "      <td>32982.082031</td>\n",
              "      <td>40867.273438</td>\n",
              "      <td>38130.074219</td>\n",
              "    </tr>\n",
              "    <tr>\n",
              "      <th>6</th>\n",
              "      <td>27034.0</td>\n",
              "      <td>35967.593750</td>\n",
              "      <td>34770.425781</td>\n",
              "      <td>43127.320312</td>\n",
              "      <td>40223.382812</td>\n",
              "    </tr>\n",
              "  </tbody>\n",
              "</table>\n",
              "</div>"
            ],
            "text/plain": [
              "   2020-04-01    2020-04-02    2020-04-03    2020-04-04    2020-04-05\n",
              "0     19141.0  21214.328125  21881.615234  24762.929688  26912.847656\n",
              "1     20654.0  21786.556641  24583.597656  26728.384766  29012.414062\n",
              "2     22059.0  24637.343750  26817.060547  29104.552734  31603.583984\n",
              "3     23316.0  30180.730469  29389.445312  32336.396484  33369.433594\n",
              "4     24298.0  32072.970703  31179.933594  34253.593750  35306.937500\n",
              "5     25679.0  34035.187500  32982.082031  40867.273438  38130.074219\n",
              "6     27034.0  35967.593750  34770.425781  43127.320312  40223.382812"
            ]
          },
          "metadata": {
            "tags": []
          },
          "execution_count": 530
        }
      ]
    },
    {
      "cell_type": "code",
      "metadata": {
        "id": "L01nj80yJv88",
        "colab_type": "code",
        "colab": {}
      },
      "source": [
        ""
      ],
      "execution_count": 0,
      "outputs": []
    }
  ]
}