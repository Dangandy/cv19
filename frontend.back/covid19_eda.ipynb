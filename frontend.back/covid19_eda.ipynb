{
  "nbformat": 4,
  "nbformat_minor": 0,
  "metadata": {
    "colab": {
      "name": "covid19_eda.ipynb",
      "provenance": [],
      "authorship_tag": "ABX9TyMnu6fDVF7T9eZkMZjBnAAS"
    },
    "kernelspec": {
      "name": "python3",
      "display_name": "Python 3"
    }
  },
  "cells": [
    {
      "cell_type": "code",
      "metadata": {
        "id": "JKswm-YIpnBU",
        "colab_type": "code",
        "colab": {}
      },
      "source": [
        "import requests\n",
        "import pandas as pd\n",
        "import numpy as np\n",
        "import matplotlib.pyplot as plt\n",
        "from sklearn.linear_model import LinearRegression\n",
        "from sklearn.model_selection import train_test_split\n",
        "\n",
        "import tensorflow as tf\n",
        "from keras.models import Sequential\n",
        "from keras.layers import LSTM\n",
        "from keras.layers import Dense\n",
        "\n",
        "plt.rcParams['figure.facecolor'] = 'w'"
      ],
      "execution_count": 0,
      "outputs": []
    },
    {
      "cell_type": "markdown",
      "metadata": {
        "id": "mPjWbRd0qhwx",
        "colab_type": "text"
      },
      "source": [
        "# Load Data"
      ]
    },
    {
      "cell_type": "code",
      "metadata": {
        "id": "PyfOOZQEqZC4",
        "colab_type": "code",
        "colab": {}
      },
      "source": [
        "url = 'https://pomber.github.io/covid19/timeseries.json'"
      ],
      "execution_count": 0,
      "outputs": []
    },
    {
      "cell_type": "code",
      "metadata": {
        "id": "2U9zUeraqdBq",
        "colab_type": "code",
        "colab": {}
      },
      "source": [
        "response = requests.get(url)"
      ],
      "execution_count": 0,
      "outputs": []
    },
    {
      "cell_type": "code",
      "metadata": {
        "id": "qZVgKZ4PqeSx",
        "colab_type": "code",
        "colab": {}
      },
      "source": [
        "json = response.json()"
      ],
      "execution_count": 0,
      "outputs": []
    },
    {
      "cell_type": "markdown",
      "metadata": {
        "id": "2ZS4sRC3qkM1",
        "colab_type": "text"
      },
      "source": [
        "# EDA"
      ]
    },
    {
      "cell_type": "code",
      "metadata": {
        "id": "4HbN7y-zqfuQ",
        "colab_type": "code",
        "outputId": "506f405b-f006-4000-e74a-675d09ad56d4",
        "colab": {
          "base_uri": "https://localhost:8080/",
          "height": 712
        }
      },
      "source": [
        "pd.DataFrame(json).head()"
      ],
      "execution_count": 0,
      "outputs": [
        {
          "output_type": "execute_result",
          "data": {
            "text/html": [
              "<div>\n",
              "<style scoped>\n",
              "    .dataframe tbody tr th:only-of-type {\n",
              "        vertical-align: middle;\n",
              "    }\n",
              "\n",
              "    .dataframe tbody tr th {\n",
              "        vertical-align: top;\n",
              "    }\n",
              "\n",
              "    .dataframe thead th {\n",
              "        text-align: right;\n",
              "    }\n",
              "</style>\n",
              "<table border=\"1\" class=\"dataframe\">\n",
              "  <thead>\n",
              "    <tr style=\"text-align: right;\">\n",
              "      <th></th>\n",
              "      <th>Afghanistan</th>\n",
              "      <th>Albania</th>\n",
              "      <th>Algeria</th>\n",
              "      <th>Andorra</th>\n",
              "      <th>Angola</th>\n",
              "      <th>Antigua and Barbuda</th>\n",
              "      <th>Argentina</th>\n",
              "      <th>Armenia</th>\n",
              "      <th>Australia</th>\n",
              "      <th>Austria</th>\n",
              "      <th>Azerbaijan</th>\n",
              "      <th>Bahamas</th>\n",
              "      <th>Bahrain</th>\n",
              "      <th>Bangladesh</th>\n",
              "      <th>Barbados</th>\n",
              "      <th>Belarus</th>\n",
              "      <th>Belgium</th>\n",
              "      <th>Benin</th>\n",
              "      <th>Bhutan</th>\n",
              "      <th>Bolivia</th>\n",
              "      <th>Bosnia and Herzegovina</th>\n",
              "      <th>Brazil</th>\n",
              "      <th>Brunei</th>\n",
              "      <th>Bulgaria</th>\n",
              "      <th>Burkina Faso</th>\n",
              "      <th>Cabo Verde</th>\n",
              "      <th>Cambodia</th>\n",
              "      <th>Cameroon</th>\n",
              "      <th>Canada</th>\n",
              "      <th>Central African Republic</th>\n",
              "      <th>Chad</th>\n",
              "      <th>Chile</th>\n",
              "      <th>China</th>\n",
              "      <th>Colombia</th>\n",
              "      <th>Congo (Brazzaville)</th>\n",
              "      <th>Congo (Kinshasa)</th>\n",
              "      <th>Costa Rica</th>\n",
              "      <th>Cote d'Ivoire</th>\n",
              "      <th>Croatia</th>\n",
              "      <th>Diamond Princess</th>\n",
              "      <th>...</th>\n",
              "      <th>Tanzania</th>\n",
              "      <th>Thailand</th>\n",
              "      <th>Togo</th>\n",
              "      <th>Trinidad and Tobago</th>\n",
              "      <th>Tunisia</th>\n",
              "      <th>Turkey</th>\n",
              "      <th>Uganda</th>\n",
              "      <th>Ukraine</th>\n",
              "      <th>United Arab Emirates</th>\n",
              "      <th>United Kingdom</th>\n",
              "      <th>Uruguay</th>\n",
              "      <th>US</th>\n",
              "      <th>Uzbekistan</th>\n",
              "      <th>Venezuela</th>\n",
              "      <th>Vietnam</th>\n",
              "      <th>Zambia</th>\n",
              "      <th>Zimbabwe</th>\n",
              "      <th>Dominica</th>\n",
              "      <th>Grenada</th>\n",
              "      <th>Mozambique</th>\n",
              "      <th>Syria</th>\n",
              "      <th>Timor-Leste</th>\n",
              "      <th>Belize</th>\n",
              "      <th>Laos</th>\n",
              "      <th>Libya</th>\n",
              "      <th>West Bank and Gaza</th>\n",
              "      <th>Guinea-Bissau</th>\n",
              "      <th>Mali</th>\n",
              "      <th>Saint Kitts and Nevis</th>\n",
              "      <th>Kosovo</th>\n",
              "      <th>Burma</th>\n",
              "      <th>MS Zaandam</th>\n",
              "      <th>Botswana</th>\n",
              "      <th>Burundi</th>\n",
              "      <th>Sierra Leone</th>\n",
              "      <th>Malawi</th>\n",
              "      <th>South Sudan</th>\n",
              "      <th>Western Sahara</th>\n",
              "      <th>Sao Tome and Principe</th>\n",
              "      <th>Yemen</th>\n",
              "    </tr>\n",
              "  </thead>\n",
              "  <tbody>\n",
              "    <tr>\n",
              "      <th>0</th>\n",
              "      <td>{'date': '2020-1-22', 'confirmed': 0, 'deaths'...</td>\n",
              "      <td>{'date': '2020-1-22', 'confirmed': 0, 'deaths'...</td>\n",
              "      <td>{'date': '2020-1-22', 'confirmed': 0, 'deaths'...</td>\n",
              "      <td>{'date': '2020-1-22', 'confirmed': 0, 'deaths'...</td>\n",
              "      <td>{'date': '2020-1-22', 'confirmed': 0, 'deaths'...</td>\n",
              "      <td>{'date': '2020-1-22', 'confirmed': 0, 'deaths'...</td>\n",
              "      <td>{'date': '2020-1-22', 'confirmed': 0, 'deaths'...</td>\n",
              "      <td>{'date': '2020-1-22', 'confirmed': 0, 'deaths'...</td>\n",
              "      <td>{'date': '2020-1-22', 'confirmed': 0, 'deaths'...</td>\n",
              "      <td>{'date': '2020-1-22', 'confirmed': 0, 'deaths'...</td>\n",
              "      <td>{'date': '2020-1-22', 'confirmed': 0, 'deaths'...</td>\n",
              "      <td>{'date': '2020-1-22', 'confirmed': 0, 'deaths'...</td>\n",
              "      <td>{'date': '2020-1-22', 'confirmed': 0, 'deaths'...</td>\n",
              "      <td>{'date': '2020-1-22', 'confirmed': 0, 'deaths'...</td>\n",
              "      <td>{'date': '2020-1-22', 'confirmed': 0, 'deaths'...</td>\n",
              "      <td>{'date': '2020-1-22', 'confirmed': 0, 'deaths'...</td>\n",
              "      <td>{'date': '2020-1-22', 'confirmed': 0, 'deaths'...</td>\n",
              "      <td>{'date': '2020-1-22', 'confirmed': 0, 'deaths'...</td>\n",
              "      <td>{'date': '2020-1-22', 'confirmed': 0, 'deaths'...</td>\n",
              "      <td>{'date': '2020-1-22', 'confirmed': 0, 'deaths'...</td>\n",
              "      <td>{'date': '2020-1-22', 'confirmed': 0, 'deaths'...</td>\n",
              "      <td>{'date': '2020-1-22', 'confirmed': 0, 'deaths'...</td>\n",
              "      <td>{'date': '2020-1-22', 'confirmed': 0, 'deaths'...</td>\n",
              "      <td>{'date': '2020-1-22', 'confirmed': 0, 'deaths'...</td>\n",
              "      <td>{'date': '2020-1-22', 'confirmed': 0, 'deaths'...</td>\n",
              "      <td>{'date': '2020-1-22', 'confirmed': 0, 'deaths'...</td>\n",
              "      <td>{'date': '2020-1-22', 'confirmed': 0, 'deaths'...</td>\n",
              "      <td>{'date': '2020-1-22', 'confirmed': 0, 'deaths'...</td>\n",
              "      <td>{'date': '2020-1-22', 'confirmed': 0, 'deaths'...</td>\n",
              "      <td>{'date': '2020-1-22', 'confirmed': 0, 'deaths'...</td>\n",
              "      <td>{'date': '2020-1-22', 'confirmed': 0, 'deaths'...</td>\n",
              "      <td>{'date': '2020-1-22', 'confirmed': 0, 'deaths'...</td>\n",
              "      <td>{'date': '2020-1-22', 'confirmed': 548, 'death...</td>\n",
              "      <td>{'date': '2020-1-22', 'confirmed': 0, 'deaths'...</td>\n",
              "      <td>{'date': '2020-1-22', 'confirmed': 0, 'deaths'...</td>\n",
              "      <td>{'date': '2020-1-22', 'confirmed': 0, 'deaths'...</td>\n",
              "      <td>{'date': '2020-1-22', 'confirmed': 0, 'deaths'...</td>\n",
              "      <td>{'date': '2020-1-22', 'confirmed': 0, 'deaths'...</td>\n",
              "      <td>{'date': '2020-1-22', 'confirmed': 0, 'deaths'...</td>\n",
              "      <td>{'date': '2020-1-22', 'confirmed': 0, 'deaths'...</td>\n",
              "      <td>...</td>\n",
              "      <td>{'date': '2020-1-22', 'confirmed': 0, 'deaths'...</td>\n",
              "      <td>{'date': '2020-1-22', 'confirmed': 2, 'deaths'...</td>\n",
              "      <td>{'date': '2020-1-22', 'confirmed': 0, 'deaths'...</td>\n",
              "      <td>{'date': '2020-1-22', 'confirmed': 0, 'deaths'...</td>\n",
              "      <td>{'date': '2020-1-22', 'confirmed': 0, 'deaths'...</td>\n",
              "      <td>{'date': '2020-1-22', 'confirmed': 0, 'deaths'...</td>\n",
              "      <td>{'date': '2020-1-22', 'confirmed': 0, 'deaths'...</td>\n",
              "      <td>{'date': '2020-1-22', 'confirmed': 0, 'deaths'...</td>\n",
              "      <td>{'date': '2020-1-22', 'confirmed': 0, 'deaths'...</td>\n",
              "      <td>{'date': '2020-1-22', 'confirmed': 0, 'deaths'...</td>\n",
              "      <td>{'date': '2020-1-22', 'confirmed': 0, 'deaths'...</td>\n",
              "      <td>{'date': '2020-1-22', 'confirmed': 1, 'deaths'...</td>\n",
              "      <td>{'date': '2020-1-22', 'confirmed': 0, 'deaths'...</td>\n",
              "      <td>{'date': '2020-1-22', 'confirmed': 0, 'deaths'...</td>\n",
              "      <td>{'date': '2020-1-22', 'confirmed': 0, 'deaths'...</td>\n",
              "      <td>{'date': '2020-1-22', 'confirmed': 0, 'deaths'...</td>\n",
              "      <td>{'date': '2020-1-22', 'confirmed': 0, 'deaths'...</td>\n",
              "      <td>{'date': '2020-1-22', 'confirmed': 0, 'deaths'...</td>\n",
              "      <td>{'date': '2020-1-22', 'confirmed': 0, 'deaths'...</td>\n",
              "      <td>{'date': '2020-1-22', 'confirmed': 0, 'deaths'...</td>\n",
              "      <td>{'date': '2020-1-22', 'confirmed': 0, 'deaths'...</td>\n",
              "      <td>{'date': '2020-1-22', 'confirmed': 0, 'deaths'...</td>\n",
              "      <td>{'date': '2020-1-22', 'confirmed': 0, 'deaths'...</td>\n",
              "      <td>{'date': '2020-1-22', 'confirmed': 0, 'deaths'...</td>\n",
              "      <td>{'date': '2020-1-22', 'confirmed': 0, 'deaths'...</td>\n",
              "      <td>{'date': '2020-1-22', 'confirmed': 0, 'deaths'...</td>\n",
              "      <td>{'date': '2020-1-22', 'confirmed': 0, 'deaths'...</td>\n",
              "      <td>{'date': '2020-1-22', 'confirmed': 0, 'deaths'...</td>\n",
              "      <td>{'date': '2020-1-22', 'confirmed': 0, 'deaths'...</td>\n",
              "      <td>{'date': '2020-1-22', 'confirmed': 0, 'deaths'...</td>\n",
              "      <td>{'date': '2020-1-22', 'confirmed': 0, 'deaths'...</td>\n",
              "      <td>{'date': '2020-1-22', 'confirmed': 0, 'deaths'...</td>\n",
              "      <td>{'date': '2020-1-22', 'confirmed': 0, 'deaths'...</td>\n",
              "      <td>{'date': '2020-1-22', 'confirmed': 0, 'deaths'...</td>\n",
              "      <td>{'date': '2020-1-22', 'confirmed': 0, 'deaths'...</td>\n",
              "      <td>{'date': '2020-1-22', 'confirmed': 0, 'deaths'...</td>\n",
              "      <td>{'date': '2020-1-22', 'confirmed': 0, 'deaths'...</td>\n",
              "      <td>{'date': '2020-1-22', 'confirmed': 0, 'deaths'...</td>\n",
              "      <td>{'date': '2020-1-22', 'confirmed': 0, 'deaths'...</td>\n",
              "      <td>{'date': '2020-1-22', 'confirmed': 0, 'deaths'...</td>\n",
              "    </tr>\n",
              "    <tr>\n",
              "      <th>1</th>\n",
              "      <td>{'date': '2020-1-23', 'confirmed': 0, 'deaths'...</td>\n",
              "      <td>{'date': '2020-1-23', 'confirmed': 0, 'deaths'...</td>\n",
              "      <td>{'date': '2020-1-23', 'confirmed': 0, 'deaths'...</td>\n",
              "      <td>{'date': '2020-1-23', 'confirmed': 0, 'deaths'...</td>\n",
              "      <td>{'date': '2020-1-23', 'confirmed': 0, 'deaths'...</td>\n",
              "      <td>{'date': '2020-1-23', 'confirmed': 0, 'deaths'...</td>\n",
              "      <td>{'date': '2020-1-23', 'confirmed': 0, 'deaths'...</td>\n",
              "      <td>{'date': '2020-1-23', 'confirmed': 0, 'deaths'...</td>\n",
              "      <td>{'date': '2020-1-23', 'confirmed': 0, 'deaths'...</td>\n",
              "      <td>{'date': '2020-1-23', 'confirmed': 0, 'deaths'...</td>\n",
              "      <td>{'date': '2020-1-23', 'confirmed': 0, 'deaths'...</td>\n",
              "      <td>{'date': '2020-1-23', 'confirmed': 0, 'deaths'...</td>\n",
              "      <td>{'date': '2020-1-23', 'confirmed': 0, 'deaths'...</td>\n",
              "      <td>{'date': '2020-1-23', 'confirmed': 0, 'deaths'...</td>\n",
              "      <td>{'date': '2020-1-23', 'confirmed': 0, 'deaths'...</td>\n",
              "      <td>{'date': '2020-1-23', 'confirmed': 0, 'deaths'...</td>\n",
              "      <td>{'date': '2020-1-23', 'confirmed': 0, 'deaths'...</td>\n",
              "      <td>{'date': '2020-1-23', 'confirmed': 0, 'deaths'...</td>\n",
              "      <td>{'date': '2020-1-23', 'confirmed': 0, 'deaths'...</td>\n",
              "      <td>{'date': '2020-1-23', 'confirmed': 0, 'deaths'...</td>\n",
              "      <td>{'date': '2020-1-23', 'confirmed': 0, 'deaths'...</td>\n",
              "      <td>{'date': '2020-1-23', 'confirmed': 0, 'deaths'...</td>\n",
              "      <td>{'date': '2020-1-23', 'confirmed': 0, 'deaths'...</td>\n",
              "      <td>{'date': '2020-1-23', 'confirmed': 0, 'deaths'...</td>\n",
              "      <td>{'date': '2020-1-23', 'confirmed': 0, 'deaths'...</td>\n",
              "      <td>{'date': '2020-1-23', 'confirmed': 0, 'deaths'...</td>\n",
              "      <td>{'date': '2020-1-23', 'confirmed': 0, 'deaths'...</td>\n",
              "      <td>{'date': '2020-1-23', 'confirmed': 0, 'deaths'...</td>\n",
              "      <td>{'date': '2020-1-23', 'confirmed': 0, 'deaths'...</td>\n",
              "      <td>{'date': '2020-1-23', 'confirmed': 0, 'deaths'...</td>\n",
              "      <td>{'date': '2020-1-23', 'confirmed': 0, 'deaths'...</td>\n",
              "      <td>{'date': '2020-1-23', 'confirmed': 0, 'deaths'...</td>\n",
              "      <td>{'date': '2020-1-23', 'confirmed': 643, 'death...</td>\n",
              "      <td>{'date': '2020-1-23', 'confirmed': 0, 'deaths'...</td>\n",
              "      <td>{'date': '2020-1-23', 'confirmed': 0, 'deaths'...</td>\n",
              "      <td>{'date': '2020-1-23', 'confirmed': 0, 'deaths'...</td>\n",
              "      <td>{'date': '2020-1-23', 'confirmed': 0, 'deaths'...</td>\n",
              "      <td>{'date': '2020-1-23', 'confirmed': 0, 'deaths'...</td>\n",
              "      <td>{'date': '2020-1-23', 'confirmed': 0, 'deaths'...</td>\n",
              "      <td>{'date': '2020-1-23', 'confirmed': 0, 'deaths'...</td>\n",
              "      <td>...</td>\n",
              "      <td>{'date': '2020-1-23', 'confirmed': 0, 'deaths'...</td>\n",
              "      <td>{'date': '2020-1-23', 'confirmed': 3, 'deaths'...</td>\n",
              "      <td>{'date': '2020-1-23', 'confirmed': 0, 'deaths'...</td>\n",
              "      <td>{'date': '2020-1-23', 'confirmed': 0, 'deaths'...</td>\n",
              "      <td>{'date': '2020-1-23', 'confirmed': 0, 'deaths'...</td>\n",
              "      <td>{'date': '2020-1-23', 'confirmed': 0, 'deaths'...</td>\n",
              "      <td>{'date': '2020-1-23', 'confirmed': 0, 'deaths'...</td>\n",
              "      <td>{'date': '2020-1-23', 'confirmed': 0, 'deaths'...</td>\n",
              "      <td>{'date': '2020-1-23', 'confirmed': 0, 'deaths'...</td>\n",
              "      <td>{'date': '2020-1-23', 'confirmed': 0, 'deaths'...</td>\n",
              "      <td>{'date': '2020-1-23', 'confirmed': 0, 'deaths'...</td>\n",
              "      <td>{'date': '2020-1-23', 'confirmed': 1, 'deaths'...</td>\n",
              "      <td>{'date': '2020-1-23', 'confirmed': 0, 'deaths'...</td>\n",
              "      <td>{'date': '2020-1-23', 'confirmed': 0, 'deaths'...</td>\n",
              "      <td>{'date': '2020-1-23', 'confirmed': 2, 'deaths'...</td>\n",
              "      <td>{'date': '2020-1-23', 'confirmed': 0, 'deaths'...</td>\n",
              "      <td>{'date': '2020-1-23', 'confirmed': 0, 'deaths'...</td>\n",
              "      <td>{'date': '2020-1-23', 'confirmed': 0, 'deaths'...</td>\n",
              "      <td>{'date': '2020-1-23', 'confirmed': 0, 'deaths'...</td>\n",
              "      <td>{'date': '2020-1-23', 'confirmed': 0, 'deaths'...</td>\n",
              "      <td>{'date': '2020-1-23', 'confirmed': 0, 'deaths'...</td>\n",
              "      <td>{'date': '2020-1-23', 'confirmed': 0, 'deaths'...</td>\n",
              "      <td>{'date': '2020-1-23', 'confirmed': 0, 'deaths'...</td>\n",
              "      <td>{'date': '2020-1-23', 'confirmed': 0, 'deaths'...</td>\n",
              "      <td>{'date': '2020-1-23', 'confirmed': 0, 'deaths'...</td>\n",
              "      <td>{'date': '2020-1-23', 'confirmed': 0, 'deaths'...</td>\n",
              "      <td>{'date': '2020-1-23', 'confirmed': 0, 'deaths'...</td>\n",
              "      <td>{'date': '2020-1-23', 'confirmed': 0, 'deaths'...</td>\n",
              "      <td>{'date': '2020-1-23', 'confirmed': 0, 'deaths'...</td>\n",
              "      <td>{'date': '2020-1-23', 'confirmed': 0, 'deaths'...</td>\n",
              "      <td>{'date': '2020-1-23', 'confirmed': 0, 'deaths'...</td>\n",
              "      <td>{'date': '2020-1-23', 'confirmed': 0, 'deaths'...</td>\n",
              "      <td>{'date': '2020-1-23', 'confirmed': 0, 'deaths'...</td>\n",
              "      <td>{'date': '2020-1-23', 'confirmed': 0, 'deaths'...</td>\n",
              "      <td>{'date': '2020-1-23', 'confirmed': 0, 'deaths'...</td>\n",
              "      <td>{'date': '2020-1-23', 'confirmed': 0, 'deaths'...</td>\n",
              "      <td>{'date': '2020-1-23', 'confirmed': 0, 'deaths'...</td>\n",
              "      <td>{'date': '2020-1-23', 'confirmed': 0, 'deaths'...</td>\n",
              "      <td>{'date': '2020-1-23', 'confirmed': 0, 'deaths'...</td>\n",
              "      <td>{'date': '2020-1-23', 'confirmed': 0, 'deaths'...</td>\n",
              "    </tr>\n",
              "    <tr>\n",
              "      <th>2</th>\n",
              "      <td>{'date': '2020-1-24', 'confirmed': 0, 'deaths'...</td>\n",
              "      <td>{'date': '2020-1-24', 'confirmed': 0, 'deaths'...</td>\n",
              "      <td>{'date': '2020-1-24', 'confirmed': 0, 'deaths'...</td>\n",
              "      <td>{'date': '2020-1-24', 'confirmed': 0, 'deaths'...</td>\n",
              "      <td>{'date': '2020-1-24', 'confirmed': 0, 'deaths'...</td>\n",
              "      <td>{'date': '2020-1-24', 'confirmed': 0, 'deaths'...</td>\n",
              "      <td>{'date': '2020-1-24', 'confirmed': 0, 'deaths'...</td>\n",
              "      <td>{'date': '2020-1-24', 'confirmed': 0, 'deaths'...</td>\n",
              "      <td>{'date': '2020-1-24', 'confirmed': 0, 'deaths'...</td>\n",
              "      <td>{'date': '2020-1-24', 'confirmed': 0, 'deaths'...</td>\n",
              "      <td>{'date': '2020-1-24', 'confirmed': 0, 'deaths'...</td>\n",
              "      <td>{'date': '2020-1-24', 'confirmed': 0, 'deaths'...</td>\n",
              "      <td>{'date': '2020-1-24', 'confirmed': 0, 'deaths'...</td>\n",
              "      <td>{'date': '2020-1-24', 'confirmed': 0, 'deaths'...</td>\n",
              "      <td>{'date': '2020-1-24', 'confirmed': 0, 'deaths'...</td>\n",
              "      <td>{'date': '2020-1-24', 'confirmed': 0, 'deaths'...</td>\n",
              "      <td>{'date': '2020-1-24', 'confirmed': 0, 'deaths'...</td>\n",
              "      <td>{'date': '2020-1-24', 'confirmed': 0, 'deaths'...</td>\n",
              "      <td>{'date': '2020-1-24', 'confirmed': 0, 'deaths'...</td>\n",
              "      <td>{'date': '2020-1-24', 'confirmed': 0, 'deaths'...</td>\n",
              "      <td>{'date': '2020-1-24', 'confirmed': 0, 'deaths'...</td>\n",
              "      <td>{'date': '2020-1-24', 'confirmed': 0, 'deaths'...</td>\n",
              "      <td>{'date': '2020-1-24', 'confirmed': 0, 'deaths'...</td>\n",
              "      <td>{'date': '2020-1-24', 'confirmed': 0, 'deaths'...</td>\n",
              "      <td>{'date': '2020-1-24', 'confirmed': 0, 'deaths'...</td>\n",
              "      <td>{'date': '2020-1-24', 'confirmed': 0, 'deaths'...</td>\n",
              "      <td>{'date': '2020-1-24', 'confirmed': 0, 'deaths'...</td>\n",
              "      <td>{'date': '2020-1-24', 'confirmed': 0, 'deaths'...</td>\n",
              "      <td>{'date': '2020-1-24', 'confirmed': 0, 'deaths'...</td>\n",
              "      <td>{'date': '2020-1-24', 'confirmed': 0, 'deaths'...</td>\n",
              "      <td>{'date': '2020-1-24', 'confirmed': 0, 'deaths'...</td>\n",
              "      <td>{'date': '2020-1-24', 'confirmed': 0, 'deaths'...</td>\n",
              "      <td>{'date': '2020-1-24', 'confirmed': 920, 'death...</td>\n",
              "      <td>{'date': '2020-1-24', 'confirmed': 0, 'deaths'...</td>\n",
              "      <td>{'date': '2020-1-24', 'confirmed': 0, 'deaths'...</td>\n",
              "      <td>{'date': '2020-1-24', 'confirmed': 0, 'deaths'...</td>\n",
              "      <td>{'date': '2020-1-24', 'confirmed': 0, 'deaths'...</td>\n",
              "      <td>{'date': '2020-1-24', 'confirmed': 0, 'deaths'...</td>\n",
              "      <td>{'date': '2020-1-24', 'confirmed': 0, 'deaths'...</td>\n",
              "      <td>{'date': '2020-1-24', 'confirmed': 0, 'deaths'...</td>\n",
              "      <td>...</td>\n",
              "      <td>{'date': '2020-1-24', 'confirmed': 0, 'deaths'...</td>\n",
              "      <td>{'date': '2020-1-24', 'confirmed': 5, 'deaths'...</td>\n",
              "      <td>{'date': '2020-1-24', 'confirmed': 0, 'deaths'...</td>\n",
              "      <td>{'date': '2020-1-24', 'confirmed': 0, 'deaths'...</td>\n",
              "      <td>{'date': '2020-1-24', 'confirmed': 0, 'deaths'...</td>\n",
              "      <td>{'date': '2020-1-24', 'confirmed': 0, 'deaths'...</td>\n",
              "      <td>{'date': '2020-1-24', 'confirmed': 0, 'deaths'...</td>\n",
              "      <td>{'date': '2020-1-24', 'confirmed': 0, 'deaths'...</td>\n",
              "      <td>{'date': '2020-1-24', 'confirmed': 0, 'deaths'...</td>\n",
              "      <td>{'date': '2020-1-24', 'confirmed': 0, 'deaths'...</td>\n",
              "      <td>{'date': '2020-1-24', 'confirmed': 0, 'deaths'...</td>\n",
              "      <td>{'date': '2020-1-24', 'confirmed': 2, 'deaths'...</td>\n",
              "      <td>{'date': '2020-1-24', 'confirmed': 0, 'deaths'...</td>\n",
              "      <td>{'date': '2020-1-24', 'confirmed': 0, 'deaths'...</td>\n",
              "      <td>{'date': '2020-1-24', 'confirmed': 2, 'deaths'...</td>\n",
              "      <td>{'date': '2020-1-24', 'confirmed': 0, 'deaths'...</td>\n",
              "      <td>{'date': '2020-1-24', 'confirmed': 0, 'deaths'...</td>\n",
              "      <td>{'date': '2020-1-24', 'confirmed': 0, 'deaths'...</td>\n",
              "      <td>{'date': '2020-1-24', 'confirmed': 0, 'deaths'...</td>\n",
              "      <td>{'date': '2020-1-24', 'confirmed': 0, 'deaths'...</td>\n",
              "      <td>{'date': '2020-1-24', 'confirmed': 0, 'deaths'...</td>\n",
              "      <td>{'date': '2020-1-24', 'confirmed': 0, 'deaths'...</td>\n",
              "      <td>{'date': '2020-1-24', 'confirmed': 0, 'deaths'...</td>\n",
              "      <td>{'date': '2020-1-24', 'confirmed': 0, 'deaths'...</td>\n",
              "      <td>{'date': '2020-1-24', 'confirmed': 0, 'deaths'...</td>\n",
              "      <td>{'date': '2020-1-24', 'confirmed': 0, 'deaths'...</td>\n",
              "      <td>{'date': '2020-1-24', 'confirmed': 0, 'deaths'...</td>\n",
              "      <td>{'date': '2020-1-24', 'confirmed': 0, 'deaths'...</td>\n",
              "      <td>{'date': '2020-1-24', 'confirmed': 0, 'deaths'...</td>\n",
              "      <td>{'date': '2020-1-24', 'confirmed': 0, 'deaths'...</td>\n",
              "      <td>{'date': '2020-1-24', 'confirmed': 0, 'deaths'...</td>\n",
              "      <td>{'date': '2020-1-24', 'confirmed': 0, 'deaths'...</td>\n",
              "      <td>{'date': '2020-1-24', 'confirmed': 0, 'deaths'...</td>\n",
              "      <td>{'date': '2020-1-24', 'confirmed': 0, 'deaths'...</td>\n",
              "      <td>{'date': '2020-1-24', 'confirmed': 0, 'deaths'...</td>\n",
              "      <td>{'date': '2020-1-24', 'confirmed': 0, 'deaths'...</td>\n",
              "      <td>{'date': '2020-1-24', 'confirmed': 0, 'deaths'...</td>\n",
              "      <td>{'date': '2020-1-24', 'confirmed': 0, 'deaths'...</td>\n",
              "      <td>{'date': '2020-1-24', 'confirmed': 0, 'deaths'...</td>\n",
              "      <td>{'date': '2020-1-24', 'confirmed': 0, 'deaths'...</td>\n",
              "    </tr>\n",
              "    <tr>\n",
              "      <th>3</th>\n",
              "      <td>{'date': '2020-1-25', 'confirmed': 0, 'deaths'...</td>\n",
              "      <td>{'date': '2020-1-25', 'confirmed': 0, 'deaths'...</td>\n",
              "      <td>{'date': '2020-1-25', 'confirmed': 0, 'deaths'...</td>\n",
              "      <td>{'date': '2020-1-25', 'confirmed': 0, 'deaths'...</td>\n",
              "      <td>{'date': '2020-1-25', 'confirmed': 0, 'deaths'...</td>\n",
              "      <td>{'date': '2020-1-25', 'confirmed': 0, 'deaths'...</td>\n",
              "      <td>{'date': '2020-1-25', 'confirmed': 0, 'deaths'...</td>\n",
              "      <td>{'date': '2020-1-25', 'confirmed': 0, 'deaths'...</td>\n",
              "      <td>{'date': '2020-1-25', 'confirmed': 0, 'deaths'...</td>\n",
              "      <td>{'date': '2020-1-25', 'confirmed': 0, 'deaths'...</td>\n",
              "      <td>{'date': '2020-1-25', 'confirmed': 0, 'deaths'...</td>\n",
              "      <td>{'date': '2020-1-25', 'confirmed': 0, 'deaths'...</td>\n",
              "      <td>{'date': '2020-1-25', 'confirmed': 0, 'deaths'...</td>\n",
              "      <td>{'date': '2020-1-25', 'confirmed': 0, 'deaths'...</td>\n",
              "      <td>{'date': '2020-1-25', 'confirmed': 0, 'deaths'...</td>\n",
              "      <td>{'date': '2020-1-25', 'confirmed': 0, 'deaths'...</td>\n",
              "      <td>{'date': '2020-1-25', 'confirmed': 0, 'deaths'...</td>\n",
              "      <td>{'date': '2020-1-25', 'confirmed': 0, 'deaths'...</td>\n",
              "      <td>{'date': '2020-1-25', 'confirmed': 0, 'deaths'...</td>\n",
              "      <td>{'date': '2020-1-25', 'confirmed': 0, 'deaths'...</td>\n",
              "      <td>{'date': '2020-1-25', 'confirmed': 0, 'deaths'...</td>\n",
              "      <td>{'date': '2020-1-25', 'confirmed': 0, 'deaths'...</td>\n",
              "      <td>{'date': '2020-1-25', 'confirmed': 0, 'deaths'...</td>\n",
              "      <td>{'date': '2020-1-25', 'confirmed': 0, 'deaths'...</td>\n",
              "      <td>{'date': '2020-1-25', 'confirmed': 0, 'deaths'...</td>\n",
              "      <td>{'date': '2020-1-25', 'confirmed': 0, 'deaths'...</td>\n",
              "      <td>{'date': '2020-1-25', 'confirmed': 0, 'deaths'...</td>\n",
              "      <td>{'date': '2020-1-25', 'confirmed': 0, 'deaths'...</td>\n",
              "      <td>{'date': '2020-1-25', 'confirmed': 0, 'deaths'...</td>\n",
              "      <td>{'date': '2020-1-25', 'confirmed': 0, 'deaths'...</td>\n",
              "      <td>{'date': '2020-1-25', 'confirmed': 0, 'deaths'...</td>\n",
              "      <td>{'date': '2020-1-25', 'confirmed': 0, 'deaths'...</td>\n",
              "      <td>{'date': '2020-1-25', 'confirmed': 1406, 'deat...</td>\n",
              "      <td>{'date': '2020-1-25', 'confirmed': 0, 'deaths'...</td>\n",
              "      <td>{'date': '2020-1-25', 'confirmed': 0, 'deaths'...</td>\n",
              "      <td>{'date': '2020-1-25', 'confirmed': 0, 'deaths'...</td>\n",
              "      <td>{'date': '2020-1-25', 'confirmed': 0, 'deaths'...</td>\n",
              "      <td>{'date': '2020-1-25', 'confirmed': 0, 'deaths'...</td>\n",
              "      <td>{'date': '2020-1-25', 'confirmed': 0, 'deaths'...</td>\n",
              "      <td>{'date': '2020-1-25', 'confirmed': 0, 'deaths'...</td>\n",
              "      <td>...</td>\n",
              "      <td>{'date': '2020-1-25', 'confirmed': 0, 'deaths'...</td>\n",
              "      <td>{'date': '2020-1-25', 'confirmed': 7, 'deaths'...</td>\n",
              "      <td>{'date': '2020-1-25', 'confirmed': 0, 'deaths'...</td>\n",
              "      <td>{'date': '2020-1-25', 'confirmed': 0, 'deaths'...</td>\n",
              "      <td>{'date': '2020-1-25', 'confirmed': 0, 'deaths'...</td>\n",
              "      <td>{'date': '2020-1-25', 'confirmed': 0, 'deaths'...</td>\n",
              "      <td>{'date': '2020-1-25', 'confirmed': 0, 'deaths'...</td>\n",
              "      <td>{'date': '2020-1-25', 'confirmed': 0, 'deaths'...</td>\n",
              "      <td>{'date': '2020-1-25', 'confirmed': 0, 'deaths'...</td>\n",
              "      <td>{'date': '2020-1-25', 'confirmed': 0, 'deaths'...</td>\n",
              "      <td>{'date': '2020-1-25', 'confirmed': 0, 'deaths'...</td>\n",
              "      <td>{'date': '2020-1-25', 'confirmed': 2, 'deaths'...</td>\n",
              "      <td>{'date': '2020-1-25', 'confirmed': 0, 'deaths'...</td>\n",
              "      <td>{'date': '2020-1-25', 'confirmed': 0, 'deaths'...</td>\n",
              "      <td>{'date': '2020-1-25', 'confirmed': 2, 'deaths'...</td>\n",
              "      <td>{'date': '2020-1-25', 'confirmed': 0, 'deaths'...</td>\n",
              "      <td>{'date': '2020-1-25', 'confirmed': 0, 'deaths'...</td>\n",
              "      <td>{'date': '2020-1-25', 'confirmed': 0, 'deaths'...</td>\n",
              "      <td>{'date': '2020-1-25', 'confirmed': 0, 'deaths'...</td>\n",
              "      <td>{'date': '2020-1-25', 'confirmed': 0, 'deaths'...</td>\n",
              "      <td>{'date': '2020-1-25', 'confirmed': 0, 'deaths'...</td>\n",
              "      <td>{'date': '2020-1-25', 'confirmed': 0, 'deaths'...</td>\n",
              "      <td>{'date': '2020-1-25', 'confirmed': 0, 'deaths'...</td>\n",
              "      <td>{'date': '2020-1-25', 'confirmed': 0, 'deaths'...</td>\n",
              "      <td>{'date': '2020-1-25', 'confirmed': 0, 'deaths'...</td>\n",
              "      <td>{'date': '2020-1-25', 'confirmed': 0, 'deaths'...</td>\n",
              "      <td>{'date': '2020-1-25', 'confirmed': 0, 'deaths'...</td>\n",
              "      <td>{'date': '2020-1-25', 'confirmed': 0, 'deaths'...</td>\n",
              "      <td>{'date': '2020-1-25', 'confirmed': 0, 'deaths'...</td>\n",
              "      <td>{'date': '2020-1-25', 'confirmed': 0, 'deaths'...</td>\n",
              "      <td>{'date': '2020-1-25', 'confirmed': 0, 'deaths'...</td>\n",
              "      <td>{'date': '2020-1-25', 'confirmed': 0, 'deaths'...</td>\n",
              "      <td>{'date': '2020-1-25', 'confirmed': 0, 'deaths'...</td>\n",
              "      <td>{'date': '2020-1-25', 'confirmed': 0, 'deaths'...</td>\n",
              "      <td>{'date': '2020-1-25', 'confirmed': 0, 'deaths'...</td>\n",
              "      <td>{'date': '2020-1-25', 'confirmed': 0, 'deaths'...</td>\n",
              "      <td>{'date': '2020-1-25', 'confirmed': 0, 'deaths'...</td>\n",
              "      <td>{'date': '2020-1-25', 'confirmed': 0, 'deaths'...</td>\n",
              "      <td>{'date': '2020-1-25', 'confirmed': 0, 'deaths'...</td>\n",
              "      <td>{'date': '2020-1-25', 'confirmed': 0, 'deaths'...</td>\n",
              "    </tr>\n",
              "    <tr>\n",
              "      <th>4</th>\n",
              "      <td>{'date': '2020-1-26', 'confirmed': 0, 'deaths'...</td>\n",
              "      <td>{'date': '2020-1-26', 'confirmed': 0, 'deaths'...</td>\n",
              "      <td>{'date': '2020-1-26', 'confirmed': 0, 'deaths'...</td>\n",
              "      <td>{'date': '2020-1-26', 'confirmed': 0, 'deaths'...</td>\n",
              "      <td>{'date': '2020-1-26', 'confirmed': 0, 'deaths'...</td>\n",
              "      <td>{'date': '2020-1-26', 'confirmed': 0, 'deaths'...</td>\n",
              "      <td>{'date': '2020-1-26', 'confirmed': 0, 'deaths'...</td>\n",
              "      <td>{'date': '2020-1-26', 'confirmed': 0, 'deaths'...</td>\n",
              "      <td>{'date': '2020-1-26', 'confirmed': 4, 'deaths'...</td>\n",
              "      <td>{'date': '2020-1-26', 'confirmed': 0, 'deaths'...</td>\n",
              "      <td>{'date': '2020-1-26', 'confirmed': 0, 'deaths'...</td>\n",
              "      <td>{'date': '2020-1-26', 'confirmed': 0, 'deaths'...</td>\n",
              "      <td>{'date': '2020-1-26', 'confirmed': 0, 'deaths'...</td>\n",
              "      <td>{'date': '2020-1-26', 'confirmed': 0, 'deaths'...</td>\n",
              "      <td>{'date': '2020-1-26', 'confirmed': 0, 'deaths'...</td>\n",
              "      <td>{'date': '2020-1-26', 'confirmed': 0, 'deaths'...</td>\n",
              "      <td>{'date': '2020-1-26', 'confirmed': 0, 'deaths'...</td>\n",
              "      <td>{'date': '2020-1-26', 'confirmed': 0, 'deaths'...</td>\n",
              "      <td>{'date': '2020-1-26', 'confirmed': 0, 'deaths'...</td>\n",
              "      <td>{'date': '2020-1-26', 'confirmed': 0, 'deaths'...</td>\n",
              "      <td>{'date': '2020-1-26', 'confirmed': 0, 'deaths'...</td>\n",
              "      <td>{'date': '2020-1-26', 'confirmed': 0, 'deaths'...</td>\n",
              "      <td>{'date': '2020-1-26', 'confirmed': 0, 'deaths'...</td>\n",
              "      <td>{'date': '2020-1-26', 'confirmed': 0, 'deaths'...</td>\n",
              "      <td>{'date': '2020-1-26', 'confirmed': 0, 'deaths'...</td>\n",
              "      <td>{'date': '2020-1-26', 'confirmed': 0, 'deaths'...</td>\n",
              "      <td>{'date': '2020-1-26', 'confirmed': 0, 'deaths'...</td>\n",
              "      <td>{'date': '2020-1-26', 'confirmed': 0, 'deaths'...</td>\n",
              "      <td>{'date': '2020-1-26', 'confirmed': 1, 'deaths'...</td>\n",
              "      <td>{'date': '2020-1-26', 'confirmed': 0, 'deaths'...</td>\n",
              "      <td>{'date': '2020-1-26', 'confirmed': 0, 'deaths'...</td>\n",
              "      <td>{'date': '2020-1-26', 'confirmed': 0, 'deaths'...</td>\n",
              "      <td>{'date': '2020-1-26', 'confirmed': 2075, 'deat...</td>\n",
              "      <td>{'date': '2020-1-26', 'confirmed': 0, 'deaths'...</td>\n",
              "      <td>{'date': '2020-1-26', 'confirmed': 0, 'deaths'...</td>\n",
              "      <td>{'date': '2020-1-26', 'confirmed': 0, 'deaths'...</td>\n",
              "      <td>{'date': '2020-1-26', 'confirmed': 0, 'deaths'...</td>\n",
              "      <td>{'date': '2020-1-26', 'confirmed': 0, 'deaths'...</td>\n",
              "      <td>{'date': '2020-1-26', 'confirmed': 0, 'deaths'...</td>\n",
              "      <td>{'date': '2020-1-26', 'confirmed': 0, 'deaths'...</td>\n",
              "      <td>...</td>\n",
              "      <td>{'date': '2020-1-26', 'confirmed': 0, 'deaths'...</td>\n",
              "      <td>{'date': '2020-1-26', 'confirmed': 8, 'deaths'...</td>\n",
              "      <td>{'date': '2020-1-26', 'confirmed': 0, 'deaths'...</td>\n",
              "      <td>{'date': '2020-1-26', 'confirmed': 0, 'deaths'...</td>\n",
              "      <td>{'date': '2020-1-26', 'confirmed': 0, 'deaths'...</td>\n",
              "      <td>{'date': '2020-1-26', 'confirmed': 0, 'deaths'...</td>\n",
              "      <td>{'date': '2020-1-26', 'confirmed': 0, 'deaths'...</td>\n",
              "      <td>{'date': '2020-1-26', 'confirmed': 0, 'deaths'...</td>\n",
              "      <td>{'date': '2020-1-26', 'confirmed': 0, 'deaths'...</td>\n",
              "      <td>{'date': '2020-1-26', 'confirmed': 0, 'deaths'...</td>\n",
              "      <td>{'date': '2020-1-26', 'confirmed': 0, 'deaths'...</td>\n",
              "      <td>{'date': '2020-1-26', 'confirmed': 5, 'deaths'...</td>\n",
              "      <td>{'date': '2020-1-26', 'confirmed': 0, 'deaths'...</td>\n",
              "      <td>{'date': '2020-1-26', 'confirmed': 0, 'deaths'...</td>\n",
              "      <td>{'date': '2020-1-26', 'confirmed': 2, 'deaths'...</td>\n",
              "      <td>{'date': '2020-1-26', 'confirmed': 0, 'deaths'...</td>\n",
              "      <td>{'date': '2020-1-26', 'confirmed': 0, 'deaths'...</td>\n",
              "      <td>{'date': '2020-1-26', 'confirmed': 0, 'deaths'...</td>\n",
              "      <td>{'date': '2020-1-26', 'confirmed': 0, 'deaths'...</td>\n",
              "      <td>{'date': '2020-1-26', 'confirmed': 0, 'deaths'...</td>\n",
              "      <td>{'date': '2020-1-26', 'confirmed': 0, 'deaths'...</td>\n",
              "      <td>{'date': '2020-1-26', 'confirmed': 0, 'deaths'...</td>\n",
              "      <td>{'date': '2020-1-26', 'confirmed': 0, 'deaths'...</td>\n",
              "      <td>{'date': '2020-1-26', 'confirmed': 0, 'deaths'...</td>\n",
              "      <td>{'date': '2020-1-26', 'confirmed': 0, 'deaths'...</td>\n",
              "      <td>{'date': '2020-1-26', 'confirmed': 0, 'deaths'...</td>\n",
              "      <td>{'date': '2020-1-26', 'confirmed': 0, 'deaths'...</td>\n",
              "      <td>{'date': '2020-1-26', 'confirmed': 0, 'deaths'...</td>\n",
              "      <td>{'date': '2020-1-26', 'confirmed': 0, 'deaths'...</td>\n",
              "      <td>{'date': '2020-1-26', 'confirmed': 0, 'deaths'...</td>\n",
              "      <td>{'date': '2020-1-26', 'confirmed': 0, 'deaths'...</td>\n",
              "      <td>{'date': '2020-1-26', 'confirmed': 0, 'deaths'...</td>\n",
              "      <td>{'date': '2020-1-26', 'confirmed': 0, 'deaths'...</td>\n",
              "      <td>{'date': '2020-1-26', 'confirmed': 0, 'deaths'...</td>\n",
              "      <td>{'date': '2020-1-26', 'confirmed': 0, 'deaths'...</td>\n",
              "      <td>{'date': '2020-1-26', 'confirmed': 0, 'deaths'...</td>\n",
              "      <td>{'date': '2020-1-26', 'confirmed': 0, 'deaths'...</td>\n",
              "      <td>{'date': '2020-1-26', 'confirmed': 0, 'deaths'...</td>\n",
              "      <td>{'date': '2020-1-26', 'confirmed': 0, 'deaths'...</td>\n",
              "      <td>{'date': '2020-1-26', 'confirmed': 0, 'deaths'...</td>\n",
              "    </tr>\n",
              "  </tbody>\n",
              "</table>\n",
              "<p>5 rows × 185 columns</p>\n",
              "</div>"
            ],
            "text/plain": [
              "                                         Afghanistan  ...                                              Yemen\n",
              "0  {'date': '2020-1-22', 'confirmed': 0, 'deaths'...  ...  {'date': '2020-1-22', 'confirmed': 0, 'deaths'...\n",
              "1  {'date': '2020-1-23', 'confirmed': 0, 'deaths'...  ...  {'date': '2020-1-23', 'confirmed': 0, 'deaths'...\n",
              "2  {'date': '2020-1-24', 'confirmed': 0, 'deaths'...  ...  {'date': '2020-1-24', 'confirmed': 0, 'deaths'...\n",
              "3  {'date': '2020-1-25', 'confirmed': 0, 'deaths'...  ...  {'date': '2020-1-25', 'confirmed': 0, 'deaths'...\n",
              "4  {'date': '2020-1-26', 'confirmed': 0, 'deaths'...  ...  {'date': '2020-1-26', 'confirmed': 0, 'deaths'...\n",
              "\n",
              "[5 rows x 185 columns]"
            ]
          },
          "metadata": {
            "tags": []
          },
          "execution_count": 5
        }
      ]
    },
    {
      "cell_type": "code",
      "metadata": {
        "id": "AuNTWAr4qlNE",
        "colab_type": "code",
        "colab": {}
      },
      "source": [
        "countries = json.keys()\n",
        "df_array = []"
      ],
      "execution_count": 0,
      "outputs": []
    },
    {
      "cell_type": "markdown",
      "metadata": {
        "id": "M6OiLTLlzBFB",
        "colab_type": "text"
      },
      "source": [
        "Convert dataframe to long-format"
      ]
    },
    {
      "cell_type": "code",
      "metadata": {
        "id": "RzktVkHfy5H1",
        "colab_type": "code",
        "colab": {}
      },
      "source": [
        "for country in countries:\n",
        "  stats = json[country]\n",
        "  for stat in stats:\n",
        "    # build row\n",
        "    date = stat['date']\n",
        "    confirmed = stat['confirmed']\n",
        "    deaths = stat['deaths']\n",
        "    recovered = stat['recovered']\n",
        "    df_array.append([country, date, confirmed, deaths, recovered])"
      ],
      "execution_count": 0,
      "outputs": []
    },
    {
      "cell_type": "code",
      "metadata": {
        "id": "lkX4GpYfy69g",
        "colab_type": "code",
        "colab": {}
      },
      "source": [
        "df = pd.DataFrame(df_array)"
      ],
      "execution_count": 0,
      "outputs": []
    },
    {
      "cell_type": "code",
      "metadata": {
        "id": "OTwuijoDy9wA",
        "colab_type": "code",
        "outputId": "ef4a5119-c56b-448e-d907-b84404415a12",
        "colab": {
          "base_uri": "https://localhost:8080/",
          "height": 204
        }
      },
      "source": [
        "df.columns = ['country', 'date', 'confirmed', 'deaths', 'recovered'] ; df.head()"
      ],
      "execution_count": 0,
      "outputs": [
        {
          "output_type": "execute_result",
          "data": {
            "text/html": [
              "<div>\n",
              "<style scoped>\n",
              "    .dataframe tbody tr th:only-of-type {\n",
              "        vertical-align: middle;\n",
              "    }\n",
              "\n",
              "    .dataframe tbody tr th {\n",
              "        vertical-align: top;\n",
              "    }\n",
              "\n",
              "    .dataframe thead th {\n",
              "        text-align: right;\n",
              "    }\n",
              "</style>\n",
              "<table border=\"1\" class=\"dataframe\">\n",
              "  <thead>\n",
              "    <tr style=\"text-align: right;\">\n",
              "      <th></th>\n",
              "      <th>country</th>\n",
              "      <th>date</th>\n",
              "      <th>confirmed</th>\n",
              "      <th>deaths</th>\n",
              "      <th>recovered</th>\n",
              "    </tr>\n",
              "  </thead>\n",
              "  <tbody>\n",
              "    <tr>\n",
              "      <th>0</th>\n",
              "      <td>Afghanistan</td>\n",
              "      <td>2020-1-22</td>\n",
              "      <td>0</td>\n",
              "      <td>0</td>\n",
              "      <td>0</td>\n",
              "    </tr>\n",
              "    <tr>\n",
              "      <th>1</th>\n",
              "      <td>Afghanistan</td>\n",
              "      <td>2020-1-23</td>\n",
              "      <td>0</td>\n",
              "      <td>0</td>\n",
              "      <td>0</td>\n",
              "    </tr>\n",
              "    <tr>\n",
              "      <th>2</th>\n",
              "      <td>Afghanistan</td>\n",
              "      <td>2020-1-24</td>\n",
              "      <td>0</td>\n",
              "      <td>0</td>\n",
              "      <td>0</td>\n",
              "    </tr>\n",
              "    <tr>\n",
              "      <th>3</th>\n",
              "      <td>Afghanistan</td>\n",
              "      <td>2020-1-25</td>\n",
              "      <td>0</td>\n",
              "      <td>0</td>\n",
              "      <td>0</td>\n",
              "    </tr>\n",
              "    <tr>\n",
              "      <th>4</th>\n",
              "      <td>Afghanistan</td>\n",
              "      <td>2020-1-26</td>\n",
              "      <td>0</td>\n",
              "      <td>0</td>\n",
              "      <td>0</td>\n",
              "    </tr>\n",
              "  </tbody>\n",
              "</table>\n",
              "</div>"
            ],
            "text/plain": [
              "       country       date  confirmed  deaths  recovered\n",
              "0  Afghanistan  2020-1-22          0       0          0\n",
              "1  Afghanistan  2020-1-23          0       0          0\n",
              "2  Afghanistan  2020-1-24          0       0          0\n",
              "3  Afghanistan  2020-1-25          0       0          0\n",
              "4  Afghanistan  2020-1-26          0       0          0"
            ]
          },
          "metadata": {
            "tags": []
          },
          "execution_count": 9
        }
      ]
    },
    {
      "cell_type": "code",
      "metadata": {
        "id": "9buq9XSey-kR",
        "colab_type": "code",
        "colab": {}
      },
      "source": [
        "# Convert to datetime object\n",
        "df['date'] = pd.to_datetime(df['date'])"
      ],
      "execution_count": 0,
      "outputs": []
    },
    {
      "cell_type": "code",
      "metadata": {
        "id": "lvIy-SUX8ZS7",
        "colab_type": "code",
        "outputId": "75e4aa19-84fa-47a9-f34e-3517e38c8ceb",
        "colab": {
          "base_uri": "https://localhost:8080/",
          "height": 34
        }
      },
      "source": [
        "# Get last date\n",
        "df['date'].max()"
      ],
      "execution_count": 0,
      "outputs": [
        {
          "output_type": "execute_result",
          "data": {
            "text/plain": [
              "Timestamp('2020-04-14 00:00:00')"
            ]
          },
          "metadata": {
            "tags": []
          },
          "execution_count": 11
        }
      ]
    },
    {
      "cell_type": "markdown",
      "metadata": {
        "id": "MeqHoCHD8hEP",
        "colab_type": "text"
      },
      "source": [
        "# Description Statistics"
      ]
    },
    {
      "cell_type": "code",
      "metadata": {
        "id": "LyFV4u0N8btn",
        "colab_type": "code",
        "colab": {}
      },
      "source": [
        "last_date_df = df[df['date'] == df['date'].max()]"
      ],
      "execution_count": 0,
      "outputs": []
    },
    {
      "cell_type": "code",
      "metadata": {
        "id": "fZXXujYI8kz7",
        "colab_type": "code",
        "outputId": "ef73ac77-f169-41e6-c89f-16d58877e22e",
        "colab": {
          "base_uri": "https://localhost:8080/",
          "height": 34
        }
      },
      "source": [
        "total_confirmed = last_date_df['confirmed'].sum()\n",
        "total_deaths = last_date_df['deaths'].sum()\n",
        "total_recovered = last_date_df['recovered'].sum()\n",
        "print(total_confirmed, total_deaths, total_recovered)"
      ],
      "execution_count": 0,
      "outputs": [
        {
          "output_type": "stream",
          "text": [
            "1976191 125984 474261\n"
          ],
          "name": "stdout"
        }
      ]
    },
    {
      "cell_type": "code",
      "metadata": {
        "id": "_Q_FPDDN8lOd",
        "colab_type": "code",
        "colab": {}
      },
      "source": [
        "def get_totals(df: pd.DataFrame) -> list:\n",
        "  df = df[df['date'] == df['date'].max()]\n",
        "  return [df['confirmed'].sum(), df['deaths'].sum(), df['recovered'].sum()]"
      ],
      "execution_count": 0,
      "outputs": []
    },
    {
      "cell_type": "code",
      "metadata": {
        "id": "VMLrblYY8myc",
        "colab_type": "code",
        "colab": {}
      },
      "source": [
        ""
      ],
      "execution_count": 0,
      "outputs": []
    },
    {
      "cell_type": "markdown",
      "metadata": {
        "id": "7O6_WEfV8pD9",
        "colab_type": "text"
      },
      "source": [
        "# Country Infection History"
      ]
    },
    {
      "cell_type": "code",
      "metadata": {
        "id": "vcCl7-Rz8rIT",
        "colab_type": "code",
        "outputId": "afa5f26f-ff57-4979-a366-8a2470cd960d",
        "colab": {
          "base_uri": "https://localhost:8080/",
          "height": 359
        }
      },
      "source": [
        "# Look at one country\n",
        "country = 'Canada'\n",
        "country_df = df[df['country'] == country]\n",
        "country_df.head(10)"
      ],
      "execution_count": 0,
      "outputs": [
        {
          "output_type": "execute_result",
          "data": {
            "text/html": [
              "<div>\n",
              "<style scoped>\n",
              "    .dataframe tbody tr th:only-of-type {\n",
              "        vertical-align: middle;\n",
              "    }\n",
              "\n",
              "    .dataframe tbody tr th {\n",
              "        vertical-align: top;\n",
              "    }\n",
              "\n",
              "    .dataframe thead th {\n",
              "        text-align: right;\n",
              "    }\n",
              "</style>\n",
              "<table border=\"1\" class=\"dataframe\">\n",
              "  <thead>\n",
              "    <tr style=\"text-align: right;\">\n",
              "      <th></th>\n",
              "      <th>country</th>\n",
              "      <th>date</th>\n",
              "      <th>confirmed</th>\n",
              "      <th>deaths</th>\n",
              "      <th>recovered</th>\n",
              "    </tr>\n",
              "  </thead>\n",
              "  <tbody>\n",
              "    <tr>\n",
              "      <th>2352</th>\n",
              "      <td>Canada</td>\n",
              "      <td>2020-01-22</td>\n",
              "      <td>0</td>\n",
              "      <td>0</td>\n",
              "      <td>0</td>\n",
              "    </tr>\n",
              "    <tr>\n",
              "      <th>2353</th>\n",
              "      <td>Canada</td>\n",
              "      <td>2020-01-23</td>\n",
              "      <td>0</td>\n",
              "      <td>0</td>\n",
              "      <td>0</td>\n",
              "    </tr>\n",
              "    <tr>\n",
              "      <th>2354</th>\n",
              "      <td>Canada</td>\n",
              "      <td>2020-01-24</td>\n",
              "      <td>0</td>\n",
              "      <td>0</td>\n",
              "      <td>0</td>\n",
              "    </tr>\n",
              "    <tr>\n",
              "      <th>2355</th>\n",
              "      <td>Canada</td>\n",
              "      <td>2020-01-25</td>\n",
              "      <td>0</td>\n",
              "      <td>0</td>\n",
              "      <td>0</td>\n",
              "    </tr>\n",
              "    <tr>\n",
              "      <th>2356</th>\n",
              "      <td>Canada</td>\n",
              "      <td>2020-01-26</td>\n",
              "      <td>1</td>\n",
              "      <td>0</td>\n",
              "      <td>0</td>\n",
              "    </tr>\n",
              "    <tr>\n",
              "      <th>2357</th>\n",
              "      <td>Canada</td>\n",
              "      <td>2020-01-27</td>\n",
              "      <td>1</td>\n",
              "      <td>0</td>\n",
              "      <td>0</td>\n",
              "    </tr>\n",
              "    <tr>\n",
              "      <th>2358</th>\n",
              "      <td>Canada</td>\n",
              "      <td>2020-01-28</td>\n",
              "      <td>2</td>\n",
              "      <td>0</td>\n",
              "      <td>0</td>\n",
              "    </tr>\n",
              "    <tr>\n",
              "      <th>2359</th>\n",
              "      <td>Canada</td>\n",
              "      <td>2020-01-29</td>\n",
              "      <td>2</td>\n",
              "      <td>0</td>\n",
              "      <td>0</td>\n",
              "    </tr>\n",
              "    <tr>\n",
              "      <th>2360</th>\n",
              "      <td>Canada</td>\n",
              "      <td>2020-01-30</td>\n",
              "      <td>2</td>\n",
              "      <td>0</td>\n",
              "      <td>0</td>\n",
              "    </tr>\n",
              "    <tr>\n",
              "      <th>2361</th>\n",
              "      <td>Canada</td>\n",
              "      <td>2020-01-31</td>\n",
              "      <td>4</td>\n",
              "      <td>0</td>\n",
              "      <td>0</td>\n",
              "    </tr>\n",
              "  </tbody>\n",
              "</table>\n",
              "</div>"
            ],
            "text/plain": [
              "     country       date  confirmed  deaths  recovered\n",
              "2352  Canada 2020-01-22          0       0          0\n",
              "2353  Canada 2020-01-23          0       0          0\n",
              "2354  Canada 2020-01-24          0       0          0\n",
              "2355  Canada 2020-01-25          0       0          0\n",
              "2356  Canada 2020-01-26          1       0          0\n",
              "2357  Canada 2020-01-27          1       0          0\n",
              "2358  Canada 2020-01-28          2       0          0\n",
              "2359  Canada 2020-01-29          2       0          0\n",
              "2360  Canada 2020-01-30          2       0          0\n",
              "2361  Canada 2020-01-31          4       0          0"
            ]
          },
          "metadata": {
            "tags": []
          },
          "execution_count": 15
        }
      ]
    },
    {
      "cell_type": "code",
      "metadata": {
        "id": "3N_fjEVu8sR0",
        "colab_type": "code",
        "outputId": "98a3cde3-0b87-498c-e02f-bd18cec580d3",
        "colab": {
          "base_uri": "https://localhost:8080/",
          "height": 34
        }
      },
      "source": [
        "print(get_totals(country_df))"
      ],
      "execution_count": 0,
      "outputs": [
        {
          "output_type": "stream",
          "text": [
            "[27034, 899, 8210]\n"
          ],
          "name": "stdout"
        }
      ]
    },
    {
      "cell_type": "code",
      "metadata": {
        "id": "dJY4BENW8tit",
        "colab_type": "code",
        "outputId": "d2ee2720-8b6e-42e3-a083-1d0c7b20be2b",
        "colab": {
          "base_uri": "https://localhost:8080/",
          "height": 530
        }
      },
      "source": [
        "plt.figure(figsize=(15,8))\n",
        "\n",
        "plt.plot(country_df['date'], country_df['confirmed'], label='confirmed')\n",
        "plt.plot(country_df['date'],country_df['deaths'], label= 'deaths')\n",
        "plt.plot(country_df['date'],country_df['recovered'], label = 'recovered')\n",
        "\n",
        "plt.title(f'stats for {country}')\n",
        "plt.ylabel('count')\n",
        "plt.xlabel('date')\n",
        "plt.legend()"
      ],
      "execution_count": 0,
      "outputs": [
        {
          "output_type": "execute_result",
          "data": {
            "text/plain": [
              "<matplotlib.legend.Legend at 0x7ff78ba09f28>"
            ]
          },
          "metadata": {
            "tags": []
          },
          "execution_count": 17
        },
        {
          "output_type": "display_data",
          "data": {
            "image/png": "[encoded data removed]",
            "text/plain": [
              "<Figure size 1080x576 with 1 Axes>"
            ]
          },
          "metadata": {
            "tags": [],
            "needs_background": "light"
          }
        }
      ]
    },
    {
      "cell_type": "markdown",
      "metadata": {
        "id": "LOaq8QQKDEWG",
        "colab_type": "text"
      },
      "source": [
        "Because of limited data we turn this problem into classification by framing it like a weather forecasting problem as follows:\n",
        "\n",
        "\"Based on data from the past 7 days, what is the number of confirmed cases on the 8th day?\"\n",
        "\n",
        "We frame this similarly for the mortality prediction as well.\n"
      ]
    },
    {
      "cell_type": "markdown",
      "metadata": {
        "id": "M2_Up9yNAOkO",
        "colab_type": "text"
      },
      "source": [
        "# Focus on Canada"
      ]
    },
    {
      "cell_type": "code",
      "metadata": {
        "id": "FAfXm85o8u5R",
        "colab_type": "code",
        "colab": {}
      },
      "source": [
        "country = 'Canada'\n",
        "canada_df = df[df['country'] == country].copy()\n",
        "canada_df.reset_index(drop=True,inplace=True)"
      ],
      "execution_count": 0,
      "outputs": []
    },
    {
      "cell_type": "code",
      "metadata": {
        "id": "oPvrMxCiAVdO",
        "colab_type": "code",
        "outputId": "9d948049-5a77-48fa-9db5-bf7228cd531d",
        "colab": {
          "base_uri": "https://localhost:8080/",
          "height": 359
        }
      },
      "source": [
        "canada_df.head(10)"
      ],
      "execution_count": 0,
      "outputs": [
        {
          "output_type": "execute_result",
          "data": {
            "text/html": [
              "<div>\n",
              "<style scoped>\n",
              "    .dataframe tbody tr th:only-of-type {\n",
              "        vertical-align: middle;\n",
              "    }\n",
              "\n",
              "    .dataframe tbody tr th {\n",
              "        vertical-align: top;\n",
              "    }\n",
              "\n",
              "    .dataframe thead th {\n",
              "        text-align: right;\n",
              "    }\n",
              "</style>\n",
              "<table border=\"1\" class=\"dataframe\">\n",
              "  <thead>\n",
              "    <tr style=\"text-align: right;\">\n",
              "      <th></th>\n",
              "      <th>country</th>\n",
              "      <th>date</th>\n",
              "      <th>confirmed</th>\n",
              "      <th>deaths</th>\n",
              "      <th>recovered</th>\n",
              "    </tr>\n",
              "  </thead>\n",
              "  <tbody>\n",
              "    <tr>\n",
              "      <th>0</th>\n",
              "      <td>Canada</td>\n",
              "      <td>2020-01-22</td>\n",
              "      <td>0</td>\n",
              "      <td>0</td>\n",
              "      <td>0</td>\n",
              "    </tr>\n",
              "    <tr>\n",
              "      <th>1</th>\n",
              "      <td>Canada</td>\n",
              "      <td>2020-01-23</td>\n",
              "      <td>0</td>\n",
              "      <td>0</td>\n",
              "      <td>0</td>\n",
              "    </tr>\n",
              "    <tr>\n",
              "      <th>2</th>\n",
              "      <td>Canada</td>\n",
              "      <td>2020-01-24</td>\n",
              "      <td>0</td>\n",
              "      <td>0</td>\n",
              "      <td>0</td>\n",
              "    </tr>\n",
              "    <tr>\n",
              "      <th>3</th>\n",
              "      <td>Canada</td>\n",
              "      <td>2020-01-25</td>\n",
              "      <td>0</td>\n",
              "      <td>0</td>\n",
              "      <td>0</td>\n",
              "    </tr>\n",
              "    <tr>\n",
              "      <th>4</th>\n",
              "      <td>Canada</td>\n",
              "      <td>2020-01-26</td>\n",
              "      <td>1</td>\n",
              "      <td>0</td>\n",
              "      <td>0</td>\n",
              "    </tr>\n",
              "    <tr>\n",
              "      <th>5</th>\n",
              "      <td>Canada</td>\n",
              "      <td>2020-01-27</td>\n",
              "      <td>1</td>\n",
              "      <td>0</td>\n",
              "      <td>0</td>\n",
              "    </tr>\n",
              "    <tr>\n",
              "      <th>6</th>\n",
              "      <td>Canada</td>\n",
              "      <td>2020-01-28</td>\n",
              "      <td>2</td>\n",
              "      <td>0</td>\n",
              "      <td>0</td>\n",
              "    </tr>\n",
              "    <tr>\n",
              "      <th>7</th>\n",
              "      <td>Canada</td>\n",
              "      <td>2020-01-29</td>\n",
              "      <td>2</td>\n",
              "      <td>0</td>\n",
              "      <td>0</td>\n",
              "    </tr>\n",
              "    <tr>\n",
              "      <th>8</th>\n",
              "      <td>Canada</td>\n",
              "      <td>2020-01-30</td>\n",
              "      <td>2</td>\n",
              "      <td>0</td>\n",
              "      <td>0</td>\n",
              "    </tr>\n",
              "    <tr>\n",
              "      <th>9</th>\n",
              "      <td>Canada</td>\n",
              "      <td>2020-01-31</td>\n",
              "      <td>4</td>\n",
              "      <td>0</td>\n",
              "      <td>0</td>\n",
              "    </tr>\n",
              "  </tbody>\n",
              "</table>\n",
              "</div>"
            ],
            "text/plain": [
              "  country       date  confirmed  deaths  recovered\n",
              "0  Canada 2020-01-22          0       0          0\n",
              "1  Canada 2020-01-23          0       0          0\n",
              "2  Canada 2020-01-24          0       0          0\n",
              "3  Canada 2020-01-25          0       0          0\n",
              "4  Canada 2020-01-26          1       0          0\n",
              "5  Canada 2020-01-27          1       0          0\n",
              "6  Canada 2020-01-28          2       0          0\n",
              "7  Canada 2020-01-29          2       0          0\n",
              "8  Canada 2020-01-30          2       0          0\n",
              "9  Canada 2020-01-31          4       0          0"
            ]
          },
          "metadata": {
            "tags": []
          },
          "execution_count": 19
        }
      ]
    },
    {
      "cell_type": "markdown",
      "metadata": {
        "id": "ixiaRbw1SFJU",
        "colab_type": "text"
      },
      "source": [
        "## Some feature engineering"
      ]
    },
    {
      "cell_type": "code",
      "metadata": {
        "id": "k-NX2KMJNKmd",
        "colab_type": "code",
        "colab": {}
      },
      "source": [
        "new_confirmed = canada_df['confirmed'].diff()\n",
        "new_deaths = canada_df['deaths'].diff()"
      ],
      "execution_count": 0,
      "outputs": []
    },
    {
      "cell_type": "code",
      "metadata": {
        "id": "n8418KNFOyza",
        "colab_type": "code",
        "colab": {}
      },
      "source": [
        "canada_df['new_confirmed'] = new_confirmed\n",
        "canada_df['new_deaths'] = new_deaths"
      ],
      "execution_count": 0,
      "outputs": []
    },
    {
      "cell_type": "code",
      "metadata": {
        "id": "cFnmyMfmMrQ7",
        "colab_type": "code",
        "outputId": "4367b72c-66e8-48b5-fd76-9d404e68fea7",
        "colab": {
          "base_uri": "https://localhost:8080/"
        }
      },
      "source": [
        "canada_df.head(10)"
      ],
      "execution_count": 0,
      "outputs": [
        {
          "output_type": "execute_result",
          "data": {
            "text/html": [
              "<div>\n",
              "<style scoped>\n",
              "    .dataframe tbody tr th:only-of-type {\n",
              "        vertical-align: middle;\n",
              "    }\n",
              "\n",
              "    .dataframe tbody tr th {\n",
              "        vertical-align: top;\n",
              "    }\n",
              "\n",
              "    .dataframe thead th {\n",
              "        text-align: right;\n",
              "    }\n",
              "</style>\n",
              "<table border=\"1\" class=\"dataframe\">\n",
              "  <thead>\n",
              "    <tr style=\"text-align: right;\">\n",
              "      <th></th>\n",
              "      <th>country</th>\n",
              "      <th>date</th>\n",
              "      <th>confirmed</th>\n",
              "      <th>deaths</th>\n",
              "      <th>recovered</th>\n",
              "      <th>new_confirmed</th>\n",
              "      <th>new_deaths</th>\n",
              "    </tr>\n",
              "  </thead>\n",
              "  <tbody>\n",
              "    <tr>\n",
              "      <th>0</th>\n",
              "      <td>Canada</td>\n",
              "      <td>2020-01-22</td>\n",
              "      <td>0</td>\n",
              "      <td>0</td>\n",
              "      <td>0</td>\n",
              "      <td>NaN</td>\n",
              "      <td>NaN</td>\n",
              "    </tr>\n",
              "    <tr>\n",
              "      <th>1</th>\n",
              "      <td>Canada</td>\n",
              "      <td>2020-01-23</td>\n",
              "      <td>0</td>\n",
              "      <td>0</td>\n",
              "      <td>0</td>\n",
              "      <td>0.0</td>\n",
              "      <td>0.0</td>\n",
              "    </tr>\n",
              "    <tr>\n",
              "      <th>2</th>\n",
              "      <td>Canada</td>\n",
              "      <td>2020-01-24</td>\n",
              "      <td>0</td>\n",
              "      <td>0</td>\n",
              "      <td>0</td>\n",
              "      <td>0.0</td>\n",
              "      <td>0.0</td>\n",
              "    </tr>\n",
              "    <tr>\n",
              "      <th>3</th>\n",
              "      <td>Canada</td>\n",
              "      <td>2020-01-25</td>\n",
              "      <td>0</td>\n",
              "      <td>0</td>\n",
              "      <td>0</td>\n",
              "      <td>0.0</td>\n",
              "      <td>0.0</td>\n",
              "    </tr>\n",
              "    <tr>\n",
              "      <th>4</th>\n",
              "      <td>Canada</td>\n",
              "      <td>2020-01-26</td>\n",
              "      <td>1</td>\n",
              "      <td>0</td>\n",
              "      <td>0</td>\n",
              "      <td>1.0</td>\n",
              "      <td>0.0</td>\n",
              "    </tr>\n",
              "    <tr>\n",
              "      <th>5</th>\n",
              "      <td>Canada</td>\n",
              "      <td>2020-01-27</td>\n",
              "      <td>1</td>\n",
              "      <td>0</td>\n",
              "      <td>0</td>\n",
              "      <td>0.0</td>\n",
              "      <td>0.0</td>\n",
              "    </tr>\n",
              "    <tr>\n",
              "      <th>6</th>\n",
              "      <td>Canada</td>\n",
              "      <td>2020-01-28</td>\n",
              "      <td>2</td>\n",
              "      <td>0</td>\n",
              "      <td>0</td>\n",
              "      <td>1.0</td>\n",
              "      <td>0.0</td>\n",
              "    </tr>\n",
              "    <tr>\n",
              "      <th>7</th>\n",
              "      <td>Canada</td>\n",
              "      <td>2020-01-29</td>\n",
              "      <td>2</td>\n",
              "      <td>0</td>\n",
              "      <td>0</td>\n",
              "      <td>0.0</td>\n",
              "      <td>0.0</td>\n",
              "    </tr>\n",
              "    <tr>\n",
              "      <th>8</th>\n",
              "      <td>Canada</td>\n",
              "      <td>2020-01-30</td>\n",
              "      <td>2</td>\n",
              "      <td>0</td>\n",
              "      <td>0</td>\n",
              "      <td>0.0</td>\n",
              "      <td>0.0</td>\n",
              "    </tr>\n",
              "    <tr>\n",
              "      <th>9</th>\n",
              "      <td>Canada</td>\n",
              "      <td>2020-01-31</td>\n",
              "      <td>4</td>\n",
              "      <td>0</td>\n",
              "      <td>0</td>\n",
              "      <td>2.0</td>\n",
              "      <td>0.0</td>\n",
              "    </tr>\n",
              "  </tbody>\n",
              "</table>\n",
              "</div>"
            ],
            "text/plain": [
              "  country       date  confirmed  deaths  recovered  new_confirmed  new_deaths\n",
              "0  Canada 2020-01-22          0       0          0            NaN         NaN\n",
              "1  Canada 2020-01-23          0       0          0            0.0         0.0\n",
              "2  Canada 2020-01-24          0       0          0            0.0         0.0\n",
              "3  Canada 2020-01-25          0       0          0            0.0         0.0\n",
              "4  Canada 2020-01-26          1       0          0            1.0         0.0\n",
              "5  Canada 2020-01-27          1       0          0            0.0         0.0\n",
              "6  Canada 2020-01-28          2       0          0            1.0         0.0\n",
              "7  Canada 2020-01-29          2       0          0            0.0         0.0\n",
              "8  Canada 2020-01-30          2       0          0            0.0         0.0\n",
              "9  Canada 2020-01-31          4       0          0            2.0         0.0"
            ]
          },
          "metadata": {
            "tags": []
          },
          "execution_count": 22
        }
      ]
    },
    {
      "cell_type": "code",
      "metadata": {
        "id": "IgGORDs6MsvL",
        "colab_type": "code",
        "outputId": "7e9162ed-dc52-4fc3-93bf-39030a3ea6a4",
        "colab": {
          "base_uri": "https://localhost:8080/"
        }
      },
      "source": [
        "canada_df.tail()"
      ],
      "execution_count": 0,
      "outputs": [
        {
          "output_type": "execute_result",
          "data": {
            "text/html": [
              "<div>\n",
              "<style scoped>\n",
              "    .dataframe tbody tr th:only-of-type {\n",
              "        vertical-align: middle;\n",
              "    }\n",
              "\n",
              "    .dataframe tbody tr th {\n",
              "        vertical-align: top;\n",
              "    }\n",
              "\n",
              "    .dataframe thead th {\n",
              "        text-align: right;\n",
              "    }\n",
              "</style>\n",
              "<table border=\"1\" class=\"dataframe\">\n",
              "  <thead>\n",
              "    <tr style=\"text-align: right;\">\n",
              "      <th></th>\n",
              "      <th>country</th>\n",
              "      <th>date</th>\n",
              "      <th>confirmed</th>\n",
              "      <th>deaths</th>\n",
              "      <th>recovered</th>\n",
              "      <th>new_confirmed</th>\n",
              "      <th>new_deaths</th>\n",
              "    </tr>\n",
              "  </thead>\n",
              "  <tbody>\n",
              "    <tr>\n",
              "      <th>79</th>\n",
              "      <td>Canada</td>\n",
              "      <td>2020-04-10</td>\n",
              "      <td>22059</td>\n",
              "      <td>557</td>\n",
              "      <td>5855</td>\n",
              "      <td>1405.0</td>\n",
              "      <td>54.0</td>\n",
              "    </tr>\n",
              "    <tr>\n",
              "      <th>80</th>\n",
              "      <td>Canada</td>\n",
              "      <td>2020-04-11</td>\n",
              "      <td>23316</td>\n",
              "      <td>654</td>\n",
              "      <td>6589</td>\n",
              "      <td>1257.0</td>\n",
              "      <td>97.0</td>\n",
              "    </tr>\n",
              "    <tr>\n",
              "      <th>81</th>\n",
              "      <td>Canada</td>\n",
              "      <td>2020-04-12</td>\n",
              "      <td>24298</td>\n",
              "      <td>714</td>\n",
              "      <td>7123</td>\n",
              "      <td>982.0</td>\n",
              "      <td>60.0</td>\n",
              "    </tr>\n",
              "    <tr>\n",
              "      <th>82</th>\n",
              "      <td>Canada</td>\n",
              "      <td>2020-04-13</td>\n",
              "      <td>25679</td>\n",
              "      <td>779</td>\n",
              "      <td>7758</td>\n",
              "      <td>1381.0</td>\n",
              "      <td>65.0</td>\n",
              "    </tr>\n",
              "    <tr>\n",
              "      <th>83</th>\n",
              "      <td>Canada</td>\n",
              "      <td>2020-04-14</td>\n",
              "      <td>27034</td>\n",
              "      <td>899</td>\n",
              "      <td>8210</td>\n",
              "      <td>1355.0</td>\n",
              "      <td>120.0</td>\n",
              "    </tr>\n",
              "  </tbody>\n",
              "</table>\n",
              "</div>"
            ],
            "text/plain": [
              "   country       date  confirmed  deaths  recovered  new_confirmed  new_deaths\n",
              "79  Canada 2020-04-10      22059     557       5855         1405.0        54.0\n",
              "80  Canada 2020-04-11      23316     654       6589         1257.0        97.0\n",
              "81  Canada 2020-04-12      24298     714       7123          982.0        60.0\n",
              "82  Canada 2020-04-13      25679     779       7758         1381.0        65.0\n",
              "83  Canada 2020-04-14      27034     899       8210         1355.0       120.0"
            ]
          },
          "metadata": {
            "tags": []
          },
          "execution_count": 23
        }
      ]
    },
    {
      "cell_type": "code",
      "metadata": {
        "id": "QG590pNnZNRq",
        "colab_type": "code",
        "outputId": "79b07f86-5ae1-4e52-b07d-63532812e76c",
        "colab": {
          "base_uri": "https://localhost:8080/"
        }
      },
      "source": [
        "canada_df.info()"
      ],
      "execution_count": 0,
      "outputs": [
        {
          "output_type": "stream",
          "text": [
            "<class 'pandas.core.frame.DataFrame'>\n",
            "RangeIndex: 84 entries, 0 to 83\n",
            "Data columns (total 7 columns):\n",
            " #   Column         Non-Null Count  Dtype         \n",
            "---  ------         --------------  -----         \n",
            " 0   country        84 non-null     object        \n",
            " 1   date           84 non-null     datetime64[ns]\n",
            " 2   confirmed      84 non-null     int64         \n",
            " 3   deaths         84 non-null     int64         \n",
            " 4   recovered      84 non-null     int64         \n",
            " 5   new_confirmed  83 non-null     float64       \n",
            " 6   new_deaths     83 non-null     float64       \n",
            "dtypes: datetime64[ns](1), float64(2), int64(3), object(1)\n",
            "memory usage: 4.7+ KB\n"
          ],
          "name": "stdout"
        }
      ]
    },
    {
      "cell_type": "code",
      "metadata": {
        "id": "TXr2eaoKYpC-",
        "colab_type": "code",
        "colab": {}
      },
      "source": [
        "canada_df.set_index('date', inplace=True)"
      ],
      "execution_count": 0,
      "outputs": []
    },
    {
      "cell_type": "code",
      "metadata": {
        "id": "w4D5e9mGYwl-",
        "colab_type": "code",
        "outputId": "83a2a358-8e41-4d65-aa66-cc3de2105ecf",
        "colab": {
          "base_uri": "https://localhost:8080/"
        }
      },
      "source": [
        "canada_df.head(10)"
      ],
      "execution_count": 0,
      "outputs": [
        {
          "output_type": "execute_result",
          "data": {
            "text/html": [
              "<div>\n",
              "<style scoped>\n",
              "    .dataframe tbody tr th:only-of-type {\n",
              "        vertical-align: middle;\n",
              "    }\n",
              "\n",
              "    .dataframe tbody tr th {\n",
              "        vertical-align: top;\n",
              "    }\n",
              "\n",
              "    .dataframe thead th {\n",
              "        text-align: right;\n",
              "    }\n",
              "</style>\n",
              "<table border=\"1\" class=\"dataframe\">\n",
              "  <thead>\n",
              "    <tr style=\"text-align: right;\">\n",
              "      <th></th>\n",
              "      <th>country</th>\n",
              "      <th>confirmed</th>\n",
              "      <th>deaths</th>\n",
              "      <th>recovered</th>\n",
              "      <th>new_confirmed</th>\n",
              "      <th>new_deaths</th>\n",
              "    </tr>\n",
              "    <tr>\n",
              "      <th>date</th>\n",
              "      <th></th>\n",
              "      <th></th>\n",
              "      <th></th>\n",
              "      <th></th>\n",
              "      <th></th>\n",
              "      <th></th>\n",
              "    </tr>\n",
              "  </thead>\n",
              "  <tbody>\n",
              "    <tr>\n",
              "      <th>2020-01-22</th>\n",
              "      <td>Canada</td>\n",
              "      <td>0</td>\n",
              "      <td>0</td>\n",
              "      <td>0</td>\n",
              "      <td>NaN</td>\n",
              "      <td>NaN</td>\n",
              "    </tr>\n",
              "    <tr>\n",
              "      <th>2020-01-23</th>\n",
              "      <td>Canada</td>\n",
              "      <td>0</td>\n",
              "      <td>0</td>\n",
              "      <td>0</td>\n",
              "      <td>0.0</td>\n",
              "      <td>0.0</td>\n",
              "    </tr>\n",
              "    <tr>\n",
              "      <th>2020-01-24</th>\n",
              "      <td>Canada</td>\n",
              "      <td>0</td>\n",
              "      <td>0</td>\n",
              "      <td>0</td>\n",
              "      <td>0.0</td>\n",
              "      <td>0.0</td>\n",
              "    </tr>\n",
              "    <tr>\n",
              "      <th>2020-01-25</th>\n",
              "      <td>Canada</td>\n",
              "      <td>0</td>\n",
              "      <td>0</td>\n",
              "      <td>0</td>\n",
              "      <td>0.0</td>\n",
              "      <td>0.0</td>\n",
              "    </tr>\n",
              "    <tr>\n",
              "      <th>2020-01-26</th>\n",
              "      <td>Canada</td>\n",
              "      <td>1</td>\n",
              "      <td>0</td>\n",
              "      <td>0</td>\n",
              "      <td>1.0</td>\n",
              "      <td>0.0</td>\n",
              "    </tr>\n",
              "    <tr>\n",
              "      <th>2020-01-27</th>\n",
              "      <td>Canada</td>\n",
              "      <td>1</td>\n",
              "      <td>0</td>\n",
              "      <td>0</td>\n",
              "      <td>0.0</td>\n",
              "      <td>0.0</td>\n",
              "    </tr>\n",
              "    <tr>\n",
              "      <th>2020-01-28</th>\n",
              "      <td>Canada</td>\n",
              "      <td>2</td>\n",
              "      <td>0</td>\n",
              "      <td>0</td>\n",
              "      <td>1.0</td>\n",
              "      <td>0.0</td>\n",
              "    </tr>\n",
              "    <tr>\n",
              "      <th>2020-01-29</th>\n",
              "      <td>Canada</td>\n",
              "      <td>2</td>\n",
              "      <td>0</td>\n",
              "      <td>0</td>\n",
              "      <td>0.0</td>\n",
              "      <td>0.0</td>\n",
              "    </tr>\n",
              "    <tr>\n",
              "      <th>2020-01-30</th>\n",
              "      <td>Canada</td>\n",
              "      <td>2</td>\n",
              "      <td>0</td>\n",
              "      <td>0</td>\n",
              "      <td>0.0</td>\n",
              "      <td>0.0</td>\n",
              "    </tr>\n",
              "    <tr>\n",
              "      <th>2020-01-31</th>\n",
              "      <td>Canada</td>\n",
              "      <td>4</td>\n",
              "      <td>0</td>\n",
              "      <td>0</td>\n",
              "      <td>2.0</td>\n",
              "      <td>0.0</td>\n",
              "    </tr>\n",
              "  </tbody>\n",
              "</table>\n",
              "</div>"
            ],
            "text/plain": [
              "           country  confirmed  deaths  recovered  new_confirmed  new_deaths\n",
              "date                                                                       \n",
              "2020-01-22  Canada          0       0          0            NaN         NaN\n",
              "2020-01-23  Canada          0       0          0            0.0         0.0\n",
              "2020-01-24  Canada          0       0          0            0.0         0.0\n",
              "2020-01-25  Canada          0       0          0            0.0         0.0\n",
              "2020-01-26  Canada          1       0          0            1.0         0.0\n",
              "2020-01-27  Canada          1       0          0            0.0         0.0\n",
              "2020-01-28  Canada          2       0          0            1.0         0.0\n",
              "2020-01-29  Canada          2       0          0            0.0         0.0\n",
              "2020-01-30  Canada          2       0          0            0.0         0.0\n",
              "2020-01-31  Canada          4       0          0            2.0         0.0"
            ]
          },
          "metadata": {
            "tags": []
          },
          "execution_count": 26
        }
      ]
    },
    {
      "cell_type": "markdown",
      "metadata": {
        "id": "35Yjn74MYXao",
        "colab_type": "text"
      },
      "source": [
        "## Data Split"
      ]
    },
    {
      "cell_type": "markdown",
      "metadata": {
        "id": "AV-h_nDdYZT-",
        "colab_type": "text"
      },
      "source": [
        "Take data before `2020-04-01` as training while data after as test"
      ]
    },
    {
      "cell_type": "code",
      "metadata": {
        "id": "arnzMCHsVzVu",
        "colab_type": "code",
        "colab": {}
      },
      "source": [
        "train = canada_df.loc[:'2020-04-01']\n",
        "test = canada_df.loc['2020-04-02':]"
      ],
      "execution_count": 0,
      "outputs": []
    },
    {
      "cell_type": "code",
      "metadata": {
        "id": "BNG5d2O4ZwBH",
        "colab_type": "code",
        "outputId": "71570cb9-edb9-4fd7-9a0f-d50d2a2ada16",
        "colab": {
          "base_uri": "https://localhost:8080/"
        }
      },
      "source": [
        "train.tail()"
      ],
      "execution_count": 0,
      "outputs": [
        {
          "output_type": "execute_result",
          "data": {
            "text/html": [
              "<div>\n",
              "<style scoped>\n",
              "    .dataframe tbody tr th:only-of-type {\n",
              "        vertical-align: middle;\n",
              "    }\n",
              "\n",
              "    .dataframe tbody tr th {\n",
              "        vertical-align: top;\n",
              "    }\n",
              "\n",
              "    .dataframe thead th {\n",
              "        text-align: right;\n",
              "    }\n",
              "</style>\n",
              "<table border=\"1\" class=\"dataframe\">\n",
              "  <thead>\n",
              "    <tr style=\"text-align: right;\">\n",
              "      <th></th>\n",
              "      <th>country</th>\n",
              "      <th>confirmed</th>\n",
              "      <th>deaths</th>\n",
              "      <th>recovered</th>\n",
              "      <th>new_confirmed</th>\n",
              "      <th>new_deaths</th>\n",
              "    </tr>\n",
              "    <tr>\n",
              "      <th>date</th>\n",
              "      <th></th>\n",
              "      <th></th>\n",
              "      <th></th>\n",
              "      <th></th>\n",
              "      <th></th>\n",
              "      <th></th>\n",
              "    </tr>\n",
              "  </thead>\n",
              "  <tbody>\n",
              "    <tr>\n",
              "      <th>2020-03-28</th>\n",
              "      <td>Canada</td>\n",
              "      <td>5576</td>\n",
              "      <td>61</td>\n",
              "      <td>466</td>\n",
              "      <td>894.0</td>\n",
              "      <td>7.0</td>\n",
              "    </tr>\n",
              "    <tr>\n",
              "      <th>2020-03-29</th>\n",
              "      <td>Canada</td>\n",
              "      <td>6280</td>\n",
              "      <td>64</td>\n",
              "      <td>466</td>\n",
              "      <td>704.0</td>\n",
              "      <td>3.0</td>\n",
              "    </tr>\n",
              "    <tr>\n",
              "      <th>2020-03-30</th>\n",
              "      <td>Canada</td>\n",
              "      <td>7398</td>\n",
              "      <td>80</td>\n",
              "      <td>466</td>\n",
              "      <td>1118.0</td>\n",
              "      <td>16.0</td>\n",
              "    </tr>\n",
              "    <tr>\n",
              "      <th>2020-03-31</th>\n",
              "      <td>Canada</td>\n",
              "      <td>8527</td>\n",
              "      <td>101</td>\n",
              "      <td>1592</td>\n",
              "      <td>1129.0</td>\n",
              "      <td>21.0</td>\n",
              "    </tr>\n",
              "    <tr>\n",
              "      <th>2020-04-01</th>\n",
              "      <td>Canada</td>\n",
              "      <td>9560</td>\n",
              "      <td>109</td>\n",
              "      <td>1324</td>\n",
              "      <td>1033.0</td>\n",
              "      <td>8.0</td>\n",
              "    </tr>\n",
              "  </tbody>\n",
              "</table>\n",
              "</div>"
            ],
            "text/plain": [
              "           country  confirmed  deaths  recovered  new_confirmed  new_deaths\n",
              "date                                                                       \n",
              "2020-03-28  Canada       5576      61        466          894.0         7.0\n",
              "2020-03-29  Canada       6280      64        466          704.0         3.0\n",
              "2020-03-30  Canada       7398      80        466         1118.0        16.0\n",
              "2020-03-31  Canada       8527     101       1592         1129.0        21.0\n",
              "2020-04-01  Canada       9560     109       1324         1033.0         8.0"
            ]
          },
          "metadata": {
            "tags": []
          },
          "execution_count": 28
        }
      ]
    },
    {
      "cell_type": "code",
      "metadata": {
        "id": "Pwx6YPMnuN8-",
        "colab_type": "code",
        "colab": {}
      },
      "source": [
        "#train.reset_index(drop=True, inplace=True)"
      ],
      "execution_count": 0,
      "outputs": []
    },
    {
      "cell_type": "markdown",
      "metadata": {
        "id": "s-EKnjnkwYNg",
        "colab_type": "text"
      },
      "source": [
        "Want to rearrange the data set to be of the form\n",
        "```\n",
        "    | var(t-n) | var(t-(n-1)) | ... | var(t-1) | var(t) |\n",
        "    ---------------------------------------------------- \n",
        "  0 |\n",
        "  1 |\n",
        "```\n",
        "where the far right column is the output forecasting variable (i.e., y) and the columns on its left are the input variables."
      ]
    },
    {
      "cell_type": "code",
      "metadata": {
        "id": "DHpUpa_PnC3A",
        "colab_type": "code",
        "outputId": "5b85007a-2184-4b40-ebb3-2edcb9f7ae0a",
        "colab": {
          "base_uri": "https://localhost:8080/"
        }
      },
      "source": [
        "\"\"\"\n",
        "PROTOTYPE\n",
        "\n",
        "temp = canada_df.copy()\n",
        "target = 'confirmed'\n",
        "x=[]\n",
        "y=[]\n",
        "n_steps = 7\n",
        "sequence=list(temp[target])\n",
        "for i in range(len(sequence)):\n",
        "    end_ix = i + n_steps\n",
        "    if end_ix > len(sequence)-1:\n",
        "        break\n",
        "    seq_x, seq_y = sequence[i:end_ix], sequence[end_ix]\n",
        "    if(seq_y!=0):\n",
        "        x.append(seq_x)   \n",
        "        y.append(seq_y)\n",
        "\"\"\""
      ],
      "execution_count": 0,
      "outputs": [
        {
          "output_type": "execute_result",
          "data": {
            "text/plain": [
              "\"\\nPROTOTYPE\\n\\ntemp = canada_df.copy()\\ntarget = 'confirmed'\\nx=[]\\ny=[]\\nn_steps = 7\\nsequence=list(temp[target])\\nfor i in range(len(sequence)):\\n    end_ix = i + n_steps\\n    if end_ix > len(sequence)-1:\\n        break\\n    seq_x, seq_y = sequence[i:end_ix], sequence[end_ix]\\n    if(seq_y!=0):\\n        x.append(seq_x)   \\n        y.append(seq_y)\\n\""
            ]
          },
          "metadata": {
            "tags": []
          },
          "execution_count": 30
        }
      ]
    },
    {
      "cell_type": "code",
      "metadata": {
        "id": "lHBNlcXNsYxr",
        "colab_type": "code",
        "colab": {}
      },
      "source": [
        "def series_to_supervised(data, n_in=1, n_out=1, dropnan=True):\n",
        "  \"\"\"\n",
        "\tFrame a time series as a supervised learning dataset.\n",
        "\tArguments:\n",
        "\t\tdata: Sequence of observations as a list or NumPy array.\n",
        "\t\tn_in: Number of lag observations as input (X).\n",
        "\t\tn_out: Number of observations as output (y).\n",
        "\t\tdropnan: Boolean whether or not to drop rows with NaN values.\n",
        "\tReturns:\n",
        "\t\tPandas DataFrame of series framed for supervised learning.\n",
        "\n",
        "  SOURCE: ML Mastery time series tutorial\n",
        "\t\"\"\"\n",
        "  # Determine the number of input variables\n",
        "  n_vars = 1 if type(data) is list else data.shape[0]\n",
        "  df = pd.DataFrame(data)\n",
        "  cols, names = list(), list()\n",
        "\t# input sequence (t-n, ... t-1)\n",
        "  for i in range(n_in, 0, -1):\n",
        "    cols.append(df.shift(i))\n",
        "    names += [('var%d(t-%d)' % (j+1, i)) for j in range(n_vars)]\n",
        "\t# forecast sequence (t, t+1, ... t+n)\n",
        "  for i in range(0, n_out):\n",
        "    cols.append(df.shift(-i))\n",
        "    if i == 0:\n",
        "      names += [('var%d(t)' % (j+1)) for j in range(n_vars)]\n",
        "    else:\n",
        "      names += [('var%d(t+%d)' % (j+1, i)) for j in range(n_vars)]\n",
        "\t# put it all together\n",
        "  agg = pd.concat(cols, axis=1)\n",
        "  agg.columns = names\n",
        "\t# drop rows with NaN values\n",
        "  if dropnan:\n",
        "    agg.dropna(inplace=True)\n",
        "  return agg"
      ],
      "execution_count": 0,
      "outputs": []
    },
    {
      "cell_type": "code",
      "metadata": {
        "id": "AKthy5vRxqZU",
        "colab_type": "code",
        "colab": {}
      },
      "source": [
        "confirmed = canada_df['confirmed'].tolist()"
      ],
      "execution_count": 0,
      "outputs": []
    },
    {
      "cell_type": "code",
      "metadata": {
        "id": "jS7oudWCtnHz",
        "colab_type": "code",
        "colab": {}
      },
      "source": [
        "agg = series_to_supervised(confirmed, 7)"
      ],
      "execution_count": 0,
      "outputs": []
    },
    {
      "cell_type": "code",
      "metadata": {
        "id": "lAeEQ2n8xN4I",
        "colab_type": "code",
        "outputId": "236a934a-e9cc-438e-bf45-716328296019",
        "colab": {
          "base_uri": "https://localhost:8080/"
        }
      },
      "source": [
        "agg.head()"
      ],
      "execution_count": 0,
      "outputs": [
        {
          "output_type": "execute_result",
          "data": {
            "text/html": [
              "<div>\n",
              "<style scoped>\n",
              "    .dataframe tbody tr th:only-of-type {\n",
              "        vertical-align: middle;\n",
              "    }\n",
              "\n",
              "    .dataframe tbody tr th {\n",
              "        vertical-align: top;\n",
              "    }\n",
              "\n",
              "    .dataframe thead th {\n",
              "        text-align: right;\n",
              "    }\n",
              "</style>\n",
              "<table border=\"1\" class=\"dataframe\">\n",
              "  <thead>\n",
              "    <tr style=\"text-align: right;\">\n",
              "      <th></th>\n",
              "      <th>var1(t-7)</th>\n",
              "      <th>var1(t-6)</th>\n",
              "      <th>var1(t-5)</th>\n",
              "      <th>var1(t-4)</th>\n",
              "      <th>var1(t-3)</th>\n",
              "      <th>var1(t-2)</th>\n",
              "      <th>var1(t-1)</th>\n",
              "      <th>var1(t)</th>\n",
              "    </tr>\n",
              "  </thead>\n",
              "  <tbody>\n",
              "    <tr>\n",
              "      <th>7</th>\n",
              "      <td>0.0</td>\n",
              "      <td>0.0</td>\n",
              "      <td>0.0</td>\n",
              "      <td>0.0</td>\n",
              "      <td>1.0</td>\n",
              "      <td>1.0</td>\n",
              "      <td>2.0</td>\n",
              "      <td>2</td>\n",
              "    </tr>\n",
              "    <tr>\n",
              "      <th>8</th>\n",
              "      <td>0.0</td>\n",
              "      <td>0.0</td>\n",
              "      <td>0.0</td>\n",
              "      <td>1.0</td>\n",
              "      <td>1.0</td>\n",
              "      <td>2.0</td>\n",
              "      <td>2.0</td>\n",
              "      <td>2</td>\n",
              "    </tr>\n",
              "    <tr>\n",
              "      <th>9</th>\n",
              "      <td>0.0</td>\n",
              "      <td>0.0</td>\n",
              "      <td>1.0</td>\n",
              "      <td>1.0</td>\n",
              "      <td>2.0</td>\n",
              "      <td>2.0</td>\n",
              "      <td>2.0</td>\n",
              "      <td>4</td>\n",
              "    </tr>\n",
              "    <tr>\n",
              "      <th>10</th>\n",
              "      <td>0.0</td>\n",
              "      <td>1.0</td>\n",
              "      <td>1.0</td>\n",
              "      <td>2.0</td>\n",
              "      <td>2.0</td>\n",
              "      <td>2.0</td>\n",
              "      <td>4.0</td>\n",
              "      <td>4</td>\n",
              "    </tr>\n",
              "    <tr>\n",
              "      <th>11</th>\n",
              "      <td>1.0</td>\n",
              "      <td>1.0</td>\n",
              "      <td>2.0</td>\n",
              "      <td>2.0</td>\n",
              "      <td>2.0</td>\n",
              "      <td>4.0</td>\n",
              "      <td>4.0</td>\n",
              "      <td>4</td>\n",
              "    </tr>\n",
              "  </tbody>\n",
              "</table>\n",
              "</div>"
            ],
            "text/plain": [
              "    var1(t-7)  var1(t-6)  var1(t-5)  ...  var1(t-2)  var1(t-1)  var1(t)\n",
              "7         0.0        0.0        0.0  ...        1.0        2.0        2\n",
              "8         0.0        0.0        0.0  ...        2.0        2.0        2\n",
              "9         0.0        0.0        1.0  ...        2.0        2.0        4\n",
              "10        0.0        1.0        1.0  ...        2.0        4.0        4\n",
              "11        1.0        1.0        2.0  ...        4.0        4.0        4\n",
              "\n",
              "[5 rows x 8 columns]"
            ]
          },
          "metadata": {
            "tags": []
          },
          "execution_count": 34
        }
      ]
    },
    {
      "cell_type": "code",
      "metadata": {
        "id": "sSLpUoScJlmW",
        "colab_type": "code",
        "colab": {}
      },
      "source": [
        "train_val_c = train['confirmed'].tolist()\n",
        "test_c = test['confirmed'].tolist()\n",
        "\n",
        "train_val_d = train['confirmed'].tolist()\n",
        "test_d = test['confirmed'].tolist()"
      ],
      "execution_count": 0,
      "outputs": []
    },
    {
      "cell_type": "markdown",
      "metadata": {
        "id": "d50f9ZUZbQIz",
        "colab_type": "text"
      },
      "source": [
        "## Further split train for validation"
      ]
    },
    {
      "cell_type": "code",
      "metadata": {
        "id": "3B7o5aFNJPEj",
        "colab_type": "code",
        "colab": {}
      },
      "source": [
        "train_val_c_agg = series_to_supervised(train_val_c, 7)"
      ],
      "execution_count": 0,
      "outputs": []
    },
    {
      "cell_type": "code",
      "metadata": {
        "id": "QhFif6ykJ6Gm",
        "colab_type": "code",
        "outputId": "63b42a66-8d2d-4ae5-80c0-bef90a540662",
        "colab": {
          "base_uri": "https://localhost:8080/",
          "height": 204
        }
      },
      "source": [
        "train_val_c_agg.head()"
      ],
      "execution_count": 0,
      "outputs": [
        {
          "output_type": "execute_result",
          "data": {
            "text/html": [
              "<div>\n",
              "<style scoped>\n",
              "    .dataframe tbody tr th:only-of-type {\n",
              "        vertical-align: middle;\n",
              "    }\n",
              "\n",
              "    .dataframe tbody tr th {\n",
              "        vertical-align: top;\n",
              "    }\n",
              "\n",
              "    .dataframe thead th {\n",
              "        text-align: right;\n",
              "    }\n",
              "</style>\n",
              "<table border=\"1\" class=\"dataframe\">\n",
              "  <thead>\n",
              "    <tr style=\"text-align: right;\">\n",
              "      <th></th>\n",
              "      <th>var1(t-7)</th>\n",
              "      <th>var1(t-6)</th>\n",
              "      <th>var1(t-5)</th>\n",
              "      <th>var1(t-4)</th>\n",
              "      <th>var1(t-3)</th>\n",
              "      <th>var1(t-2)</th>\n",
              "      <th>var1(t-1)</th>\n",
              "      <th>var1(t)</th>\n",
              "    </tr>\n",
              "  </thead>\n",
              "  <tbody>\n",
              "    <tr>\n",
              "      <th>7</th>\n",
              "      <td>0.0</td>\n",
              "      <td>0.0</td>\n",
              "      <td>0.0</td>\n",
              "      <td>0.0</td>\n",
              "      <td>1.0</td>\n",
              "      <td>1.0</td>\n",
              "      <td>2.0</td>\n",
              "      <td>2</td>\n",
              "    </tr>\n",
              "    <tr>\n",
              "      <th>8</th>\n",
              "      <td>0.0</td>\n",
              "      <td>0.0</td>\n",
              "      <td>0.0</td>\n",
              "      <td>1.0</td>\n",
              "      <td>1.0</td>\n",
              "      <td>2.0</td>\n",
              "      <td>2.0</td>\n",
              "      <td>2</td>\n",
              "    </tr>\n",
              "    <tr>\n",
              "      <th>9</th>\n",
              "      <td>0.0</td>\n",
              "      <td>0.0</td>\n",
              "      <td>1.0</td>\n",
              "      <td>1.0</td>\n",
              "      <td>2.0</td>\n",
              "      <td>2.0</td>\n",
              "      <td>2.0</td>\n",
              "      <td>4</td>\n",
              "    </tr>\n",
              "    <tr>\n",
              "      <th>10</th>\n",
              "      <td>0.0</td>\n",
              "      <td>1.0</td>\n",
              "      <td>1.0</td>\n",
              "      <td>2.0</td>\n",
              "      <td>2.0</td>\n",
              "      <td>2.0</td>\n",
              "      <td>4.0</td>\n",
              "      <td>4</td>\n",
              "    </tr>\n",
              "    <tr>\n",
              "      <th>11</th>\n",
              "      <td>1.0</td>\n",
              "      <td>1.0</td>\n",
              "      <td>2.0</td>\n",
              "      <td>2.0</td>\n",
              "      <td>2.0</td>\n",
              "      <td>4.0</td>\n",
              "      <td>4.0</td>\n",
              "      <td>4</td>\n",
              "    </tr>\n",
              "  </tbody>\n",
              "</table>\n",
              "</div>"
            ],
            "text/plain": [
              "    var1(t-7)  var1(t-6)  var1(t-5)  ...  var1(t-2)  var1(t-1)  var1(t)\n",
              "7         0.0        0.0        0.0  ...        1.0        2.0        2\n",
              "8         0.0        0.0        0.0  ...        2.0        2.0        2\n",
              "9         0.0        0.0        1.0  ...        2.0        2.0        4\n",
              "10        0.0        1.0        1.0  ...        2.0        4.0        4\n",
              "11        1.0        1.0        2.0  ...        4.0        4.0        4\n",
              "\n",
              "[5 rows x 8 columns]"
            ]
          },
          "metadata": {
            "tags": []
          },
          "execution_count": 37
        }
      ]
    },
    {
      "cell_type": "code",
      "metadata": {
        "id": "PF7u5bj8Wtno",
        "colab_type": "code",
        "colab": {}
      },
      "source": [
        "X_tv_c = train_val_c_agg.drop(columns=['var1(t)']).to_numpy()\n",
        "y_tv_c = train_val_c_agg['var1(t)'].to_numpy()"
      ],
      "execution_count": 0,
      "outputs": []
    },
    {
      "cell_type": "code",
      "metadata": {
        "id": "YrzK3MQ_HxXz",
        "colab_type": "code",
        "outputId": "6c6460d6-51a0-40eb-c6f6-f28c026ca4e5",
        "colab": {
          "base_uri": "https://localhost:8080/",
          "height": 119
        }
      },
      "source": [
        "y_tv_c"
      ],
      "execution_count": 0,
      "outputs": [
        {
          "output_type": "execute_result",
          "data": {
            "text/plain": [
              "array([   2,    2,    4,    4,    4,    4,    4,    5,    5,    7,    7,\n",
              "          7,    7,    7,    7,    7,    7,    7,    7,    8,    8,    8,\n",
              "          8,    9,    9,    9,   10,   11,   11,   13,   14,   20,   24,\n",
              "         27,   30,   33,   37,   49,   54,   64,   77,   79,  108,  117,\n",
              "        193,  198,  252,  415,  478,  657,  800,  943, 1277, 1469, 2088,\n",
              "       2790, 3251, 4042, 4682, 5576, 6280, 7398, 8527, 9560])"
            ]
          },
          "metadata": {
            "tags": []
          },
          "execution_count": 69
        }
      ]
    },
    {
      "cell_type": "markdown",
      "metadata": {
        "id": "LT4Tm3praxuT",
        "colab_type": "text"
      },
      "source": [
        "## Reshape for LSTM\n",
        "\n",
        "Must be in the form:\n",
        "\n",
        "```[samples, timesteps, features]```"
      ]
    },
    {
      "cell_type": "code",
      "metadata": {
        "id": "wM5PUaGAW5is",
        "colab_type": "code",
        "colab": {}
      },
      "source": [
        "X_tv_c = X_tv_c.reshape((X_tv_c.shape[0], 1, X_tv_c.shape[1]))"
      ],
      "execution_count": 0,
      "outputs": []
    },
    {
      "cell_type": "code",
      "metadata": {
        "id": "_zfLh8ZeHwBt",
        "colab_type": "code",
        "colab": {}
      },
      "source": [
        ""
      ],
      "execution_count": 0,
      "outputs": []
    },
    {
      "cell_type": "code",
      "metadata": {
        "id": "XATo-rVva9zj",
        "colab_type": "code",
        "colab": {}
      },
      "source": [
        "X_train_c, X_val_c, y_train_c, y_val_c = train_test_split(X_tv_c, y_tv_c, test_size=0.2, random_state=42)"
      ],
      "execution_count": 0,
      "outputs": []
    },
    {
      "cell_type": "code",
      "metadata": {
        "id": "7m1OoQrUH07d",
        "colab_type": "code",
        "colab": {}
      },
      "source": [
        ""
      ],
      "execution_count": 0,
      "outputs": []
    },
    {
      "cell_type": "code",
      "metadata": {
        "id": "4Dv2cc5FGuhe",
        "colab_type": "code",
        "outputId": "e12e9ad9-4522-4a85-d7b3-2c1f17e57d1d",
        "colab": {
          "base_uri": "https://localhost:8080/",
          "height": 34
        }
      },
      "source": [
        "y_train_c.shape"
      ],
      "execution_count": 0,
      "outputs": [
        {
          "output_type": "execute_result",
          "data": {
            "text/plain": [
              "(51,)"
            ]
          },
          "metadata": {
            "tags": []
          },
          "execution_count": 72
        }
      ]
    },
    {
      "cell_type": "code",
      "metadata": {
        "id": "Qd3DBIQ0HMOj",
        "colab_type": "code",
        "outputId": "e364e801-d2da-476d-d72c-d075ac9ef2a7",
        "colab": {
          "base_uri": "https://localhost:8080/",
          "height": 34
        }
      },
      "source": [
        "X_train_c.shape"
      ],
      "execution_count": 0,
      "outputs": [
        {
          "output_type": "execute_result",
          "data": {
            "text/plain": [
              "(51, 1, 7)"
            ]
          },
          "metadata": {
            "tags": []
          },
          "execution_count": 74
        }
      ]
    },
    {
      "cell_type": "code",
      "metadata": {
        "id": "2bNK5xapE-Go",
        "colab_type": "code",
        "outputId": "097f46f0-62c8-4f65-ed07-08229c11c929",
        "colab": {
          "base_uri": "https://localhost:8080/",
          "height": 34
        }
      },
      "source": [
        "y_val_c.shape"
      ],
      "execution_count": 0,
      "outputs": [
        {
          "output_type": "execute_result",
          "data": {
            "text/plain": [
              "(13,)"
            ]
          },
          "metadata": {
            "tags": []
          },
          "execution_count": 76
        }
      ]
    },
    {
      "cell_type": "markdown",
      "metadata": {
        "id": "qU6xJhOkFAnj",
        "colab_type": "text"
      },
      "source": [
        "# Model Preparation"
      ]
    },
    {
      "cell_type": "code",
      "metadata": {
        "id": "VGtmnZgOFB1n",
        "colab_type": "code",
        "outputId": "ea1727ec-7790-4d55-a20f-0f6d6bd23557",
        "colab": {
          "base_uri": "https://localhost:8080/",
          "height": 68
        }
      },
      "source": [
        "# Initializing model components\n",
        "epochs = 20\n",
        "batch_size = 16\n",
        "n_hidden = 32\n",
        "timesteps = X_train_c.shape[1]\n",
        "input_dim = X_train_c.shape[2]\n",
        "n_features=1\n",
        "n_steps=7\n",
        "print(timesteps)\n",
        "print(input_dim)\n",
        "print(len(X_train_c))"
      ],
      "execution_count": 0,
      "outputs": [
        {
          "output_type": "stream",
          "text": [
            "1\n",
            "7\n",
            "51\n"
          ],
          "name": "stdout"
        }
      ]
    },
    {
      "cell_type": "code",
      "metadata": {
        "id": "OLAIi3lDFL0V",
        "colab_type": "code",
        "outputId": "f985625a-f3aa-4c1d-f606-2b4c021733c5",
        "colab": {
          "base_uri": "https://localhost:8080/",
          "height": 221
        }
      },
      "source": [
        "\n",
        "# define model\n",
        "\n",
        "model = Sequential()\n",
        "model.add(LSTM(50, activation='relu', input_shape=(n_features, n_steps)))\n",
        "model.add(Dense(1))\n",
        "model.summary()\n",
        "model.compile(optimizer='adam', loss=tf.keras.losses.MeanSquaredLogarithmicError())"
      ],
      "execution_count": 0,
      "outputs": [
        {
          "output_type": "stream",
          "text": [
            "Model: \"sequential_8\"\n",
            "_________________________________________________________________\n",
            "Layer (type)                 Output Shape              Param #   \n",
            "=================================================================\n",
            "lstm_7 (LSTM)                (None, 50)                11600     \n",
            "_________________________________________________________________\n",
            "dense_7 (Dense)              (None, 1)                 51        \n",
            "=================================================================\n",
            "Total params: 11,651\n",
            "Trainable params: 11,651\n",
            "Non-trainable params: 0\n",
            "_________________________________________________________________\n"
          ],
          "name": "stdout"
        }
      ]
    },
    {
      "cell_type": "code",
      "metadata": {
        "id": "f-jY6iOvFSOb",
        "colab_type": "code",
        "outputId": "1f37be76-b7bf-40ff-f0fc-7751db2e518f",
        "colab": {
          "base_uri": "https://localhost:8080/",
          "height": 731
        }
      },
      "source": [
        "# fit model\n",
        "model.fit(X_train_c, y_train_c, epochs=epochs, validation_data=(X_val_c, y_val_c), verbose=2)"
      ],
      "execution_count": 0,
      "outputs": [
        {
          "output_type": "stream",
          "text": [
            "Train on 51 samples, validate on 13 samples\n",
            "Epoch 1/20\n",
            " - 0s - loss: 6.0730 - val_loss: 4.8959\n",
            "Epoch 2/20\n",
            " - 0s - loss: 4.6729 - val_loss: 3.9040\n",
            "Epoch 3/20\n",
            " - 0s - loss: 3.8891 - val_loss: 3.4758\n",
            "Epoch 4/20\n",
            " - 0s - loss: 3.3350 - val_loss: 3.1348\n",
            "Epoch 5/20\n",
            " - 0s - loss: 2.9646 - val_loss: 2.8275\n",
            "Epoch 6/20\n",
            " - 0s - loss: 2.5917 - val_loss: 2.5633\n",
            "Epoch 7/20\n",
            " - 0s - loss: 2.2902 - val_loss: 2.1573\n",
            "Epoch 8/20\n",
            " - 0s - loss: 1.9854 - val_loss: 1.8809\n",
            "Epoch 9/20\n",
            " - 0s - loss: 1.7241 - val_loss: 1.6064\n",
            "Epoch 10/20\n",
            " - 0s - loss: 1.4725 - val_loss: 1.4574\n",
            "Epoch 11/20\n",
            " - 0s - loss: 1.1957 - val_loss: 1.2239\n",
            "Epoch 12/20\n",
            " - 0s - loss: 1.0039 - val_loss: 0.9703\n",
            "Epoch 13/20\n",
            " - 0s - loss: 0.8373 - val_loss: 0.7852\n",
            "Epoch 14/20\n",
            " - 0s - loss: 0.7316 - val_loss: 0.6956\n",
            "Epoch 15/20\n",
            " - 0s - loss: 0.6254 - val_loss: 0.6075\n",
            "Epoch 16/20\n",
            " - 0s - loss: 0.5547 - val_loss: 0.5552\n",
            "Epoch 17/20\n",
            " - 0s - loss: 0.5004 - val_loss: 0.5092\n",
            "Epoch 18/20\n",
            " - 0s - loss: 0.4495 - val_loss: 0.4679\n",
            "Epoch 19/20\n",
            " - 0s - loss: 0.4060 - val_loss: 0.4300\n",
            "Epoch 20/20\n",
            " - 0s - loss: 0.3670 - val_loss: 0.3944\n"
          ],
          "name": "stdout"
        },
        {
          "output_type": "execute_result",
          "data": {
            "text/plain": [
              "<keras.callbacks.callbacks.History at 0x7ff7826e2f60>"
            ]
          },
          "metadata": {
            "tags": []
          },
          "execution_count": 84
        }
      ]
    },
    {
      "cell_type": "code",
      "metadata": {
        "id": "HSdINjodGjIL",
        "colab_type": "code",
        "colab": {}
      },
      "source": [
        ""
      ],
      "execution_count": 0,
      "outputs": []
    }
  ]
}